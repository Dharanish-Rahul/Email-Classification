{
  "cells": [
    {
      "cell_type": "markdown",
      "id": "ceebb52a",
      "metadata": {
        "papermill": {
          "duration": 0.009776,
          "end_time": "2022-09-11T18:14:32.473557",
          "exception": false,
          "start_time": "2022-09-11T18:14:32.463781",
          "status": "completed"
        },
        "tags": [],
        "id": "ceebb52a"
      },
      "source": [
        "\n",
        "### Amarjit - 106120011\n",
        "### Dharanish - 106120031\n",
        "### Mithilesh - 106120069"
      ]
    },
    {
      "cell_type": "code",
      "execution_count": null,
      "id": "cd32a0c9",
      "metadata": {
        "_cell_guid": "b1076dfc-b9ad-4769-8c92-a6c4dae69d19",
        "_uuid": "8f2839f25d086af736a60e9eeb907d3b93b6e0e5",
        "execution": {
          "iopub.execute_input": "2022-09-11T18:14:32.491760Z",
          "iopub.status.busy": "2022-09-11T18:14:32.490981Z",
          "iopub.status.idle": "2022-09-11T18:14:35.417054Z",
          "shell.execute_reply": "2022-09-11T18:14:35.415990Z"
        },
        "papermill": {
          "duration": 2.938376,
          "end_time": "2022-09-11T18:14:35.420086",
          "exception": false,
          "start_time": "2022-09-11T18:14:32.481710",
          "status": "completed"
        },
        "tags": [],
        "id": "cd32a0c9"
      },
      "outputs": [],
      "source": [
        "# importing libraries.\n",
        "\n",
        "import numpy as np\n",
        "import pandas as pd\n",
        "pd.set_option('display.float_format', '{:.2f}'.format)\n",
        "pd.set_option('display.max_rows', 100)\n",
        "pd.set_option('display.max_columns', None)\n",
        "\n",
        "import matplotlib.pyplot as plt\n",
        "%matplotlib inline\n",
        "import seaborn as sns\n",
        "sns.set_style('darkgrid')\n",
        "sns.set(font_scale = 1.5)\n",
        "import plotly.express as px\n",
        "\n",
        "import warnings\n",
        "warnings.filterwarnings(\"ignore\")\n",
        "\n",
        "from sklearn.model_selection import train_test_split\n",
        "from sklearn.model_selection import GridSearchCV\n",
        "from sklearn.metrics import confusion_matrix\n",
        "from sklearn.model_selection import cross_val_score\n",
        "from sklearn.metrics import make_scorer, f1_score\n",
        "from sklearn.preprocessing import LabelEncoder\n",
        "from sklearn.feature_extraction.text import TfidfVectorizer\n",
        "\n",
        "from sklearn.linear_model import LogisticRegression\n",
        "from sklearn.neighbors import KNeighborsClassifier\n",
        "from sklearn.ensemble import RandomForestClassifier\n",
        "from xgboost import XGBClassifier\n",
        "from sklearn.neighbors import LocalOutlierFactor"
      ]
    },
    {
      "cell_type": "code",
      "source": [
        "from google.colab import drive\n",
        "drive.mount('/content/drive')"
      ],
      "metadata": {
        "colab": {
          "base_uri": "https://localhost:8080/"
        },
        "id": "51QsKVTmY44E",
        "outputId": "e25f1a99-2b1a-421d-afe1-f3f7f66af457"
      },
      "id": "51QsKVTmY44E",
      "execution_count": null,
      "outputs": [
        {
          "output_type": "stream",
          "name": "stdout",
          "text": [
            "Mounted at /content/drive\n"
          ]
        }
      ]
    },
    {
      "cell_type": "code",
      "execution_count": null,
      "id": "6443b976",
      "metadata": {
        "execution": {
          "iopub.execute_input": "2022-09-11T18:14:35.438481Z",
          "iopub.status.busy": "2022-09-11T18:14:35.437356Z",
          "iopub.status.idle": "2022-09-11T18:14:35.500793Z",
          "shell.execute_reply": "2022-09-11T18:14:35.499446Z"
        },
        "papermill": {
          "duration": 0.076203,
          "end_time": "2022-09-11T18:14:35.504293",
          "exception": false,
          "start_time": "2022-09-11T18:14:35.428090",
          "status": "completed"
        },
        "tags": [],
        "colab": {
          "base_uri": "https://localhost:8080/",
          "height": 590
        },
        "id": "6443b976",
        "outputId": "7910b82b-5ae0-4522-f0d9-e350fcb1a1cd"
      },
      "outputs": [
        {
          "output_type": "execute_result",
          "data": {
            "text/plain": [
              "   v1                                                 v2  \\\n",
              "0   0  reporting resources meeting forwarded phillip ...   \n",
              "1   0                                         check load   \n",
              "2   0  know quotes pauline expecting range like quote...   \n",
              "3   0  request steve kean alan received updated numbe...   \n",
              "4   0  cpuc posts audit reports forwarded phillip all...   \n",
              "\n",
              "                                      Message-ID  \\\n",
              "0  <19773657.1075855687649.JavaMail.evans@thyme>   \n",
              "1  <15892545.1075855690631.JavaMail.evans@thyme>   \n",
              "2    <959015.1075855723664.JavaMail.evans@thyme>   \n",
              "3   <6235729.1075855723988.JavaMail.evans@thyme>   \n",
              "4   <6970185.1075855728034.JavaMail.evans@thyme>   \n",
              "\n",
              "                                             To  Randomized_serialNo  \n",
              "0                          ina.rangel@enron.com                   16  \n",
              "1  jeff.richter@enron.com, tim.belden@enron.com                  168  \n",
              "2                           jsmith@austintx.com                  279  \n",
              "3                         alan.comnes@enron.com                  294  \n",
              "4                        mike.grigsby@enron.com                  486  "
            ],
            "text/html": [
              "\n",
              "  <div id=\"df-66229c66-c0e1-4d7a-8b1a-f00c95118086\" class=\"colab-df-container\">\n",
              "    <div>\n",
              "<style scoped>\n",
              "    .dataframe tbody tr th:only-of-type {\n",
              "        vertical-align: middle;\n",
              "    }\n",
              "\n",
              "    .dataframe tbody tr th {\n",
              "        vertical-align: top;\n",
              "    }\n",
              "\n",
              "    .dataframe thead th {\n",
              "        text-align: right;\n",
              "    }\n",
              "</style>\n",
              "<table border=\"1\" class=\"dataframe\">\n",
              "  <thead>\n",
              "    <tr style=\"text-align: right;\">\n",
              "      <th></th>\n",
              "      <th>v1</th>\n",
              "      <th>v2</th>\n",
              "      <th>Message-ID</th>\n",
              "      <th>To</th>\n",
              "      <th>Randomized_serialNo</th>\n",
              "    </tr>\n",
              "  </thead>\n",
              "  <tbody>\n",
              "    <tr>\n",
              "      <th>0</th>\n",
              "      <td>0</td>\n",
              "      <td>reporting resources meeting forwarded phillip ...</td>\n",
              "      <td>&lt;19773657.1075855687649.JavaMail.evans@thyme&gt;</td>\n",
              "      <td>ina.rangel@enron.com</td>\n",
              "      <td>16</td>\n",
              "    </tr>\n",
              "    <tr>\n",
              "      <th>1</th>\n",
              "      <td>0</td>\n",
              "      <td>check load</td>\n",
              "      <td>&lt;15892545.1075855690631.JavaMail.evans@thyme&gt;</td>\n",
              "      <td>jeff.richter@enron.com, tim.belden@enron.com</td>\n",
              "      <td>168</td>\n",
              "    </tr>\n",
              "    <tr>\n",
              "      <th>2</th>\n",
              "      <td>0</td>\n",
              "      <td>know quotes pauline expecting range like quote...</td>\n",
              "      <td>&lt;959015.1075855723664.JavaMail.evans@thyme&gt;</td>\n",
              "      <td>jsmith@austintx.com</td>\n",
              "      <td>279</td>\n",
              "    </tr>\n",
              "    <tr>\n",
              "      <th>3</th>\n",
              "      <td>0</td>\n",
              "      <td>request steve kean alan received updated numbe...</td>\n",
              "      <td>&lt;6235729.1075855723988.JavaMail.evans@thyme&gt;</td>\n",
              "      <td>alan.comnes@enron.com</td>\n",
              "      <td>294</td>\n",
              "    </tr>\n",
              "    <tr>\n",
              "      <th>4</th>\n",
              "      <td>0</td>\n",
              "      <td>cpuc posts audit reports forwarded phillip all...</td>\n",
              "      <td>&lt;6970185.1075855728034.JavaMail.evans@thyme&gt;</td>\n",
              "      <td>mike.grigsby@enron.com</td>\n",
              "      <td>486</td>\n",
              "    </tr>\n",
              "  </tbody>\n",
              "</table>\n",
              "</div>\n",
              "    <div class=\"colab-df-buttons\">\n",
              "\n",
              "  <div class=\"colab-df-container\">\n",
              "    <button class=\"colab-df-convert\" onclick=\"convertToInteractive('df-66229c66-c0e1-4d7a-8b1a-f00c95118086')\"\n",
              "            title=\"Convert this dataframe to an interactive table.\"\n",
              "            style=\"display:none;\">\n",
              "\n",
              "  <svg xmlns=\"http://www.w3.org/2000/svg\" height=\"24px\" viewBox=\"0 -960 960 960\">\n",
              "    <path d=\"M120-120v-720h720v720H120Zm60-500h600v-160H180v160Zm220 220h160v-160H400v160Zm0 220h160v-160H400v160ZM180-400h160v-160H180v160Zm440 0h160v-160H620v160ZM180-180h160v-160H180v160Zm440 0h160v-160H620v160Z\"/>\n",
              "  </svg>\n",
              "    </button>\n",
              "\n",
              "  <style>\n",
              "    .colab-df-container {\n",
              "      display:flex;\n",
              "      gap: 12px;\n",
              "    }\n",
              "\n",
              "    .colab-df-convert {\n",
              "      background-color: #E8F0FE;\n",
              "      border: none;\n",
              "      border-radius: 50%;\n",
              "      cursor: pointer;\n",
              "      display: none;\n",
              "      fill: #1967D2;\n",
              "      height: 32px;\n",
              "      padding: 0 0 0 0;\n",
              "      width: 32px;\n",
              "    }\n",
              "\n",
              "    .colab-df-convert:hover {\n",
              "      background-color: #E2EBFA;\n",
              "      box-shadow: 0px 1px 2px rgba(60, 64, 67, 0.3), 0px 1px 3px 1px rgba(60, 64, 67, 0.15);\n",
              "      fill: #174EA6;\n",
              "    }\n",
              "\n",
              "    .colab-df-buttons div {\n",
              "      margin-bottom: 4px;\n",
              "    }\n",
              "\n",
              "    [theme=dark] .colab-df-convert {\n",
              "      background-color: #3B4455;\n",
              "      fill: #D2E3FC;\n",
              "    }\n",
              "\n",
              "    [theme=dark] .colab-df-convert:hover {\n",
              "      background-color: #434B5C;\n",
              "      box-shadow: 0px 1px 3px 1px rgba(0, 0, 0, 0.15);\n",
              "      filter: drop-shadow(0px 1px 2px rgba(0, 0, 0, 0.3));\n",
              "      fill: #FFFFFF;\n",
              "    }\n",
              "  </style>\n",
              "\n",
              "    <script>\n",
              "      const buttonEl =\n",
              "        document.querySelector('#df-66229c66-c0e1-4d7a-8b1a-f00c95118086 button.colab-df-convert');\n",
              "      buttonEl.style.display =\n",
              "        google.colab.kernel.accessAllowed ? 'block' : 'none';\n",
              "\n",
              "      async function convertToInteractive(key) {\n",
              "        const element = document.querySelector('#df-66229c66-c0e1-4d7a-8b1a-f00c95118086');\n",
              "        const dataTable =\n",
              "          await google.colab.kernel.invokeFunction('convertToInteractive',\n",
              "                                                    [key], {});\n",
              "        if (!dataTable) return;\n",
              "\n",
              "        const docLinkHtml = 'Like what you see? Visit the ' +\n",
              "          '<a target=\"_blank\" href=https://colab.research.google.com/notebooks/data_table.ipynb>data table notebook</a>'\n",
              "          + ' to learn more about interactive tables.';\n",
              "        element.innerHTML = '';\n",
              "        dataTable['output_type'] = 'display_data';\n",
              "        await google.colab.output.renderOutput(dataTable, element);\n",
              "        const docLink = document.createElement('div');\n",
              "        docLink.innerHTML = docLinkHtml;\n",
              "        element.appendChild(docLink);\n",
              "      }\n",
              "    </script>\n",
              "  </div>\n",
              "\n",
              "\n",
              "<div id=\"df-376bd15f-2a45-4c29-948f-5f7f0a1cf479\">\n",
              "  <button class=\"colab-df-quickchart\" onclick=\"quickchart('df-376bd15f-2a45-4c29-948f-5f7f0a1cf479')\"\n",
              "            title=\"Suggest charts\"\n",
              "            style=\"display:none;\">\n",
              "\n",
              "<svg xmlns=\"http://www.w3.org/2000/svg\" height=\"24px\"viewBox=\"0 0 24 24\"\n",
              "     width=\"24px\">\n",
              "    <g>\n",
              "        <path d=\"M19 3H5c-1.1 0-2 .9-2 2v14c0 1.1.9 2 2 2h14c1.1 0 2-.9 2-2V5c0-1.1-.9-2-2-2zM9 17H7v-7h2v7zm4 0h-2V7h2v10zm4 0h-2v-4h2v4z\"/>\n",
              "    </g>\n",
              "</svg>\n",
              "  </button>\n",
              "\n",
              "<style>\n",
              "  .colab-df-quickchart {\n",
              "      --bg-color: #E8F0FE;\n",
              "      --fill-color: #1967D2;\n",
              "      --hover-bg-color: #E2EBFA;\n",
              "      --hover-fill-color: #174EA6;\n",
              "      --disabled-fill-color: #AAA;\n",
              "      --disabled-bg-color: #DDD;\n",
              "  }\n",
              "\n",
              "  [theme=dark] .colab-df-quickchart {\n",
              "      --bg-color: #3B4455;\n",
              "      --fill-color: #D2E3FC;\n",
              "      --hover-bg-color: #434B5C;\n",
              "      --hover-fill-color: #FFFFFF;\n",
              "      --disabled-bg-color: #3B4455;\n",
              "      --disabled-fill-color: #666;\n",
              "  }\n",
              "\n",
              "  .colab-df-quickchart {\n",
              "    background-color: var(--bg-color);\n",
              "    border: none;\n",
              "    border-radius: 50%;\n",
              "    cursor: pointer;\n",
              "    display: none;\n",
              "    fill: var(--fill-color);\n",
              "    height: 32px;\n",
              "    padding: 0;\n",
              "    width: 32px;\n",
              "  }\n",
              "\n",
              "  .colab-df-quickchart:hover {\n",
              "    background-color: var(--hover-bg-color);\n",
              "    box-shadow: 0 1px 2px rgba(60, 64, 67, 0.3), 0 1px 3px 1px rgba(60, 64, 67, 0.15);\n",
              "    fill: var(--button-hover-fill-color);\n",
              "  }\n",
              "\n",
              "  .colab-df-quickchart-complete:disabled,\n",
              "  .colab-df-quickchart-complete:disabled:hover {\n",
              "    background-color: var(--disabled-bg-color);\n",
              "    fill: var(--disabled-fill-color);\n",
              "    box-shadow: none;\n",
              "  }\n",
              "\n",
              "  .colab-df-spinner {\n",
              "    border: 2px solid var(--fill-color);\n",
              "    border-color: transparent;\n",
              "    border-bottom-color: var(--fill-color);\n",
              "    animation:\n",
              "      spin 1s steps(1) infinite;\n",
              "  }\n",
              "\n",
              "  @keyframes spin {\n",
              "    0% {\n",
              "      border-color: transparent;\n",
              "      border-bottom-color: var(--fill-color);\n",
              "      border-left-color: var(--fill-color);\n",
              "    }\n",
              "    20% {\n",
              "      border-color: transparent;\n",
              "      border-left-color: var(--fill-color);\n",
              "      border-top-color: var(--fill-color);\n",
              "    }\n",
              "    30% {\n",
              "      border-color: transparent;\n",
              "      border-left-color: var(--fill-color);\n",
              "      border-top-color: var(--fill-color);\n",
              "      border-right-color: var(--fill-color);\n",
              "    }\n",
              "    40% {\n",
              "      border-color: transparent;\n",
              "      border-right-color: var(--fill-color);\n",
              "      border-top-color: var(--fill-color);\n",
              "    }\n",
              "    60% {\n",
              "      border-color: transparent;\n",
              "      border-right-color: var(--fill-color);\n",
              "    }\n",
              "    80% {\n",
              "      border-color: transparent;\n",
              "      border-right-color: var(--fill-color);\n",
              "      border-bottom-color: var(--fill-color);\n",
              "    }\n",
              "    90% {\n",
              "      border-color: transparent;\n",
              "      border-bottom-color: var(--fill-color);\n",
              "    }\n",
              "  }\n",
              "</style>\n",
              "\n",
              "  <script>\n",
              "    async function quickchart(key) {\n",
              "      const quickchartButtonEl =\n",
              "        document.querySelector('#' + key + ' button');\n",
              "      quickchartButtonEl.disabled = true;  // To prevent multiple clicks.\n",
              "      quickchartButtonEl.classList.add('colab-df-spinner');\n",
              "      try {\n",
              "        const charts = await google.colab.kernel.invokeFunction(\n",
              "            'suggestCharts', [key], {});\n",
              "      } catch (error) {\n",
              "        console.error('Error during call to suggestCharts:', error);\n",
              "      }\n",
              "      quickchartButtonEl.classList.remove('colab-df-spinner');\n",
              "      quickchartButtonEl.classList.add('colab-df-quickchart-complete');\n",
              "    }\n",
              "    (() => {\n",
              "      let quickchartButtonEl =\n",
              "        document.querySelector('#df-376bd15f-2a45-4c29-948f-5f7f0a1cf479 button');\n",
              "      quickchartButtonEl.style.display =\n",
              "        google.colab.kernel.accessAllowed ? 'block' : 'none';\n",
              "    })();\n",
              "  </script>\n",
              "</div>\n",
              "    </div>\n",
              "  </div>\n"
            ]
          },
          "metadata": {},
          "execution_count": 2
        }
      ],
      "source": [
        "# reading the data and showing a sample of it.\n",
        "d = pd.read_csv('/content/drive/MyDrive/Deep_Learning/eon_downsampled_data_balance.csv',encoding = \"ISO-8859-1\")\n",
        "d.head()"
      ]
    },
    {
      "cell_type": "code",
      "execution_count": null,
      "id": "5d61d11a",
      "metadata": {
        "execution": {
          "iopub.execute_input": "2022-09-11T18:14:35.522946Z",
          "iopub.status.busy": "2022-09-11T18:14:35.522226Z",
          "iopub.status.idle": "2022-09-11T18:14:35.539357Z",
          "shell.execute_reply": "2022-09-11T18:14:35.538215Z"
        },
        "papermill": {
          "duration": 0.029009,
          "end_time": "2022-09-11T18:14:35.541769",
          "exception": false,
          "start_time": "2022-09-11T18:14:35.512760",
          "status": "completed"
        },
        "tags": [],
        "colab": {
          "base_uri": "https://localhost:8080/",
          "height": 206
        },
        "id": "5d61d11a",
        "outputId": "cede1b32-060e-4501-8180-3531a9f635ec"
      },
      "outputs": [
        {
          "output_type": "execute_result",
          "data": {
            "text/plain": [
              "       label                                               text\n",
              "11397      0  trades traded morning strike traded traded cou...\n",
              "11398      0  revised tabors paper draft lets planning origi...\n",
              "11399      0  exec reports said leave reports original messa...\n",
              "11400      0  ontario overview garrett look buying advanced ...\n",
              "11401      0  products nella list products launch netco assu..."
            ],
            "text/html": [
              "\n",
              "  <div id=\"df-2147d07a-8a47-41c5-afab-233a37b214e9\" class=\"colab-df-container\">\n",
              "    <div>\n",
              "<style scoped>\n",
              "    .dataframe tbody tr th:only-of-type {\n",
              "        vertical-align: middle;\n",
              "    }\n",
              "\n",
              "    .dataframe tbody tr th {\n",
              "        vertical-align: top;\n",
              "    }\n",
              "\n",
              "    .dataframe thead th {\n",
              "        text-align: right;\n",
              "    }\n",
              "</style>\n",
              "<table border=\"1\" class=\"dataframe\">\n",
              "  <thead>\n",
              "    <tr style=\"text-align: right;\">\n",
              "      <th></th>\n",
              "      <th>label</th>\n",
              "      <th>text</th>\n",
              "    </tr>\n",
              "  </thead>\n",
              "  <tbody>\n",
              "    <tr>\n",
              "      <th>11397</th>\n",
              "      <td>0</td>\n",
              "      <td>trades traded morning strike traded traded cou...</td>\n",
              "    </tr>\n",
              "    <tr>\n",
              "      <th>11398</th>\n",
              "      <td>0</td>\n",
              "      <td>revised tabors paper draft lets planning origi...</td>\n",
              "    </tr>\n",
              "    <tr>\n",
              "      <th>11399</th>\n",
              "      <td>0</td>\n",
              "      <td>exec reports said leave reports original messa...</td>\n",
              "    </tr>\n",
              "    <tr>\n",
              "      <th>11400</th>\n",
              "      <td>0</td>\n",
              "      <td>ontario overview garrett look buying advanced ...</td>\n",
              "    </tr>\n",
              "    <tr>\n",
              "      <th>11401</th>\n",
              "      <td>0</td>\n",
              "      <td>products nella list products launch netco assu...</td>\n",
              "    </tr>\n",
              "  </tbody>\n",
              "</table>\n",
              "</div>\n",
              "    <div class=\"colab-df-buttons\">\n",
              "\n",
              "  <div class=\"colab-df-container\">\n",
              "    <button class=\"colab-df-convert\" onclick=\"convertToInteractive('df-2147d07a-8a47-41c5-afab-233a37b214e9')\"\n",
              "            title=\"Convert this dataframe to an interactive table.\"\n",
              "            style=\"display:none;\">\n",
              "\n",
              "  <svg xmlns=\"http://www.w3.org/2000/svg\" height=\"24px\" viewBox=\"0 -960 960 960\">\n",
              "    <path d=\"M120-120v-720h720v720H120Zm60-500h600v-160H180v160Zm220 220h160v-160H400v160Zm0 220h160v-160H400v160ZM180-400h160v-160H180v160Zm440 0h160v-160H620v160ZM180-180h160v-160H180v160Zm440 0h160v-160H620v160Z\"/>\n",
              "  </svg>\n",
              "    </button>\n",
              "\n",
              "  <style>\n",
              "    .colab-df-container {\n",
              "      display:flex;\n",
              "      gap: 12px;\n",
              "    }\n",
              "\n",
              "    .colab-df-convert {\n",
              "      background-color: #E8F0FE;\n",
              "      border: none;\n",
              "      border-radius: 50%;\n",
              "      cursor: pointer;\n",
              "      display: none;\n",
              "      fill: #1967D2;\n",
              "      height: 32px;\n",
              "      padding: 0 0 0 0;\n",
              "      width: 32px;\n",
              "    }\n",
              "\n",
              "    .colab-df-convert:hover {\n",
              "      background-color: #E2EBFA;\n",
              "      box-shadow: 0px 1px 2px rgba(60, 64, 67, 0.3), 0px 1px 3px 1px rgba(60, 64, 67, 0.15);\n",
              "      fill: #174EA6;\n",
              "    }\n",
              "\n",
              "    .colab-df-buttons div {\n",
              "      margin-bottom: 4px;\n",
              "    }\n",
              "\n",
              "    [theme=dark] .colab-df-convert {\n",
              "      background-color: #3B4455;\n",
              "      fill: #D2E3FC;\n",
              "    }\n",
              "\n",
              "    [theme=dark] .colab-df-convert:hover {\n",
              "      background-color: #434B5C;\n",
              "      box-shadow: 0px 1px 3px 1px rgba(0, 0, 0, 0.15);\n",
              "      filter: drop-shadow(0px 1px 2px rgba(0, 0, 0, 0.3));\n",
              "      fill: #FFFFFF;\n",
              "    }\n",
              "  </style>\n",
              "\n",
              "    <script>\n",
              "      const buttonEl =\n",
              "        document.querySelector('#df-2147d07a-8a47-41c5-afab-233a37b214e9 button.colab-df-convert');\n",
              "      buttonEl.style.display =\n",
              "        google.colab.kernel.accessAllowed ? 'block' : 'none';\n",
              "\n",
              "      async function convertToInteractive(key) {\n",
              "        const element = document.querySelector('#df-2147d07a-8a47-41c5-afab-233a37b214e9');\n",
              "        const dataTable =\n",
              "          await google.colab.kernel.invokeFunction('convertToInteractive',\n",
              "                                                    [key], {});\n",
              "        if (!dataTable) return;\n",
              "\n",
              "        const docLinkHtml = 'Like what you see? Visit the ' +\n",
              "          '<a target=\"_blank\" href=https://colab.research.google.com/notebooks/data_table.ipynb>data table notebook</a>'\n",
              "          + ' to learn more about interactive tables.';\n",
              "        element.innerHTML = '';\n",
              "        dataTable['output_type'] = 'display_data';\n",
              "        await google.colab.output.renderOutput(dataTable, element);\n",
              "        const docLink = document.createElement('div');\n",
              "        docLink.innerHTML = docLinkHtml;\n",
              "        element.appendChild(docLink);\n",
              "      }\n",
              "    </script>\n",
              "  </div>\n",
              "\n",
              "\n",
              "<div id=\"df-840b2eff-fea3-4e07-adb7-d4f135652540\">\n",
              "  <button class=\"colab-df-quickchart\" onclick=\"quickchart('df-840b2eff-fea3-4e07-adb7-d4f135652540')\"\n",
              "            title=\"Suggest charts\"\n",
              "            style=\"display:none;\">\n",
              "\n",
              "<svg xmlns=\"http://www.w3.org/2000/svg\" height=\"24px\"viewBox=\"0 0 24 24\"\n",
              "     width=\"24px\">\n",
              "    <g>\n",
              "        <path d=\"M19 3H5c-1.1 0-2 .9-2 2v14c0 1.1.9 2 2 2h14c1.1 0 2-.9 2-2V5c0-1.1-.9-2-2-2zM9 17H7v-7h2v7zm4 0h-2V7h2v10zm4 0h-2v-4h2v4z\"/>\n",
              "    </g>\n",
              "</svg>\n",
              "  </button>\n",
              "\n",
              "<style>\n",
              "  .colab-df-quickchart {\n",
              "      --bg-color: #E8F0FE;\n",
              "      --fill-color: #1967D2;\n",
              "      --hover-bg-color: #E2EBFA;\n",
              "      --hover-fill-color: #174EA6;\n",
              "      --disabled-fill-color: #AAA;\n",
              "      --disabled-bg-color: #DDD;\n",
              "  }\n",
              "\n",
              "  [theme=dark] .colab-df-quickchart {\n",
              "      --bg-color: #3B4455;\n",
              "      --fill-color: #D2E3FC;\n",
              "      --hover-bg-color: #434B5C;\n",
              "      --hover-fill-color: #FFFFFF;\n",
              "      --disabled-bg-color: #3B4455;\n",
              "      --disabled-fill-color: #666;\n",
              "  }\n",
              "\n",
              "  .colab-df-quickchart {\n",
              "    background-color: var(--bg-color);\n",
              "    border: none;\n",
              "    border-radius: 50%;\n",
              "    cursor: pointer;\n",
              "    display: none;\n",
              "    fill: var(--fill-color);\n",
              "    height: 32px;\n",
              "    padding: 0;\n",
              "    width: 32px;\n",
              "  }\n",
              "\n",
              "  .colab-df-quickchart:hover {\n",
              "    background-color: var(--hover-bg-color);\n",
              "    box-shadow: 0 1px 2px rgba(60, 64, 67, 0.3), 0 1px 3px 1px rgba(60, 64, 67, 0.15);\n",
              "    fill: var(--button-hover-fill-color);\n",
              "  }\n",
              "\n",
              "  .colab-df-quickchart-complete:disabled,\n",
              "  .colab-df-quickchart-complete:disabled:hover {\n",
              "    background-color: var(--disabled-bg-color);\n",
              "    fill: var(--disabled-fill-color);\n",
              "    box-shadow: none;\n",
              "  }\n",
              "\n",
              "  .colab-df-spinner {\n",
              "    border: 2px solid var(--fill-color);\n",
              "    border-color: transparent;\n",
              "    border-bottom-color: var(--fill-color);\n",
              "    animation:\n",
              "      spin 1s steps(1) infinite;\n",
              "  }\n",
              "\n",
              "  @keyframes spin {\n",
              "    0% {\n",
              "      border-color: transparent;\n",
              "      border-bottom-color: var(--fill-color);\n",
              "      border-left-color: var(--fill-color);\n",
              "    }\n",
              "    20% {\n",
              "      border-color: transparent;\n",
              "      border-left-color: var(--fill-color);\n",
              "      border-top-color: var(--fill-color);\n",
              "    }\n",
              "    30% {\n",
              "      border-color: transparent;\n",
              "      border-left-color: var(--fill-color);\n",
              "      border-top-color: var(--fill-color);\n",
              "      border-right-color: var(--fill-color);\n",
              "    }\n",
              "    40% {\n",
              "      border-color: transparent;\n",
              "      border-right-color: var(--fill-color);\n",
              "      border-top-color: var(--fill-color);\n",
              "    }\n",
              "    60% {\n",
              "      border-color: transparent;\n",
              "      border-right-color: var(--fill-color);\n",
              "    }\n",
              "    80% {\n",
              "      border-color: transparent;\n",
              "      border-right-color: var(--fill-color);\n",
              "      border-bottom-color: var(--fill-color);\n",
              "    }\n",
              "    90% {\n",
              "      border-color: transparent;\n",
              "      border-bottom-color: var(--fill-color);\n",
              "    }\n",
              "  }\n",
              "</style>\n",
              "\n",
              "  <script>\n",
              "    async function quickchart(key) {\n",
              "      const quickchartButtonEl =\n",
              "        document.querySelector('#' + key + ' button');\n",
              "      quickchartButtonEl.disabled = true;  // To prevent multiple clicks.\n",
              "      quickchartButtonEl.classList.add('colab-df-spinner');\n",
              "      try {\n",
              "        const charts = await google.colab.kernel.invokeFunction(\n",
              "            'suggestCharts', [key], {});\n",
              "      } catch (error) {\n",
              "        console.error('Error during call to suggestCharts:', error);\n",
              "      }\n",
              "      quickchartButtonEl.classList.remove('colab-df-spinner');\n",
              "      quickchartButtonEl.classList.add('colab-df-quickchart-complete');\n",
              "    }\n",
              "    (() => {\n",
              "      let quickchartButtonEl =\n",
              "        document.querySelector('#df-840b2eff-fea3-4e07-adb7-d4f135652540 button');\n",
              "      quickchartButtonEl.style.display =\n",
              "        google.colab.kernel.accessAllowed ? 'block' : 'none';\n",
              "    })();\n",
              "  </script>\n",
              "</div>\n",
              "    </div>\n",
              "  </div>\n"
            ]
          },
          "metadata": {},
          "execution_count": 3
        }
      ],
      "source": [
        "# filtering the data.\n",
        "d = d.iloc[:,:2].rename(columns = {'v1':'label', 'v2':'text'})\n",
        "d.tail()"
      ]
    },
    {
      "cell_type": "code",
      "execution_count": null,
      "id": "807d1e11",
      "metadata": {
        "execution": {
          "iopub.execute_input": "2022-09-11T18:14:35.559958Z",
          "iopub.status.busy": "2022-09-11T18:14:35.558867Z",
          "iopub.status.idle": "2022-09-11T18:14:35.582317Z",
          "shell.execute_reply": "2022-09-11T18:14:35.580705Z"
        },
        "papermill": {
          "duration": 0.035759,
          "end_time": "2022-09-11T18:14:35.585430",
          "exception": false,
          "start_time": "2022-09-11T18:14:35.549671",
          "status": "completed"
        },
        "tags": [],
        "colab": {
          "base_uri": "https://localhost:8080/"
        },
        "id": "807d1e11",
        "outputId": "96688879-c87e-4e97-f9f7-8f626503cf02"
      },
      "outputs": [
        {
          "output_type": "stream",
          "name": "stdout",
          "text": [
            "<class 'pandas.core.frame.DataFrame'>\n",
            "RangeIndex: 11402 entries, 0 to 11401\n",
            "Data columns (total 2 columns):\n",
            " #   Column  Non-Null Count  Dtype \n",
            "---  ------  --------------  ----- \n",
            " 0   label   11402 non-null  int64 \n",
            " 1   text    11393 non-null  object\n",
            "dtypes: int64(1), object(1)\n",
            "memory usage: 178.3+ KB\n"
          ]
        }
      ],
      "source": [
        "# showing brief information about the dataset.\n",
        "d.info()"
      ]
    },
    {
      "cell_type": "code",
      "execution_count": null,
      "id": "e97f141f",
      "metadata": {
        "execution": {
          "iopub.execute_input": "2022-09-11T18:14:35.604199Z",
          "iopub.status.busy": "2022-09-11T18:14:35.603462Z",
          "iopub.status.idle": "2022-09-11T18:14:35.621162Z",
          "shell.execute_reply": "2022-09-11T18:14:35.620034Z"
        },
        "papermill": {
          "duration": 0.029843,
          "end_time": "2022-09-11T18:14:35.623620",
          "exception": false,
          "start_time": "2022-09-11T18:14:35.593777",
          "status": "completed"
        },
        "tags": [],
        "colab": {
          "base_uri": "https://localhost:8080/",
          "height": 300
        },
        "id": "e97f141f",
        "outputId": "8d35ac05-c564-40bb-d8d4-f02c8d0e53e3"
      },
      "outputs": [
        {
          "output_type": "execute_result",
          "data": {
            "text/plain": [
              "         label\n",
              "count 11402.00\n",
              "mean      0.50\n",
              "std       0.50\n",
              "min       0.00\n",
              "25%       0.00\n",
              "50%       0.50\n",
              "75%       1.00\n",
              "max       1.00"
            ],
            "text/html": [
              "\n",
              "  <div id=\"df-70ba0baf-3617-4501-9dbc-21efc7f5b717\" class=\"colab-df-container\">\n",
              "    <div>\n",
              "<style scoped>\n",
              "    .dataframe tbody tr th:only-of-type {\n",
              "        vertical-align: middle;\n",
              "    }\n",
              "\n",
              "    .dataframe tbody tr th {\n",
              "        vertical-align: top;\n",
              "    }\n",
              "\n",
              "    .dataframe thead th {\n",
              "        text-align: right;\n",
              "    }\n",
              "</style>\n",
              "<table border=\"1\" class=\"dataframe\">\n",
              "  <thead>\n",
              "    <tr style=\"text-align: right;\">\n",
              "      <th></th>\n",
              "      <th>label</th>\n",
              "    </tr>\n",
              "  </thead>\n",
              "  <tbody>\n",
              "    <tr>\n",
              "      <th>count</th>\n",
              "      <td>11402.00</td>\n",
              "    </tr>\n",
              "    <tr>\n",
              "      <th>mean</th>\n",
              "      <td>0.50</td>\n",
              "    </tr>\n",
              "    <tr>\n",
              "      <th>std</th>\n",
              "      <td>0.50</td>\n",
              "    </tr>\n",
              "    <tr>\n",
              "      <th>min</th>\n",
              "      <td>0.00</td>\n",
              "    </tr>\n",
              "    <tr>\n",
              "      <th>25%</th>\n",
              "      <td>0.00</td>\n",
              "    </tr>\n",
              "    <tr>\n",
              "      <th>50%</th>\n",
              "      <td>0.50</td>\n",
              "    </tr>\n",
              "    <tr>\n",
              "      <th>75%</th>\n",
              "      <td>1.00</td>\n",
              "    </tr>\n",
              "    <tr>\n",
              "      <th>max</th>\n",
              "      <td>1.00</td>\n",
              "    </tr>\n",
              "  </tbody>\n",
              "</table>\n",
              "</div>\n",
              "    <div class=\"colab-df-buttons\">\n",
              "\n",
              "  <div class=\"colab-df-container\">\n",
              "    <button class=\"colab-df-convert\" onclick=\"convertToInteractive('df-70ba0baf-3617-4501-9dbc-21efc7f5b717')\"\n",
              "            title=\"Convert this dataframe to an interactive table.\"\n",
              "            style=\"display:none;\">\n",
              "\n",
              "  <svg xmlns=\"http://www.w3.org/2000/svg\" height=\"24px\" viewBox=\"0 -960 960 960\">\n",
              "    <path d=\"M120-120v-720h720v720H120Zm60-500h600v-160H180v160Zm220 220h160v-160H400v160Zm0 220h160v-160H400v160ZM180-400h160v-160H180v160Zm440 0h160v-160H620v160ZM180-180h160v-160H180v160Zm440 0h160v-160H620v160Z\"/>\n",
              "  </svg>\n",
              "    </button>\n",
              "\n",
              "  <style>\n",
              "    .colab-df-container {\n",
              "      display:flex;\n",
              "      gap: 12px;\n",
              "    }\n",
              "\n",
              "    .colab-df-convert {\n",
              "      background-color: #E8F0FE;\n",
              "      border: none;\n",
              "      border-radius: 50%;\n",
              "      cursor: pointer;\n",
              "      display: none;\n",
              "      fill: #1967D2;\n",
              "      height: 32px;\n",
              "      padding: 0 0 0 0;\n",
              "      width: 32px;\n",
              "    }\n",
              "\n",
              "    .colab-df-convert:hover {\n",
              "      background-color: #E2EBFA;\n",
              "      box-shadow: 0px 1px 2px rgba(60, 64, 67, 0.3), 0px 1px 3px 1px rgba(60, 64, 67, 0.15);\n",
              "      fill: #174EA6;\n",
              "    }\n",
              "\n",
              "    .colab-df-buttons div {\n",
              "      margin-bottom: 4px;\n",
              "    }\n",
              "\n",
              "    [theme=dark] .colab-df-convert {\n",
              "      background-color: #3B4455;\n",
              "      fill: #D2E3FC;\n",
              "    }\n",
              "\n",
              "    [theme=dark] .colab-df-convert:hover {\n",
              "      background-color: #434B5C;\n",
              "      box-shadow: 0px 1px 3px 1px rgba(0, 0, 0, 0.15);\n",
              "      filter: drop-shadow(0px 1px 2px rgba(0, 0, 0, 0.3));\n",
              "      fill: #FFFFFF;\n",
              "    }\n",
              "  </style>\n",
              "\n",
              "    <script>\n",
              "      const buttonEl =\n",
              "        document.querySelector('#df-70ba0baf-3617-4501-9dbc-21efc7f5b717 button.colab-df-convert');\n",
              "      buttonEl.style.display =\n",
              "        google.colab.kernel.accessAllowed ? 'block' : 'none';\n",
              "\n",
              "      async function convertToInteractive(key) {\n",
              "        const element = document.querySelector('#df-70ba0baf-3617-4501-9dbc-21efc7f5b717');\n",
              "        const dataTable =\n",
              "          await google.colab.kernel.invokeFunction('convertToInteractive',\n",
              "                                                    [key], {});\n",
              "        if (!dataTable) return;\n",
              "\n",
              "        const docLinkHtml = 'Like what you see? Visit the ' +\n",
              "          '<a target=\"_blank\" href=https://colab.research.google.com/notebooks/data_table.ipynb>data table notebook</a>'\n",
              "          + ' to learn more about interactive tables.';\n",
              "        element.innerHTML = '';\n",
              "        dataTable['output_type'] = 'display_data';\n",
              "        await google.colab.output.renderOutput(dataTable, element);\n",
              "        const docLink = document.createElement('div');\n",
              "        docLink.innerHTML = docLinkHtml;\n",
              "        element.appendChild(docLink);\n",
              "      }\n",
              "    </script>\n",
              "  </div>\n",
              "\n",
              "\n",
              "<div id=\"df-d8b8bcc2-9398-48f0-b8b5-e05cf4eeae8a\">\n",
              "  <button class=\"colab-df-quickchart\" onclick=\"quickchart('df-d8b8bcc2-9398-48f0-b8b5-e05cf4eeae8a')\"\n",
              "            title=\"Suggest charts\"\n",
              "            style=\"display:none;\">\n",
              "\n",
              "<svg xmlns=\"http://www.w3.org/2000/svg\" height=\"24px\"viewBox=\"0 0 24 24\"\n",
              "     width=\"24px\">\n",
              "    <g>\n",
              "        <path d=\"M19 3H5c-1.1 0-2 .9-2 2v14c0 1.1.9 2 2 2h14c1.1 0 2-.9 2-2V5c0-1.1-.9-2-2-2zM9 17H7v-7h2v7zm4 0h-2V7h2v10zm4 0h-2v-4h2v4z\"/>\n",
              "    </g>\n",
              "</svg>\n",
              "  </button>\n",
              "\n",
              "<style>\n",
              "  .colab-df-quickchart {\n",
              "      --bg-color: #E8F0FE;\n",
              "      --fill-color: #1967D2;\n",
              "      --hover-bg-color: #E2EBFA;\n",
              "      --hover-fill-color: #174EA6;\n",
              "      --disabled-fill-color: #AAA;\n",
              "      --disabled-bg-color: #DDD;\n",
              "  }\n",
              "\n",
              "  [theme=dark] .colab-df-quickchart {\n",
              "      --bg-color: #3B4455;\n",
              "      --fill-color: #D2E3FC;\n",
              "      --hover-bg-color: #434B5C;\n",
              "      --hover-fill-color: #FFFFFF;\n",
              "      --disabled-bg-color: #3B4455;\n",
              "      --disabled-fill-color: #666;\n",
              "  }\n",
              "\n",
              "  .colab-df-quickchart {\n",
              "    background-color: var(--bg-color);\n",
              "    border: none;\n",
              "    border-radius: 50%;\n",
              "    cursor: pointer;\n",
              "    display: none;\n",
              "    fill: var(--fill-color);\n",
              "    height: 32px;\n",
              "    padding: 0;\n",
              "    width: 32px;\n",
              "  }\n",
              "\n",
              "  .colab-df-quickchart:hover {\n",
              "    background-color: var(--hover-bg-color);\n",
              "    box-shadow: 0 1px 2px rgba(60, 64, 67, 0.3), 0 1px 3px 1px rgba(60, 64, 67, 0.15);\n",
              "    fill: var(--button-hover-fill-color);\n",
              "  }\n",
              "\n",
              "  .colab-df-quickchart-complete:disabled,\n",
              "  .colab-df-quickchart-complete:disabled:hover {\n",
              "    background-color: var(--disabled-bg-color);\n",
              "    fill: var(--disabled-fill-color);\n",
              "    box-shadow: none;\n",
              "  }\n",
              "\n",
              "  .colab-df-spinner {\n",
              "    border: 2px solid var(--fill-color);\n",
              "    border-color: transparent;\n",
              "    border-bottom-color: var(--fill-color);\n",
              "    animation:\n",
              "      spin 1s steps(1) infinite;\n",
              "  }\n",
              "\n",
              "  @keyframes spin {\n",
              "    0% {\n",
              "      border-color: transparent;\n",
              "      border-bottom-color: var(--fill-color);\n",
              "      border-left-color: var(--fill-color);\n",
              "    }\n",
              "    20% {\n",
              "      border-color: transparent;\n",
              "      border-left-color: var(--fill-color);\n",
              "      border-top-color: var(--fill-color);\n",
              "    }\n",
              "    30% {\n",
              "      border-color: transparent;\n",
              "      border-left-color: var(--fill-color);\n",
              "      border-top-color: var(--fill-color);\n",
              "      border-right-color: var(--fill-color);\n",
              "    }\n",
              "    40% {\n",
              "      border-color: transparent;\n",
              "      border-right-color: var(--fill-color);\n",
              "      border-top-color: var(--fill-color);\n",
              "    }\n",
              "    60% {\n",
              "      border-color: transparent;\n",
              "      border-right-color: var(--fill-color);\n",
              "    }\n",
              "    80% {\n",
              "      border-color: transparent;\n",
              "      border-right-color: var(--fill-color);\n",
              "      border-bottom-color: var(--fill-color);\n",
              "    }\n",
              "    90% {\n",
              "      border-color: transparent;\n",
              "      border-bottom-color: var(--fill-color);\n",
              "    }\n",
              "  }\n",
              "</style>\n",
              "\n",
              "  <script>\n",
              "    async function quickchart(key) {\n",
              "      const quickchartButtonEl =\n",
              "        document.querySelector('#' + key + ' button');\n",
              "      quickchartButtonEl.disabled = true;  // To prevent multiple clicks.\n",
              "      quickchartButtonEl.classList.add('colab-df-spinner');\n",
              "      try {\n",
              "        const charts = await google.colab.kernel.invokeFunction(\n",
              "            'suggestCharts', [key], {});\n",
              "      } catch (error) {\n",
              "        console.error('Error during call to suggestCharts:', error);\n",
              "      }\n",
              "      quickchartButtonEl.classList.remove('colab-df-spinner');\n",
              "      quickchartButtonEl.classList.add('colab-df-quickchart-complete');\n",
              "    }\n",
              "    (() => {\n",
              "      let quickchartButtonEl =\n",
              "        document.querySelector('#df-d8b8bcc2-9398-48f0-b8b5-e05cf4eeae8a button');\n",
              "      quickchartButtonEl.style.display =\n",
              "        google.colab.kernel.accessAllowed ? 'block' : 'none';\n",
              "    })();\n",
              "  </script>\n",
              "</div>\n",
              "    </div>\n",
              "  </div>\n"
            ]
          },
          "metadata": {},
          "execution_count": 5
        }
      ],
      "source": [
        "# Showing some describtive statistics about the data.\n",
        "d.describe()"
      ]
    },
    {
      "cell_type": "markdown",
      "id": "7d127bf9",
      "metadata": {
        "papermill": {
          "duration": 0.008289,
          "end_time": "2022-09-11T18:14:35.640916",
          "exception": false,
          "start_time": "2022-09-11T18:14:35.632627",
          "status": "completed"
        },
        "tags": [],
        "id": "7d127bf9"
      },
      "source": [
        "### How many spam emails are there?"
      ]
    },
    {
      "cell_type": "code",
      "execution_count": null,
      "id": "714842ba",
      "metadata": {
        "_kg_hide-input": true,
        "execution": {
          "iopub.execute_input": "2022-09-11T18:14:35.660843Z",
          "iopub.status.busy": "2022-09-11T18:14:35.660404Z",
          "iopub.status.idle": "2022-09-11T18:14:36.903757Z",
          "shell.execute_reply": "2022-09-11T18:14:36.902447Z"
        },
        "papermill": {
          "duration": 1.256201,
          "end_time": "2022-09-11T18:14:36.906790",
          "exception": false,
          "start_time": "2022-09-11T18:14:35.650589",
          "status": "completed"
        },
        "tags": [],
        "colab": {
          "base_uri": "https://localhost:8080/",
          "height": 542
        },
        "id": "714842ba",
        "outputId": "6fba0cc0-f714-41af-f7ce-ed113982b6c9"
      },
      "outputs": [
        {
          "output_type": "display_data",
          "data": {
            "text/html": [
              "<html>\n",
              "<head><meta charset=\"utf-8\" /></head>\n",
              "<body>\n",
              "    <div>            <script src=\"https://cdnjs.cloudflare.com/ajax/libs/mathjax/2.7.5/MathJax.js?config=TeX-AMS-MML_SVG\"></script><script type=\"text/javascript\">if (window.MathJax && window.MathJax.Hub && window.MathJax.Hub.Config) {window.MathJax.Hub.Config({SVG: {font: \"STIX-Web\"}});}</script>                <script type=\"text/javascript\">window.PlotlyConfig = {MathJaxConfig: 'local'};</script>\n",
              "        <script charset=\"utf-8\" src=\"https://cdn.plot.ly/plotly-2.24.1.min.js\"></script>                <div id=\"ef1956bb-21ef-4915-a4b8-8ea7fa182d2f\" class=\"plotly-graph-div\" style=\"height:525px; width:100%;\"></div>            <script type=\"text/javascript\">                                    window.PLOTLYENV=window.PLOTLYENV || {};                                    if (document.getElementById(\"ef1956bb-21ef-4915-a4b8-8ea7fa182d2f\")) {                    Plotly.newPlot(                        \"ef1956bb-21ef-4915-a4b8-8ea7fa182d2f\",                        [{\"domain\":{\"x\":[0.0,1.0],\"y\":[0.0,1.0]},\"hovertemplate\":\"label=%{label}\\u003cextra\\u003e\\u003c\\u002fextra\\u003e\",\"labels\":[0,0,0,0,0,0,0,0,0,0,0,0,0,0,0,0,0,1,1,0,1,0,0,0,0,0,0,0,0,1,0,0,0,0,0,0,0,0,0,0,0,0,0,0,0,0,0,0,0,0,0,0,0,0,0,0,0,0,0,0,0,0,0,0,0,0,0,0,0,0,0,0,0,0,0,0,0,0,0,0,0,0,0,0,0,0,0,0,0,0,0,0,0,0,0,1,0,1,0,0,1,1,0,0,0,0,0,0,1,1,1,1,0,1,0,0,1,1,1,1,1,0,1,1,1,1,1,1,1,1,1,1,0,1,1,1,0,1,0,0,0,0,0,0,0,0,0,0,0,0,0,0,0,0,0,0,0,0,0,0,0,0,0,0,0,0,0,0,0,0,0,0,0,0,0,0,0,0,0,0,0,0,0,0,0,0,0,0,0,0,0,0,0,0,0,0,0,0,0,0,0,0,0,0,0,0,0,0,0,0,0,0,0,0,0,0,0,0,0,0,0,0,0,0,0,0,0,0,0,0,0,0,0,0,0,0,0,0,0,0,1,0,0,0,1,0,0,1,0,1,1,0,0,0,0,0,1,1,0,0,0,0,0,1,1,1,1,0,0,0,0,0,0,0,0,0,0,0,0,0,0,0,0,0,0,0,0,0,0,1,0,1,0,0,1,1,1,0,0,0,0,0,0,1,0,0,1,0,1,1,1,0,0,1,0,1,0,1,1,1,1,0,1,1,0,1,1,0,0,0,1,0,0,0,0,0,0,1,1,1,1,1,1,0,1,0,0,0,0,0,0,0,0,1,1,1,1,1,1,1,1,0,1,1,1,1,1,1,1,1,1,0,1,1,0,1,1,1,0,1,0,1,1,1,0,0,0,1,0,0,0,0,0,0,1,1,0,1,1,0,0,0,0,0,1,0,1,1,1,1,1,0,0,1,1,0,0,0,0,1,1,1,1,0,1,0,1,1,0,1,1,1,1,1,1,0,0,1,0,0,0,1,1,1,0,0,1,0,0,1,1,1,1,0,1,1,0,1,0,1,0,0,0,0,0,0,0,1,0,0,0,0,0,1,1,0,0,0,0,0,0,0,0,0,0,0,0,0,0,0,0,0,0,0,0,0,1,1,1,1,1,0,0,0,0,0,0,0,0,0,0,0,0,0,0,0,0,0,0,0,0,0,0,0,0,1,1,1,0,0,0,0,0,0,0,0,0,0,0,0,0,0,0,0,0,0,0,0,1,0,0,1,1,1,1,1,1,0,0,0,0,0,0,0,0,0,0,1,1,1,0,0,1,0,0,1,1,0,1,1,1,1,1,1,1,1,1,0,1,1,1,1,1,1,1,1,1,1,1,1,1,1,1,1,1,1,1,1,0,1,1,1,1,0,1,1,1,1,1,0,1,1,1,1,1,1,0,1,0,0,0,0,0,0,0,0,0,0,0,0,0,0,0,0,0,0,0,0,0,0,0,0,0,0,0,0,0,0,0,0,0,0,0,0,0,0,0,0,0,0,0,0,0,0,0,0,0,0,0,0,0,1,1,1,1,1,1,1,0,0,0,0,0,0,0,0,0,0,1,0,0,0,0,0,0,0,0,0,0,0,0,0,0,0,0,0,0,0,0,0,0,0,0,0,0,0,0,0,0,0,0,0,0,0,0,0,0,1,1,0,1,0,0,0,1,1,0,0,0,0,0,0,1,0,0,0,0,0,0,0,0,0,0,0,0,0,0,0,0,0,1,0,0,1,0,1,0,1,1,0,0,1,1,0,0,0,0,0,1,1,1,1,0,1,1,0,1,1,1,1,1,0,0,0,0,0,0,0,0,0,0,0,0,0,0,0,0,0,1,0,0,0,1,0,1,1,0,1,1,1,1,1,0,0,0,0,0,0,1,0,0,0,0,0,0,0,0,1,1,0,0,0,0,0,0,0,0,0,0,0,0,0,0,0,0,0,0,0,0,0,0,0,0,0,0,0,0,0,1,0,0,0,0,0,0,0,1,1,1,0,0,0,0,0,0,0,0,0,0,0,0,0,0,0,0,0,0,0,0,1,0,0,0,0,0,0,0,0,0,0,0,0,1,0,0,0,1,1,0,1,0,0,1,0,0,1,0,0,0,1,0,0,1,0,0,0,0,0,0,0,0,0,0,0,0,0,0,0,0,0,0,0,0,0,0,0,0,0,0,0,0,1,1,0,0,0,0,0,0,0,0,0,0,0,0,0,1,0,1,1,1,1,0,1,1,0,0,0,1,1,1,0,1,0,0,0,0,0,1,0,0,0,0,0,0,0,0,0,0,1,1,0,1,0,0,0,1,0,0,1,0,0,1,0,0,0,0,0,0,1,1,0,1,1,1,0,0,0,0,0,0,1,1,1,1,1,1,0,0,0,0,1,0,0,0,0,0,1,1,0,0,0,0,0,1,0,1,1,1,1,0,0,0,0,0,0,0,1,0,1,0,0,1,0,0,0,0,0,0,0,0,0,0,0,0,0,0,0,0,0,0,0,0,0,0,0,1,0,1,1,0,0,0,1,0,0,0,0,0,0,0,0,0,0,0,0,0,0,0,0,0,0,0,0,1,0,1,1,0,1,0,1,0,0,1,1,1,1,0,1,1,1,1,1,1,0,0,0,0,0,0,1,0,0,0,0,0,0,1,0,0,0,0,0,0,0,0,0,0,0,0,0,0,0,0,0,0,0,0,0,0,0,0,0,0,0,0,0,0,0,0,0,0,0,0,0,0,0,0,0,0,0,0,0,0,0,0,0,0,0,0,0,0,0,0,0,0,0,0,0,0,0,0,0,0,0,0,0,0,0,0,0,0,0,0,0,0,0,0,0,0,0,0,0,0,0,0,0,0,0,0,0,1,1,1,1,0,1,1,0,0,0,0,0,0,1,1,1,1,1,1,1,1,1,1,1,1,1,1,0,0,0,1,1,0,0,1,1,1,1,0,0,0,1,1,0,0,1,1,0,1,1,1,1,1,1,1,1,1,1,1,1,1,0,0,0,0,0,0,0,0,0,1,1,0,0,1,1,1,1,1,1,1,1,1,1,1,1,1,1,1,1,1,1,1,1,1,1,1,1,1,1,1,1,1,1,1,1,1,1,1,1,1,1,1,1,1,1,1,1,1,1,1,1,1,1,1,1,1,1,1,1,1,1,1,1,1,1,1,1,1,1,1,1,1,1,1,1,1,1,1,1,1,1,1,1,1,1,1,1,1,1,1,1,1,1,1,1,1,1,1,1,1,1,1,1,1,1,1,1,1,1,1,1,1,1,1,1,1,1,1,1,1,1,1,1,1,1,1,1,1,1,1,1,1,1,1,1,1,1,1,1,1,1,1,1,1,1,1,1,1,1,1,1,1,1,1,1,1,1,1,1,1,1,1,1,1,1,1,1,1,1,1,1,1,1,1,1,1,1,1,1,1,1,1,1,1,1,1,1,1,1,1,1,1,1,1,1,1,1,1,1,1,1,1,1,1,1,1,1,1,1,1,1,1,1,1,1,1,1,1,1,1,1,1,1,1,1,1,1,1,1,1,1,1,1,1,1,1,1,1,1,1,1,1,1,1,1,1,1,1,1,1,1,1,1,1,1,1,1,1,1,1,1,1,1,1,1,1,1,1,1,1,1,1,1,1,1,1,1,1,1,1,1,1,1,1,1,1,1,1,1,1,1,1,1,1,1,1,1,1,1,1,1,1,1,1,1,1,1,1,1,1,1,1,1,1,1,1,1,1,1,1,1,1,1,1,1,1,1,1,1,1,1,1,1,1,1,1,1,1,1,1,1,1,1,1,1,1,1,1,1,1,1,1,1,1,1,1,1,1,1,1,1,1,1,1,1,1,1,1,1,1,1,1,1,1,1,1,1,1,1,1,1,1,1,1,1,1,1,1,1,1,1,1,1,1,1,1,1,1,1,1,1,1,1,1,1,1,1,1,1,1,1,1,1,1,1,1,1,1,1,1,1,1,1,1,1,1,1,1,1,1,1,1,1,1,1,1,1,1,1,1,1,1,1,1,1,1,1,1,1,1,1,1,1,1,1,1,1,1,1,1,1,1,1,1,1,1,1,1,1,1,1,1,1,1,1,1,1,1,1,1,1,1,1,1,1,1,1,1,1,1,1,1,1,1,1,1,1,1,1,1,1,1,1,1,1,1,1,1,1,1,1,1,1,1,1,1,1,1,1,1,1,1,1,1,1,1,1,1,1,1,1,1,1,1,1,1,1,1,1,1,1,1,1,1,1,1,1,1,1,1,1,1,1,1,1,1,1,1,1,1,1,1,1,1,1,1,1,1,1,1,1,1,1,1,1,1,1,1,1,1,1,1,1,1,1,1,1,1,1,1,1,1,1,1,1,1,1,1,1,1,1,1,1,1,1,1,1,1,1,1,1,1,1,1,1,1,1,1,1,1,1,1,1,1,1,1,1,1,1,1,1,1,1,1,1,1,1,1,1,1,1,1,1,1,1,1,1,1,1,1,1,1,1,1,1,1,1,1,1,1,1,1,1,1,1,1,1,1,1,1,1,1,1,1,1,1,1,1,1,1,1,1,1,1,1,1,1,1,1,1,1,1,1,1,1,1,1,1,1,1,1,1,1,1,1,1,1,1,1,1,1,1,1,1,1,1,1,1,1,1,1,1,1,1,1,1,1,1,1,1,1,1,1,1,1,1,1,1,1,1,1,1,1,1,1,1,1,1,1,1,1,1,1,1,1,1,1,1,1,1,1,1,1,1,1,1,1,1,1,1,1,1,1,1,1,1,1,1,1,1,1,1,1,1,1,1,1,1,1,1,1,1,1,1,1,1,1,1,1,1,1,1,1,1,1,1,1,1,1,1,1,1,1,1,1,1,1,1,1,1,1,1,1,1,1,1,1,1,1,1,1,1,1,1,1,1,1,1,1,1,1,1,1,1,1,1,1,1,1,1,1,1,1,1,1,1,1,1,1,1,1,1,1,1,1,1,1,1,1,1,1,1,1,1,1,1,1,1,1,1,1,1,1,1,1,1,1,1,1,1,1,1,1,1,1,1,1,1,1,1,1,1,1,1,1,1,1,1,1,1,1,1,1,1,1,1,1,1,1,1,1,1,1,1,1,1,1,1,1,1,1,1,1,1,1,1,1,1,1,1,1,1,1,1,1,1,1,1,1,1,1,1,1,1,1,1,1,1,1,1,1,1,1,1,1,1,1,1,1,1,1,1,1,1,1,1,1,1,1,1,1,1,1,1,1,1,1,1,1,1,1,1,1,1,1,1,1,1,1,1,1,1,1,1,1,1,1,1,1,1,1,1,1,1,1,1,1,1,1,1,1,1,1,1,1,1,1,1,1,1,1,1,1,1,1,1,1,1,1,1,1,1,1,1,1,1,1,1,1,1,1,0,1,1,1,1,1,0,1,1,1,1,1,1,1,1,1,1,0,1,1,1,1,1,1,1,1,1,1,1,1,1,1,1,1,1,1,1,1,1,1,1,1,1,1,1,1,1,1,1,1,1,1,1,1,1,1,1,1,1,1,1,1,1,1,1,1,1,1,1,1,1,1,1,1,1,1,1,1,1,1,1,1,1,1,1,1,1,1,1,1,1,1,1,1,1,1,1,1,1,1,1,1,1,1,1,1,1,1,1,1,1,1,1,1,1,1,1,1,1,1,1,1,1,1,1,1,1,1,1,1,1,1,1,1,1,1,1,1,1,1,1,1,1,1,1,1,1,1,1,1,1,1,1,1,1,1,1,1,1,1,1,1,1,1,1,1,1,1,1,1,1,1,1,1,1,1,1,1,1,1,1,1,1,1,1,1,1,1,1,1,1,1,1,1,1,1,1,1,1,1,1,1,1,1,1,1,1,1,1,1,1,1,1,1,1,1,1,1,1,1,1,1,1,1,1,1,1,1,1,1,1,1,1,1,1,1,1,1,1,1,1,1,1,1,1,1,1,1,1,1,1,1,1,1,1,1,1,1,1,1,1,1,1,1,1,1,1,1,1,1,1,1,1,1,1,1,1,1,1,1,1,1,1,1,1,1,1,1,1,1,1,1,1,1,1,1,1,1,1,1,1,1,1,1,1,1,1,1,1,1,1,1,1,1,1,1,1,1,1,1,1,1,1,1,1,1,1,1,1,1,1,1,1,1,1,1,1,1,1,1,1,1,1,1,1,1,1,1,1,1,1,1,1,1,1,1,1,1,1,1,1,1,1,1,1,1,1,1,1,1,1,1,1,1,1,1,1,1,1,1,1,1,1,1,1,1,1,1,1,1,1,1,1,1,1,1,1,1,1,1,1,1,1,1,1,1,1,1,1,1,1,1,1,1,1,1,1,1,1,1,1,1,1,1,1,1,1,1,1,1,1,1,1,1,1,1,1,1,1,1,1,1,1,1,1,1,1,1,1,1,1,1,1,1,1,1,1,1,1,1,1,1,1,1,1,1,1,1,1,1,1,1,1,1,1,1,1,1,1,1,1,1,1,1,1,1,1,1,1,1,1,1,1,1,1,1,1,1,1,1,1,1,1,1,1,1,1,1,1,1,1,1,1,1,1,1,1,1,1,1,1,1,1,1,1,1,1,1,1,1,1,1,1,1,1,1,1,1,1,1,1,1,1,1,1,1,1,1,1,1,1,1,1,1,1,1,1,1,1,1,1,1,1,1,1,1,1,1,1,1,1,1,1,1,1,1,1,1,1,1,1,1,1,1,1,1,1,1,1,1,1,1,1,1,1,1,1,1,1,1,1,1,1,1,1,1,1,1,1,1,1,1,1,1,1,1,1,1,1,1,1,1,1,1,1,1,1,1,1,1,1,1,1,1,1,1,1,1,1,1,1,1,1,0,0,1,1,1,1,1,1,1,1,1,1,1,1,1,1,1,1,1,1,1,1,1,1,1,1,1,1,1,1,1,1,1,1,1,1,1,1,1,1,1,1,1,1,1,1,1,1,1,1,1,1,1,1,1,1,1,1,1,1,1,1,1,1,1,1,1,1,1,1,1,1,1,1,1,1,1,1,1,1,1,1,1,1,1,1,1,1,1,1,1,1,1,1,1,1,1,1,1,1,1,1,1,1,1,1,1,1,1,1,1,1,1,1,1,1,1,1,1,1,1,1,1,1,1,1,1,1,1,1,1,1,1,1,1,1,1,1,1,1,1,1,1,1,1,1,1,1,1,1,1,1,1,1,1,1,1,1,1,1,1,1,1,1,1,1,1,1,1,1,1,1,1,1,1,1,1,1,1,1,1,1,1,1,1,1,1,1,1,1,1,1,1,1,1,1,1,1,1,1,1,1,1,1,1,1,1,1,1,1,1,1,1,1,1,1,1,1,1,1,1,1,1,1,1,1,1,1,1,1,1,1,1,1,1,1,1,1,1,1,1,1,1,1,1,1,1,1,1,1,1,1,1,1,1,1,1,1,1,1,1,1,1,1,1,1,1,1,1,1,1,1,1,1,1,1,1,1,1,1,1,1,1,1,1,1,1,1,1,1,1,1,1,1,1,1,1,1,1,1,1,1,1,1,1,1,1,1,1,1,1,1,1,1,1,1,1,1,1,1,1,1,1,1,1,1,1,1,1,1,1,1,1,1,1,1,1,1,1,1,1,1,1,1,1,1,1,1,1,1,1,1,1,1,1,1,1,1,1,1,1,1,1,1,1,1,1,1,1,1,1,1,1,1,1,1,1,1,1,1,1,1,1,1,1,1,1,1,1,1,1,1,1,1,1,1,1,1,1,1,1,1,1,1,1,1,1,1,1,1,1,1,1,1,1,1,1,1,1,1,1,1,1,1,1,1,1,1,1,1,1,1,1,1,1,1,1,1,1,1,1,1,1,1,1,1,1,1,1,1,1,1,1,1,1,1,1,1,1,1,1,1,1,1,1,1,1,1,1,1,1,1,1,1,1,1,1,1,1,1,1,1,1,0,1,1,1,1,1,1,1,1,1,1,1,1,1,1,1,1,1,1,1,1,1,1,1,1,1,1,1,1,1,1,1,1,1,1,1,1,1,1,1,1,1,1,1,1,1,1,1,1,1,1,1,1,1,1,1,1,1,1,1,1,1,1,1,1,1,1,1,1,1,1,1,1,1,1,1,1,1,1,1,1,1,1,1,1,1,1,1,1,1,1,1,1,1,1,1,1,1,1,1,1,1,1,1,1,1,1,1,1,1,1,1,1,1,1,1,1,1,1,1,1,1,1,1,1,1,1,1,1,1,1,1,1,1,1,1,1,1,1,1,1,1,1,1,1,1,1,1,1,1,1,1,1,1,1,1,1,1,1,1,1,1,1,1,1,1,1,1,1,1,1,1,1,1,1,1,1,1,1,1,1,1,1,1,1,1,1,1,1,1,1,1,1,1,1,1,1,1,1,1,1,1,1,1,1,1,1,1,1,1,1,1,1,1,1,1,1,1,1,1,1,1,1,1,1,1,1,1,1,1,1,1,1,1,1,1,1,1,1,1,1,1,1,1,1,1,1,1,1,1,1,1,1,1,1,1,1,1,1,1,1,1,1,1,1,1,1,1,1,1,1,1,1,1,1,1,1,1,1,1,1,1,1,1,1,1,1,1,1,1,1,1,1,1,1,1,1,1,1,1,1,1,1,1,1,1,1,1,1,1,1,1,1,1,1,1,1,1,1,1,1,1,1,1,1,1,1,1,1,1,1,1,1,1,1,1,1,1,1,1,1,1,1,1,1,1,1,1,1,1,1,1,1,1,1,1,1,1,1,1,1,1,1,1,1,1,1,1,1,1,1,1,1,1,1,1,1,1,1,1,1,1,1,1,1,1,1,1,1,1,1,1,1,1,1,1,1,1,1,1,1,1,1,1,1,1,1,1,1,1,1,1,1,1,1,1,1,1,1,1,1,1,1,1,1,1,1,1,1,1,1,1,1,1,1,1,1,1,1,1,1,1,1,1,1,1,1,1,1,1,1,1,1,1,1,1,1,1,1,1,1,1,1,1,1,1,1,1,1,1,1,1,1,1,1,1,1,1,1,1,1,1,1,1,1,1,1,1,1,1,1,1,1,1,1,1,1,1,1,1,1,1,1,1,1,1,1,1,1,1,1,1,1,1,1,1,1,1,1,1,1,1,1,1,1,1,1,1,1,1,1,1,1,1,1,1,1,1,1,1,1,1,1,1,1,1,1,1,1,1,1,1,1,1,1,1,1,1,1,1,1,1,1,1,1,1,1,1,1,1,1,1,1,1,1,1,1,1,1,1,1,1,1,1,1,1,1,1,1,1,1,1,1,1,1,1,1,1,1,1,1,1,1,1,1,1,1,1,1,1,1,1,1,1,1,1,1,1,1,1,1,1,1,1,1,1,1,1,1,1,1,1,1,1,1,1,1,1,1,1,1,1,1,1,1,1,1,1,1,1,1,1,1,1,1,1,1,1,1,1,1,1,1,1,1,1,1,1,1,1,1,1,1,1,1,1,1,1,1,1,1,1,1,1,1,1,1,1,1,1,1,1,1,1,1,1,1,1,1,1,1,1,1,1,1,1,1,1,1,1,1,1,1,1,1,1,1,1,1,1,1,1,1,1,1,1,1,1,1,1,1,1,1,1,1,1,1,1,1,1,1,1,1,1,1,1,1,1,1,1,1,1,1,1,1,1,1,1,1,1,1,1,1,1,1,1,1,1,1,1,1,1,1,1,1,1,1,1,1,1,1,1,1,1,1,1,1,1,1,1,1,1,1,1,1,1,1,1,1,1,1,1,1,1,1,1,1,1,1,1,1,1,1,1,1,1,1,1,1,1,0,0,1,0,1,1,1,1,1,1,1,1,1,1,1,1,1,1,1,0,1,1,1,1,0,0,0,0,0,0,0,0,0,0,0,0,0,0,0,0,0,0,0,0,1,1,0,0,1,1,0,1,1,1,1,1,1,1,1,1,1,1,1,1,1,1,1,1,1,1,0,1,0,0,0,1,0,1,1,0,1,1,1,0,0,0,0,0,0,0,0,0,0,0,0,0,0,0,0,0,0,0,0,0,0,0,0,0,0,0,0,0,0,1,1,1,1,1,0,1,1,0,0,0,0,0,0,0,0,0,0,0,0,0,0,0,0,0,0,0,0,0,0,0,0,0,0,0,0,0,0,0,0,0,0,0,0,0,0,0,0,0,0,0,0,0,0,0,0,0,0,0,0,0,0,0,0,0,0,0,0,0,0,0,0,0,0,0,0,0,0,0,0,0,0,0,0,0,0,0,0,0,0,0,0,0,0,0,0,0,0,0,0,0,0,0,0,0,0,0,0,0,0,0,0,1,1,1,1,1,0,0,0,0,0,0,0,0,0,0,0,0,0,0,0,0,0,0,0,0,0,0,0,0,0,0,0,0,0,0,0,0,0,0,0,0,0,0,0,0,0,0,0,0,0,0,0,0,0,0,0,0,0,0,0,0,0,0,0,0,0,0,0,0,0,0,0,0,1,0,0,0,0,1,1,1,1,1,1,1,1,1,1,1,1,1,1,1,1,1,1,1,1,1,1,1,1,1,1,1,1,1,1,1,1,1,1,1,1,1,1,1,1,1,1,1,1,1,1,1,1,1,1,1,1,1,1,1,1,1,1,1,1,1,1,1,1,1,1,1,1,1,1,1,1,1,1,1,1,1,1,1,1,1,1,1,1,1,1,1,1,1,1,1,1,1,1,1,1,1,1,1,1,1,1,1,1,1,1,1,1,1,1,1,1,1,1,1,1,1,1,1,1,1,1,1,1,1,1,1,1,1,1,1,1,1,1,1,1,1,1,1,1,1,1,1,1,1,1,1,1,1,1,1,1,1,1,1,1,1,1,1,1,1,1,1,1,1,1,1,1,1,1,1,1,1,1,1,1,1,1,1,1,1,1,1,1,1,1,1,1,1,1,1,1,1,1,1,1,1,1,1,1,1,1,1,1,1,1,1,1,1,1,1,1,1,1,1,1,1,1,1,1,1,1,1,1,1,1,1,1,1,1,1,1,1,1,1,1,1,1,1,1,1,1,1,1,1,1,1,1,1,1,1,1,1,1,1,1,1,1,1,1,1,1,1,1,1,1,1,1,1,1,1,1,1,1,1,1,1,1,1,1,1,1,1,1,1,1,1,1,1,1,1,1,1,1,1,1,1,1,1,1,1,1,1,1,1,1,1,1,1,1,1,1,1,1,1,1,1,1,1,1,1,1,1,1,1,1,1,1,1,1,1,1,1,1,1,1,1,1,1,1,1,1,1,1,1,1,1,1,1,1,1,1,1,1,1,1,1,1,1,1,1,1,1,1,1,1,1,1,1,1,1,1,1,1,1,1,1,1,1,1,1,1,1,1,1,1,1,1,1,1,1,1,1,1,1,1,1,1,1,1,1,1,1,1,1,1,1,1,1,1,1,1,1,1,1,1,1,1,1,1,1,1,1,1,1,1,1,1,1,1,1,0,0,0,0,0,0,0,0,0,0,0,0,0,0,0,0,0,0,0,0,0,0,0,0,0,0,0,0,0,0,0,0,0,0,0,0,0,0,0,0,0,0,0,0,0,0,0,0,0,0,0,0,0,0,0,0,0,0,0,0,0,0,0,0,0,0,0,0,1,0,0,1,0,0,0,0,0,0,0,0,0,1,0,0,1,0,0,0,1,1,1,1,1,1,1,1,1,0,1,0,0,0,0,0,0,0,0,0,0,0,0,0,0,0,0,0,0,0,0,0,0,0,0,0,0,0,0,0,0,0,0,0,0,0,0,0,0,0,0,0,0,0,0,0,0,0,0,0,0,0,0,0,0,0,0,0,0,0,0,0,0,1,1,1,1,1,1,0,0,0,0,0,0,0,0,0,0,0,0,0,0,0,0,0,0,0,0,0,0,0,0,0,0,0,0,0,0,0,0,0,0,0,0,0,0,0,0,0,0,0,0,0,0,0,0,0,0,0,0,0,0,0,0,0,0,0,0,0,0,0,0,0,0,0,0,0,0,0,0,0,0,0,0,0,0,0,0,0,0,0,0,0,1,1,1,1,1,0,0,0,0,0,1,1,0,1,0,1,0,0,0,0,0,0,0,0,0,0,0,0,0,0,0,1,1,0,0,0,0,0,0,0,0,1,1,1,1,1,1,0,0,0,0,0,0,0,0,0,0,0,0,0,0,0,0,0,0,0,0,0,0,0,0,0,0,0,0,0,1,0,0,0,0,0,0,0,0,0,0,0,0,0,0,0,0,0,0,0,0,0,0,0,0,0,0,0,0,0,0,0,0,0,0,0,0,0,0,0,0,0,0,0,0,0,0,0,0,1,0,0,0,0,0,0,0,0,1,0,1,1,1,1,1,1,1,1,1,1,1,0,1,1,1,1,0,0,1,1,1,1,1,1,1,1,1,1,1,0,1,1,1,1,1,1,1,1,1,1,0,1,1,1,1,1,1,1,1,1,1,1,1,1,1,1,0,1,0,0,0,1,0,0,0,0,0,0,0,1,0,0,1,1,0,1,1,1,1,0,1,1,0,1,1,0,0,1,0,0,0,1,1,0,1,1,1,1,1,1,1,1,0,1,1,1,1,1,1,1,1,1,1,1,1,1,1,1,1,1,0,1,1,1,1,1,1,1,1,0,0,1,1,0,0,1,0,1,1,0,1,1,1,1,1,0,0,0,0,0,1,1,1,0,0,1,1,1,1,1,1,0,1,0,1,1,0,1,1,1,1,1,1,1,1,0,1,1,1,1,1,1,1,0,1,1,1,1,1,1,1,1,1,0,1,1,1,1,1,1,0,1,1,1,1,1,1,1,1,1,1,1,0,0,1,0,0,0,0,1,0,1,0,0,0,0,1,0,0,1,0,0,0,1,0,1,0,0,0,0,0,0,1,0,0,0,1,0,0,1,0,0,0,0,0,1,1,0,0,0,1,0,0,1,0,0,0,1,1,0,1,0,1,1,1,1,0,0,1,1,1,0,1,1,1,0,0,0,0,1,0,1,0,0,0,1,0,1,0,1,0,0,0,0,0,0,0,0,0,0,0,0,0,0,0,0,0,0,0,0,0,1,0,0,0,0,0,0,0,1,0,0,0,0,0,0,0,0,0,1,0,0,0,0,0,0,0,0,0,1,0,0,0,1,0,0,0,0,0,1,0,0,0,0,0,0,0,0,1,0,1,1,0,0,0,0,0,1,1,0,1,1,1,1,1,1,1,0,1,1,0,1,1,1,1,1,1,1,1,1,0,1,1,1,1,1,0,1,0,0,0,0,0,0,1,1,0,1,1,1,1,1,1,1,1,1,1,1,1,1,1,1,1,1,1,1,0,1,0,1,0,1,1,0,0,0,0,1,1,1,1,1,1,1,0,1,0,1,0,0,0,0,0,1,0,1,1,1,0,0,0,0,0,0,0,0,0,0,0,0,0,0,0,0,0,0,0,0,0,0,0,0,0,0,0,0,0,0,0,0,0,0,0,0,0,0,0,0,0,0,0,0,0,0,0,0,0,0,0,0,0,0,0,0,0,0,0,0,0,0,0,1,0,0,0,0,0,0,0,0,0,0,0,0,0,0,1,1,1,1,1,1,0,0,0,0,1,1,0,1,1,0,0,0,0,0,0,0,0,1,1,0,0,0,0,0,0,1,0,0,0,1,1,1,1,1,1,0,1,0,0,0,0,0,0,0,0,0,0,1,1,1,0,1,0,1,1,1,1,1,1,1,1,1,0,1,1,0,0,0,0,0,0,0,0,0,1,0,0,0,1,0,0,0,0,0,0,0,0,0,0,0,0,0,0,0,0,0,0,0,0,0,0,0,0,0,0,0,0,0,0,0,0,0,0,0,0,0,0,0,0,0,0,0,0,0,0,0,0,0,0,0,0,0,0,0,0,0,0,0,0,0,1,1,0,0,0,0,0,0,0,0,0,0,0,0,0,0,0,0,0,0,0,0,0,0,0,0,0,0,0,0,0,0,0,0,0,0,0,0,0,0,0,0,0,0,0,0,0,0,0,0,0,0,0,0,0,0,0,0,0,0,0,0,0,0,0,0,0,0,0,0,0,0,0,0,0,0,0,0,0,0,0,0,0,1,0,0,0,1,0,0,1,1,1,1,1,1,0,0,0,0,0,0,0,0,0,0,0,0,0,0,0,0,0,0,0,0,0,0,0,0,0,0,0,0,0,0,0,0,0,0,0,0,0,0,0,0,0,0,0,0,0,0,0,0,1,1,0,0,0,0,0,0,0,0,0,0,0,0,0,0,0,0,0,0,0,0,0,0,0,0,0,0,0,0,0,0,0,0,0,0,0,0,0,0,0,0,0,0,0,0,0,0,0,0,0,0,0,0,0,0,0,0,0,0,0,0,0,0,0,0,0,0,0,0,0,0,0,0,0,0,0,0,0,0,0,0,0,0,0,0,0,0,0,0,0,0,0,0,0,0,0,0,0,0,0,0,0,0,0,0,0,0,0,0,0,0,0,1,0,0,0,0,0,0,0,0,0,0,0,0,0,0,0,0,0,0,0,0,0,0,0,0,1,1,0,0,0,0,0,0,0,0,0,1,1,0,0,0,0,0,0,0,0,0,0,0,0,0,0,0,0,0,0,0,0,0,0,0,0,0,0,0,1,0,0,0,0,1,0,0,0,0,0,0,1,1,0,0,1,1,0,0,0,0,0,0,0,0,0,0,0,0,0,0,0,0,0,0,0,0,0,0,0,0,0,0,0,1,0,0,0,0,0,0,0,0,0,0,0,0,0,0,0,0,0,0,0,1,0,1,0,0,0,0,0,0,0,0,0,0,0,0,0,0,0,0,0,0,0,0,0,0,0,0,0,0,1,0,0,0,0,0,0,0,0,0,0,0,0,0,0,1,0,0,0,0,0,0,0,0,0,0,0,0,0,0,0,0,0,0,0,0,0,1,0,0,1,0,0,0,0,0,0,0,0,0,0,0,0,0,0,0,0,0,0,0,0,0,0,0,0,0,0,0,0,0,0,0,0,0,0,0,0,0,0,0,0,0,0,0,0,0,0,0,0,0,0,0,0,0,0,0,0,0,0,0,0,0,0,0,0,0,0,1,0,0,0,0,1,1,0,0,0,0,0,1,0,0,1,1,0,1,0,0,0,0,0,1,0,0,1,0,0,0,0,0,0,0,0,0,0,0,0,1,0,1,0,0,0,0,1,1,1,1,0,0,1,1,0,0,0,0,0,0,1,0,0,0,0,0,1,1,0,0,0,1,0,0,0,0,1,0,0,0,0,0,1,0,0,0,0,0,0,0,0,0,0,1,0,1,0,1,0,0,0,1,0,0,1,1,1,0,1,1,1,0,0,1,0,0,0,1,0,0,0,0,0,0,0,0,0,1,1,0,0,1,0,1,0,0,1,1,0,1,0,1,1,1,0,0,0,0,0,0,1,1,0,1,0,1,0,0,0,0,0,0,0,0,0,0,0,1,0,0,0,0,1,1,0,0,0,1,0,0,0,0,0,0,1,0,0,1,0,1,0,0,0,0,0,1,0,1,1,0,1,0,0,0,0,1,0,1,0,1,0,0,0,0,0,0,0,0,0,0,0,0,0,1,0,0,0,0,0,0,1,1,1,0,1,1,0,0,0,1,1,1,1,1,0,1,1,0,0,0,0,0,1,0,0,1,1,1,0,0,0,0,0,0,1,0,0,1,0,0,0,1,1,1,1,0,1,0,1,0,1,0,0,0,0,0,0,0,0,0,0,0,1,0,0,0,0,0,0,0,0,1,0,0,0,0,1,0,0,1,0,0,1,0,0,0,0,0,0,1,1,1,1,1,1,0,1,0,1,1,0,0,1,0,1,0,0,1,0,0,0,0,0,0,1,0,0,1,1,1,1,0,0,0,0,0,0,0,0,0,0,0,0,0,0,0,0,0,0,0,0,0,0,0,0,0,0,0,0,0,0,0,0,0,0,0,0,0,0,0,0,0,0,0,0,0,0,0,0,0,0,0,0,0,0,0,0,0,0,0,1,1,1,0,0,0,0,0,0,0,1,1,1,1,1,1,0,1,1,1,1,0,1,0,0,0,1,0,1,0,0,1,1,1,1,1,1,1,1,1,1,1,1,1,0,1,1,1,1,1,1,1,1,1,1,1,0,1,0,0,1,1,1,0,1,1,1,1,1,1,1,1,1,0,1,1,1,1,1,1,1,1,0,0,1,0,1,1,1,1,1,1,1,1,0,1,1,1,1,1,1,1,1,0,1,1,1,1,1,1,1,0,1,1,0,1,1,1,0,1,1,1,1,1,0,1,1,1,0,0,0,1,1,0,0,1,1,1,1,0,1,1,1,1,1,0,1,0,1,1,1,1,1,1,1,1,1,1,1,1,1,0,0,0,1,1,1,1,1,1,0,1,1,1,1,1,1,1,1,1,1,1,1,1,1,1,1,1,1,1,1,1,1,1,1,1,1,1,1,1,1,1,1,1,1,1,1,1,1,1,1,1,1,1,1,1,1,1,1,1,1,1,1,1,1,1,1,1,1,1,1,1,1,1,1,1,1,1,1,1,1,1,1,1,1,1,1,1,1,1,1,1,1,1,1,1,1,1,1,1,1,1,1,1,1,1,1,1,1,1,1,1,1,1,1,1,1,1,1,1,1,1,1,1,1,1,1,1,1,1,1,1,1,1,1,1,1,1,1,1,1,1,1,1,1,1,1,1,1,1,1,1,1,1,1,1,1,0,1,1,1,1,1,1,1,1,1,1,1,1,1,1,1,1,1,1,1,1,1,1,0,1,1,0,1,1,1,1,1,1,0,1,0,1,1,1,1,1,1,0,0,0,0,0,0,0,0,0,0,0,0,0,0,0,0,0,0,0,0,0,0,0,0,0,0,0,0,0,0,0,0,0,0,0,0,0,1,1,0,1,1,0,0,0,1,0,1,0,0,1,0,0,0,0,1,1,1,0,1,1,1,1,1,1,1,1,1,1,1,1,1,1,1,0,1,1,1,1,1,1,1,1,1,1,1,1,1,1,1,1,1,1,0,0,1,0,1,1,1,1,1,1,1,0,0,0,1,1,1,0,1,1,1,0,1,0,0,1,1,1,1,1,1,1,1,1,1,1,1,1,1,0,1,1,0,1,1,1,1,1,1,0,0,0,0,0,0,0,0,0,0,0,0,0,0,0,0,0,0,1,1,1,1,1,0,0,0,0,1,0,0,1,0,1,0,1,1,0,0,0,0,0,0,0,0,0,0,0,0,0,1,0,1,1,0,1,0,1,1,1,0,1,1,1,0,0,0,1,0,0,1,1,1,1,1,1,1,1,1,1,1,1,1,0,0,1,1,0,0,0,1,1,1,1,1,1,0,0,1,1,1,0,1,0,0,1,1,0,0,0,0,1,0,0,1,1,1,1,1,0,1,1,1,1,1,1,1,1,1,1,1,1,1,1,1,0,0,1,0,0,0,0,0,0,0,0,0,0,0,0,0,0,0,0,0,0,0,0,0,0,0,0,0,0,0,0,0,0,0,0,0,0,0,0,0,0,0,0,0,0,0,0,0,0,0,0,0,0,0,0,0,0,0,0,0,0,0,0,0,0,0,0,0,0,0,0,0,0,0,0,0,0,0,0,0,0,0,1,1,0,0,0,0,0,0,0,0,0,0,0,0,0,0,0,0,0,0,0,0,0,0,0,1,0,0,1,0,1,0,0,0,0,0,0,1,1,0,0,0,1,0,0,0,0,0,0,0,0,0,0,0,1,0,0,0,0,1,1,0,0,0,0,0,0,0,0,0,0,0,0,0,0,0,0,0,0,0,1,1,1,1,1,0,0,0,0,1,0,0,0,0,0,0,0,0,0,0,0,0,0,0,0,0,0,0,0,0,0,0,0,1,0,0,0,0,0,0,0,0,0,0,0,0,0,0,0,0,0,0,0,0,0,0,0,0,0,0,0,0,0,0,0,0,0,0,0,0,0,0,0,0,0,0,0,0,0,0,0,0,0,1,0,0,0,0,1,1,0,0,0,0,0,0,0,0,0,0,0,0,0,0,0,0,0,0,0,0,0,0,0,0,0,0,0,0,0,0,0,1,0,0,0,0,0,0,0,0,0,0,0,0,0,0,0,0,0,0,0,0,0,0,0,0,0,0,0,0,0,0,0,0,0,0,0,0,0,0,0,0,0,0,0,0,0,0,0,0,0,0,0,0,0,0,0,0,0,0,0,0,0,0,0,0,0,0,0,0,0,0,0,0,0,0,0,0,0,0,0,0,0,0,0,0,0,0,0,0,0,0,0,0,0,0,0,0,0,0,0,0,0,0,0,0,0,0,0,0,0,0,0,0,0,0,0,0,0,0,0,0,0,0,0,0,0,0,0,0,0,0,0,0,0,0,0,0,0,0,0,0,0,0,0,0,0,0,0,0,0,0,0,0,0,0,0,0,0,0,0,0,0,0,0,0,0,0,0,0,0,0,0,0,0,0,0,0,0,0,0,0,0,0,0,0,0,0,0,1,0,0,0,0,0,0,0,0,0,0,0,0,0,0,0,0,0,0,0,0,0,0,0,0,0,0,0,0,0,0,0,0,0,0,0,0,0,0,0,0,0,0,0,0,0,0,0,0,0,0,0,0,0,0,0,0,0,0,0,0,0,0,0,0,0,0,0,0,0,0,0,0,0,0,0,0,0,0,0,0,0,0,0,0,1,1,1,1,0,1,0,0,0,0,0,0,0,0,0,0,0,0,0,0,0,0,0,0,0,0,0,0,0,0,0,0,0,0,0,0,0,0,0,0,0,0,0,0,0,0,0,0,0,0,0,0,0,0,0,0,0,0,0,0,0,0,0,0,0,0,0,0,0,0,0,0,0,0,1,0,0,0,0,0,1,1,0,0,0,0,0,0,0,0,0,1,1,1,1,1,0,0,0,0,1,0,0,1,0,0,0,0,0,0,0,0,0,1,0,0,0,0,0,0,0,0,0,0,0,0,0,0,0,0,1,0,0,0,1,0,1,1,0,1,1,1,1,0,0,1,1,1,0,1,1,1,1,1,1,1,1,1,0,0,1,0,0,0,1,1,1,0,0,0,0,1,1,1,1,1,1,0,1,1,1,1,0,0,0,1,1,1,1,1,1,0,1,1,1,1,1,1,0,0,1,0,0,0,0,0,0,0,0,0,0,0,0,0,0,0,0,0,0,0,0,1,0,0,0,0,0,0,0,0,0,0,0,0,0,0,0,0,0,0,0,0,0,0,0,1,1,1,1,1,1,1,1,0,0,1,0,0,0,0,0,0,0,0,0,0,0,1,0,0,0,1,1,1,1,0,1,1,0,0,0,0,0,0,0,0,1,0,0,0,0,0,0,1,0,0,0,1,1,1,0,0,0,0,0,0,1,0,0,0,0,0,0,0,1,0,1,1,0,0,0,1,0,0,1,0,0,0,1,0,0,1,1,1,0,0,0,0,0,0,1,0,0,0,0,0,0,0,0,1,0,0,0,0,0,0,0,1,1,1,1,1,0,0,0,0,0,0,0,0,0,0,0,0,0,1,1,1,1,1,1,1,1,1,1,1,1,1,1,1,1,1,1,1,1,1,0,0,0,0,0,0,0,0,0,0,0,0,0,0,0,0,0,0,0,0,0,0,0,0,0,1,0,0,0,0,0,0,0,0,0,0,0,0,0,0,0,0,0,0,0,0,0,0,0,0,0,0,0,0,0,0,0,0,0,0,0,0,0,0,0,0,0,0,0,0,0,0,0,0,0,0,0,0,0,0,0,0,0,0,0,0,0,0,0,0,0,0,0,0,0,0,0,0,0,0,1,1,1,1,1,1,0,0,0,0,0,0,0,0,0,0,0,0,0,0,0,0,0,0,0,0,0,0,0,0,0,0,0,0,0,0,0,0,0,0,0,0,0,0,0,0,0,0,0,0,0,0,0,0,0,0,0,0,0,0,0,0,0,0,0,0,0,0,0,0,0,0,0,0,0,0,1,0,0,0,0,0,0,0,0,0,0,0,0,0,0,0,0,0,0,0,0,0,0,0,0,0,0,0,0,0,0,0,1,0,0,0,0,0,0,0,1,0,0,0,0,0,0,0,0,0,0,0,0,0,0,0,0,0,0,0,0,0,0,0,0,0,0,0,0,0,0,0,0,0,0,0,0,0,0,0,0,1,1,0,0,1,1,1,1,1,1,1,0,1,1,1,0,1,1,1,1,1,1,1,1,0,0,1,0,1,1,1,0,0,1,0,1,1,1,1,1,0,1,1,1,1,0,1,1,1,1,1,1,0,0,1,1,1,0,1,0,0,1,0,0,1,1,1,1,1,0,0,0,0,0,0,0,0,0,0,0,0,0,0,0,0,0,1,0,0,0,0,0,0,0,0,1,0,0,0,0,0,0,0,0,0,0,0,0,0,0,0,0,0,0,1,0,0,0,0,1,1,1,1,1,0,1,0,0,0,0,0,1,0,0,0,0,0,0,0,0,0,0,0,0,0,0,0,0,0,0,0,0,0,0,0,0,0,0,0,0,0,0,0,0,0,0,0,0,0,0,0,0,0,0,0,0,0,0,0,0,0,0,0,0,0,0,0,0,0,0,0,0,0,0,0,0,0,0,0,0,0,0,0,0,0,0,0,0,0,0,0,0,0,0,0,0,0,0,0,0,0,0,0,0,0,0,0,0,0,0,0,0,0,0,0,0,0,0,0,0,0,1,1,0,0,0,1,0,0,0,0,0,0,0,0,0,0,0,0,0,0,0,0,0,0,0,0,0,0,0,0,0,1,1,0,0,0,0,0,0,0,0,0,0,0,0,0,0,0,0,0,0,0,1,0,0,1,0,0,0,0,0,0,0,0,0,0,0,1,0,0,0,0,0,0,0,0,0,0,0,0,1,1,1,1,0,0,0,0,0,0,0,0,1,1,0,0,0,0,0,0,0,1,0,0,0,1,0,0,0,0,0,0,0,0,0,1,0,1,0,0,0,0,0,0,1,1,0,1,0,0,0,1,0,0,0,0,0,1,1,0,0,0,0,1,0,0,0,0,0,0,0,0,0,0,0,0,0,0,0,0,0,0,0,0,0,0,0,0,0,0,0,0,0,0,1,1,1,1,1,1,1,1,1,1,1,0,1,1,1,1,1,0,0,0,0,1,1,1,1,0,1,1,0,1,1,1,1,1,1,1,1,1,1,1,1,1,1,1,1,1,1,0,0,1,1,1,0,1,0,0,1,1,1,1,1,1,1,1,1,0,0,1,1,1,0,1,1,1,1,0,1,1,1,1,1,1,1,1,1,1,1,1,1,1,1,1,1,1,1,0,0,1,1,1,1,1,1,0,1,1,1,0,0,0,1,1,1,1,0,0,0,0,0,1,1,0,1,1,1,1,1,1,0,0,0,0,0,0,1,0,0,0,0,0,0,0,0,0,0,0,0,1,0,1,0,0,0,0,0,0,0,0,0,0,0,1,1,1,1,1,0,0,1,0,1,0,0,0,0,0,0,0,0,0,0,0,0,0,0,0,0,1,1,0,0,0,0,1,0,0,1,1,0,0,0,0,0,0,0,0,0,0,0,0,0,0,0,0,1,1,1,1,1,1,0,1,0,0,0,0,0,0,0,0,0,0,0,0,0,0,0,0,0,0,0,0,0,0,0,0,0,0,0,0,0,1,1,1,1,1,1,1,1,1,1,1,1,1,1,0,0,0,0,0,0,0,0,0,0,0,0,0,0,0,0,0,0,0,0,0,1,0,0,0,0,0,1,0,0,0,1,0,0,0,0,0,0,0,0,0,0,0,0,0,0,0,0,0,0,0,0,0,0,0,0,0,0,0,0,1,0,0,0,0,0,0,0,0,0,0,0,0,0,0,0,0,0,0,0,0,0,0,0,0,0,0,0,0,1,0,0,0,0,0,0,0,0,0,0,0,1,0,0,0,0,0,0,0,0,0,0,0,0,0,0,0,0,0,0,0,0,0,0,0,0,0,0,0,0,1,1,1,1,1,0,1,1,0,0,1,1,1,0,0,0,1,0,0,0,0,0,0,0,0,0,0,0,0,0,0,0,0,0,0,0,0,0,0,0,0,0,0,0,0,0,0,0,0,0,0,0,0,0,0,0,0,0,0,0,0,0,0,0,0,0,0,0,0,0,0,0,0,0,0,0,0,0,0,0,0,0,0,0,0,0,0,0,0,0,0,0,0,0,0,0,0,0,0,0,0,0,0,0,0,0,0,0,0,0,0,0,0,0,0,0,1,1,1,0,1,0,0,0,0,1,1,1,1,0,0,0,0,0,0,0,0,0,0,0,0,0,0,0,0,0,0,0,0,0,0,0,0,0,0,0,0,0,0,0,0,0,0,0,0,0,0,0,0,0,0,0,0,0,0,0,0,0,0,0,0,0,0,0,0,0,0,0,0,0,0,0,0,0,0,0,0,0,0,0,0,0,0,0,0,0,0,0,0,0,0,0,0,0,0,0,0,0,0,0,0,0,0,0,0,0,0,0,0,0,1,0,0,0,0,0,0,0,0,0,1,0,1,1,1,0,0,0,0,0,0,0,0,0,1,0,0,0,0,1,0,0,0,1,1,0,0,0,0,0,0,0,0,0,0,0,0,0,0,0,0,0,0,0,1,0,0,0,0,0,1,0,0,0,0,0,0,0,1,0,0,0,0,0,0,1,0,0,0,0,0,0,0,0,0,0,1,0,0,0,0,0,0,0,0,0,1,0,0,0,0,0,0,0,0,0,0,0,0,0,0,0,0,0,0,1,0,1,0,0,0,0,0,0,0,0,0,0,1,1,1,1,0,1,0,0,0,0,0,0,0,0,0,0,0,0,0,0,0,0,1,1,1,0,0,1,0,0,0,0,0,1,1,0,0,0,0,1,1,1,1,0,1,0,1,1,1,1,1,1,1,1,1,1,1,1,1,1,1,1,1,1,1,0,0,1,1,0,1,1,1,1,1,1,1,0,1,1,1,1,1,1,1,1,1,1,1,0,1,1,0,1,1,0,1,1,1,1,1,1,0,1,1,0,1,1,0,1,0,1,1,0,0,0,1,1,0,1,0,1,1,0,1,1,1,0,1,0,1,1,1,1,0,1,0,0,0,0,0,0,0,1,1,1,0,0,1,1,0,1,1,1,1,0,1,0,0,0,1,1,1,1,1,0,1,1,1,1,1,1,1,1,1,1,1,1,1,1,1,1,1,1,1,1,1,1,1,1,1,1,1,1,1,1,1,1,1,1,1,1,1,1,1,1,1,1,1,1,1,1,1,1,1,1,1,1,1,1,1,1,1,0,0,1,1,1,1,1,1,1,0,1,0,0,0,0,0,0,0,0,0,0,0,0,1,1,0,0,0,0,0,0,0,0,0,0,0,1,1,1,0,0,0,0,0,1,1,1,1,1,0,0,0,0,1,1,1,0,0,1,0,0,0,0,0,0,0,0,0,0,0,0,0,0,0,0,0,0,0,0,0,0,0,0,0,0,0,0,0,0,0,1,0,0,0,0,0,0,0,0,0,0,0,0,0,0,1,0,1,1,0,0,0,0,0,0,0,0,0,0,0,0,0,0,0,0,0,0,0,0,0,0,0,0,0,0,0,0,0,0,1,1,1,1,1,1,1,0,0,0,0,0,0,0,0,0,0,0,0,0,0,0,0,1,0,0,0,0,0,0,0,0,0,0,0,0,0,0,0,0,1,1,1,1,0,0,1,0,0,0,0,0,0,1,1,1,1,0,0,0,1,1,1,1,1,1,0,1,0,1,0,0,0,0,0,0,0,0,0,0,0,0,0,0,0,0,0,0,0,0,0,0,0,0,0,0,0,0,1,1,1,1,1,0,0,0,1,0,0,0,0,0,0,0,0,0,0,0,0,0,1,0,0,0,0,0,0,1,1,0,1,0,1,0,0,0,1,0,1,1,0,1,0,1,1,1,0,1,1,0,1,0,1,1,1,0,0,0,1,0,0,0,0,0,0,0,0,0,0,0,0,0,0,0,0,0,0,0,1,1,1,0,1,1,0,0,1,0,0,0,0,0,0,0,1,0,0,0,0,0,0,0,1,1,1,1,1,1,1,0,0,0,1,1,0,1,0,0,0,0,0,0,0,0,0,0,0,0,0,0,0,0,0,0,0,0,0,0,0,0,0,0,0,0,0,0,0,0,0,0,1,0,0,0,0,0,0,0,0,0,0,0,0,0,0,0,0,0,0,0,0,0,0,0,0,0,0,0,0,0,1,0,0,1,1,1,0,0,0,0,0,0,0,0,0,1,0,1,0,0,0,0,0,1,0,0,1,0,0,0,0,0,0,0,0,0,0,0,0,0,0,0,1,0,0,0,0,0,0,0,0,1,0,0,0,1,0,0,1,1,1,1,0,0,0,0,0,0,0,0,0,0,0,0,0,0,0,0,0,0,1,1,0,0,0,1,1,1,0,1,0,0,0,0,0,0,1,0,0,0,0,0,0,0,0,0,0,0,0,0,0,0,0,0,0,0,0,0,0,0,0,0,0,0,0,0,0,0,0,0,0,0,0,0,0,0,0,0,0,0,0,0,0,0,0,0,0,0,0,0,0,0,0,0,0,0,0,0,0,0,0,0,0,0,0,0,0,0,0,1,0,1,1,1,0,0,0,0,0,0,1,0,0,0,0,1,1,1,1,0,1,1,0,0,1,0,1,0,0,0,1,0,1,1,0,1,0,0,0,0,0,0,0,0,0,0,1,0,0,0,1,0,0,1,0,0,0,0,0,0,0,0,1,0,1,0,0,0,0,1,1,1,0,0,0,0,0,0,0,0,0,0,0,0,0,0,0,0,1,1,1,1,0,1,1,1,1,1,1,1,1,1,1,1,1,0,0,0,0,1,1,1,1,1,1,1,1,0,0,0,0,0,0,0,0,0,0,0,0,0,0,0,0,0,0,1,0,0,0,0,0,1,0,0,0,0,0,1,0,0,0,0,0,0,0,1,0,0,0,1,0,1,1,1,0,0,0,1,1,1,1,1,1,1,1,1,1,1,1,1,1,1,1,1,1,1,1,1,1,0,0,0,0,0,1,1,1,0,0,0,1,1,0,0,0,0,0,1,1,1,1,1,0,1,1,1,1,0,1,1,0,1,1,0,0,1,1,0,0,1,0,1,1,0,0,1,1,1,1,1,1,1,1,1,1,1,1,1,1,1,1,1,1,1,0,1,0,1,0,0,0,1,0,1,1,0,0,0,0,0,0,1,1,1,0,0,1,0,0,0,1,1,0,0,0,0,0,0,0,0,1,0,0,0,1,0,0,0,0,0,0,0,0,0,1,1,1,1,0,0,0,1,0,0,0,0,0,0,0,0,0,1,1,1,1,1,1,1,1,1,0,0,0,1,1,1,0,1,0,1,0,1,0,1,0,0,1,1,1,0,0,1,1,0,1,1,1,0,1,0,0,1,1,1,1,1,0,0,0,0,0,0,0,0,0,0,0,0,0,0,0,0,0,0,0,0,0,0,0,0,0,0,0,0,0,0,0,1,1,1,1,1,1,1,1,1,1,1,0,0,0,0,0,0,0,0,0,0,0,0,0,0,1,1,1,1,1,0,0,0,0,0,0,0,0,0,0,0,0,0,1,1,1,1,0,1,0,0,1,1,1,0,0,0,0,0,1,1,1,1,1,1,1,0,1,0,0,0,0,0,1,1,1,1,0,0,1,1,0,0,0,0,0,0,0,0,0,0,0,0],\"legendgroup\":\"\",\"name\":\"\",\"showlegend\":true,\"type\":\"pie\"}],                        {\"template\":{\"data\":{\"histogram2dcontour\":[{\"type\":\"histogram2dcontour\",\"colorbar\":{\"outlinewidth\":0,\"ticks\":\"\"},\"colorscale\":[[0.0,\"#0d0887\"],[0.1111111111111111,\"#46039f\"],[0.2222222222222222,\"#7201a8\"],[0.3333333333333333,\"#9c179e\"],[0.4444444444444444,\"#bd3786\"],[0.5555555555555556,\"#d8576b\"],[0.6666666666666666,\"#ed7953\"],[0.7777777777777778,\"#fb9f3a\"],[0.8888888888888888,\"#fdca26\"],[1.0,\"#f0f921\"]]}],\"choropleth\":[{\"type\":\"choropleth\",\"colorbar\":{\"outlinewidth\":0,\"ticks\":\"\"}}],\"histogram2d\":[{\"type\":\"histogram2d\",\"colorbar\":{\"outlinewidth\":0,\"ticks\":\"\"},\"colorscale\":[[0.0,\"#0d0887\"],[0.1111111111111111,\"#46039f\"],[0.2222222222222222,\"#7201a8\"],[0.3333333333333333,\"#9c179e\"],[0.4444444444444444,\"#bd3786\"],[0.5555555555555556,\"#d8576b\"],[0.6666666666666666,\"#ed7953\"],[0.7777777777777778,\"#fb9f3a\"],[0.8888888888888888,\"#fdca26\"],[1.0,\"#f0f921\"]]}],\"heatmap\":[{\"type\":\"heatmap\",\"colorbar\":{\"outlinewidth\":0,\"ticks\":\"\"},\"colorscale\":[[0.0,\"#0d0887\"],[0.1111111111111111,\"#46039f\"],[0.2222222222222222,\"#7201a8\"],[0.3333333333333333,\"#9c179e\"],[0.4444444444444444,\"#bd3786\"],[0.5555555555555556,\"#d8576b\"],[0.6666666666666666,\"#ed7953\"],[0.7777777777777778,\"#fb9f3a\"],[0.8888888888888888,\"#fdca26\"],[1.0,\"#f0f921\"]]}],\"heatmapgl\":[{\"type\":\"heatmapgl\",\"colorbar\":{\"outlinewidth\":0,\"ticks\":\"\"},\"colorscale\":[[0.0,\"#0d0887\"],[0.1111111111111111,\"#46039f\"],[0.2222222222222222,\"#7201a8\"],[0.3333333333333333,\"#9c179e\"],[0.4444444444444444,\"#bd3786\"],[0.5555555555555556,\"#d8576b\"],[0.6666666666666666,\"#ed7953\"],[0.7777777777777778,\"#fb9f3a\"],[0.8888888888888888,\"#fdca26\"],[1.0,\"#f0f921\"]]}],\"contourcarpet\":[{\"type\":\"contourcarpet\",\"colorbar\":{\"outlinewidth\":0,\"ticks\":\"\"}}],\"contour\":[{\"type\":\"contour\",\"colorbar\":{\"outlinewidth\":0,\"ticks\":\"\"},\"colorscale\":[[0.0,\"#0d0887\"],[0.1111111111111111,\"#46039f\"],[0.2222222222222222,\"#7201a8\"],[0.3333333333333333,\"#9c179e\"],[0.4444444444444444,\"#bd3786\"],[0.5555555555555556,\"#d8576b\"],[0.6666666666666666,\"#ed7953\"],[0.7777777777777778,\"#fb9f3a\"],[0.8888888888888888,\"#fdca26\"],[1.0,\"#f0f921\"]]}],\"surface\":[{\"type\":\"surface\",\"colorbar\":{\"outlinewidth\":0,\"ticks\":\"\"},\"colorscale\":[[0.0,\"#0d0887\"],[0.1111111111111111,\"#46039f\"],[0.2222222222222222,\"#7201a8\"],[0.3333333333333333,\"#9c179e\"],[0.4444444444444444,\"#bd3786\"],[0.5555555555555556,\"#d8576b\"],[0.6666666666666666,\"#ed7953\"],[0.7777777777777778,\"#fb9f3a\"],[0.8888888888888888,\"#fdca26\"],[1.0,\"#f0f921\"]]}],\"mesh3d\":[{\"type\":\"mesh3d\",\"colorbar\":{\"outlinewidth\":0,\"ticks\":\"\"}}],\"scatter\":[{\"fillpattern\":{\"fillmode\":\"overlay\",\"size\":10,\"solidity\":0.2},\"type\":\"scatter\"}],\"parcoords\":[{\"type\":\"parcoords\",\"line\":{\"colorbar\":{\"outlinewidth\":0,\"ticks\":\"\"}}}],\"scatterpolargl\":[{\"type\":\"scatterpolargl\",\"marker\":{\"colorbar\":{\"outlinewidth\":0,\"ticks\":\"\"}}}],\"bar\":[{\"error_x\":{\"color\":\"#2a3f5f\"},\"error_y\":{\"color\":\"#2a3f5f\"},\"marker\":{\"line\":{\"color\":\"#E5ECF6\",\"width\":0.5},\"pattern\":{\"fillmode\":\"overlay\",\"size\":10,\"solidity\":0.2}},\"type\":\"bar\"}],\"scattergeo\":[{\"type\":\"scattergeo\",\"marker\":{\"colorbar\":{\"outlinewidth\":0,\"ticks\":\"\"}}}],\"scatterpolar\":[{\"type\":\"scatterpolar\",\"marker\":{\"colorbar\":{\"outlinewidth\":0,\"ticks\":\"\"}}}],\"histogram\":[{\"marker\":{\"pattern\":{\"fillmode\":\"overlay\",\"size\":10,\"solidity\":0.2}},\"type\":\"histogram\"}],\"scattergl\":[{\"type\":\"scattergl\",\"marker\":{\"colorbar\":{\"outlinewidth\":0,\"ticks\":\"\"}}}],\"scatter3d\":[{\"type\":\"scatter3d\",\"line\":{\"colorbar\":{\"outlinewidth\":0,\"ticks\":\"\"}},\"marker\":{\"colorbar\":{\"outlinewidth\":0,\"ticks\":\"\"}}}],\"scattermapbox\":[{\"type\":\"scattermapbox\",\"marker\":{\"colorbar\":{\"outlinewidth\":0,\"ticks\":\"\"}}}],\"scatterternary\":[{\"type\":\"scatterternary\",\"marker\":{\"colorbar\":{\"outlinewidth\":0,\"ticks\":\"\"}}}],\"scattercarpet\":[{\"type\":\"scattercarpet\",\"marker\":{\"colorbar\":{\"outlinewidth\":0,\"ticks\":\"\"}}}],\"carpet\":[{\"aaxis\":{\"endlinecolor\":\"#2a3f5f\",\"gridcolor\":\"white\",\"linecolor\":\"white\",\"minorgridcolor\":\"white\",\"startlinecolor\":\"#2a3f5f\"},\"baxis\":{\"endlinecolor\":\"#2a3f5f\",\"gridcolor\":\"white\",\"linecolor\":\"white\",\"minorgridcolor\":\"white\",\"startlinecolor\":\"#2a3f5f\"},\"type\":\"carpet\"}],\"table\":[{\"cells\":{\"fill\":{\"color\":\"#EBF0F8\"},\"line\":{\"color\":\"white\"}},\"header\":{\"fill\":{\"color\":\"#C8D4E3\"},\"line\":{\"color\":\"white\"}},\"type\":\"table\"}],\"barpolar\":[{\"marker\":{\"line\":{\"color\":\"#E5ECF6\",\"width\":0.5},\"pattern\":{\"fillmode\":\"overlay\",\"size\":10,\"solidity\":0.2}},\"type\":\"barpolar\"}],\"pie\":[{\"automargin\":true,\"type\":\"pie\"}]},\"layout\":{\"autotypenumbers\":\"strict\",\"colorway\":[\"#636efa\",\"#EF553B\",\"#00cc96\",\"#ab63fa\",\"#FFA15A\",\"#19d3f3\",\"#FF6692\",\"#B6E880\",\"#FF97FF\",\"#FECB52\"],\"font\":{\"color\":\"#2a3f5f\"},\"hovermode\":\"closest\",\"hoverlabel\":{\"align\":\"left\"},\"paper_bgcolor\":\"white\",\"plot_bgcolor\":\"#E5ECF6\",\"polar\":{\"bgcolor\":\"#E5ECF6\",\"angularaxis\":{\"gridcolor\":\"white\",\"linecolor\":\"white\",\"ticks\":\"\"},\"radialaxis\":{\"gridcolor\":\"white\",\"linecolor\":\"white\",\"ticks\":\"\"}},\"ternary\":{\"bgcolor\":\"#E5ECF6\",\"aaxis\":{\"gridcolor\":\"white\",\"linecolor\":\"white\",\"ticks\":\"\"},\"baxis\":{\"gridcolor\":\"white\",\"linecolor\":\"white\",\"ticks\":\"\"},\"caxis\":{\"gridcolor\":\"white\",\"linecolor\":\"white\",\"ticks\":\"\"}},\"coloraxis\":{\"colorbar\":{\"outlinewidth\":0,\"ticks\":\"\"}},\"colorscale\":{\"sequential\":[[0.0,\"#0d0887\"],[0.1111111111111111,\"#46039f\"],[0.2222222222222222,\"#7201a8\"],[0.3333333333333333,\"#9c179e\"],[0.4444444444444444,\"#bd3786\"],[0.5555555555555556,\"#d8576b\"],[0.6666666666666666,\"#ed7953\"],[0.7777777777777778,\"#fb9f3a\"],[0.8888888888888888,\"#fdca26\"],[1.0,\"#f0f921\"]],\"sequentialminus\":[[0.0,\"#0d0887\"],[0.1111111111111111,\"#46039f\"],[0.2222222222222222,\"#7201a8\"],[0.3333333333333333,\"#9c179e\"],[0.4444444444444444,\"#bd3786\"],[0.5555555555555556,\"#d8576b\"],[0.6666666666666666,\"#ed7953\"],[0.7777777777777778,\"#fb9f3a\"],[0.8888888888888888,\"#fdca26\"],[1.0,\"#f0f921\"]],\"diverging\":[[0,\"#8e0152\"],[0.1,\"#c51b7d\"],[0.2,\"#de77ae\"],[0.3,\"#f1b6da\"],[0.4,\"#fde0ef\"],[0.5,\"#f7f7f7\"],[0.6,\"#e6f5d0\"],[0.7,\"#b8e186\"],[0.8,\"#7fbc41\"],[0.9,\"#4d9221\"],[1,\"#276419\"]]},\"xaxis\":{\"gridcolor\":\"white\",\"linecolor\":\"white\",\"ticks\":\"\",\"title\":{\"standoff\":15},\"zerolinecolor\":\"white\",\"automargin\":true,\"zerolinewidth\":2},\"yaxis\":{\"gridcolor\":\"white\",\"linecolor\":\"white\",\"ticks\":\"\",\"title\":{\"standoff\":15},\"zerolinecolor\":\"white\",\"automargin\":true,\"zerolinewidth\":2},\"scene\":{\"xaxis\":{\"backgroundcolor\":\"#E5ECF6\",\"gridcolor\":\"white\",\"linecolor\":\"white\",\"showbackground\":true,\"ticks\":\"\",\"zerolinecolor\":\"white\",\"gridwidth\":2},\"yaxis\":{\"backgroundcolor\":\"#E5ECF6\",\"gridcolor\":\"white\",\"linecolor\":\"white\",\"showbackground\":true,\"ticks\":\"\",\"zerolinecolor\":\"white\",\"gridwidth\":2},\"zaxis\":{\"backgroundcolor\":\"#E5ECF6\",\"gridcolor\":\"white\",\"linecolor\":\"white\",\"showbackground\":true,\"ticks\":\"\",\"zerolinecolor\":\"white\",\"gridwidth\":2}},\"shapedefaults\":{\"line\":{\"color\":\"#2a3f5f\"}},\"annotationdefaults\":{\"arrowcolor\":\"#2a3f5f\",\"arrowhead\":0,\"arrowwidth\":1},\"geo\":{\"bgcolor\":\"white\",\"landcolor\":\"#E5ECF6\",\"subunitcolor\":\"white\",\"showland\":true,\"showlakes\":true,\"lakecolor\":\"white\"},\"title\":{\"x\":0.05},\"mapbox\":{\"style\":\"light\"}}},\"legend\":{\"tracegroupgap\":0},\"margin\":{\"t\":60}},                        {\"responsive\": true}                    ).then(function(){\n",
              "                            \n",
              "var gd = document.getElementById('ef1956bb-21ef-4915-a4b8-8ea7fa182d2f');\n",
              "var x = new MutationObserver(function (mutations, observer) {{\n",
              "        var display = window.getComputedStyle(gd).display;\n",
              "        if (!display || display === 'none') {{\n",
              "            console.log([gd, 'removed!']);\n",
              "            Plotly.purge(gd);\n",
              "            observer.disconnect();\n",
              "        }}\n",
              "}});\n",
              "\n",
              "// Listen for the removal of the full notebook cells\n",
              "var notebookContainer = gd.closest('#notebook-container');\n",
              "if (notebookContainer) {{\n",
              "    x.observe(notebookContainer, {childList: true});\n",
              "}}\n",
              "\n",
              "// Listen for the clearing of the current output cell\n",
              "var outputEl = gd.closest('.output');\n",
              "if (outputEl) {{\n",
              "    x.observe(outputEl, {childList: true});\n",
              "}}\n",
              "\n",
              "                        })                };                            </script>        </div>\n",
              "</body>\n",
              "</html>"
            ]
          },
          "metadata": {}
        }
      ],
      "source": [
        "px.pie(d,'label')"
      ]
    },
    {
      "cell_type": "markdown",
      "id": "700edb68",
      "metadata": {
        "papermill": {
          "duration": 0.00894,
          "end_time": "2022-09-11T18:14:36.924889",
          "exception": false,
          "start_time": "2022-09-11T18:14:36.915949",
          "status": "completed"
        },
        "tags": [],
        "id": "700edb68"
      },
      "source": [
        "### What is the distribution of length for each email type?"
      ]
    },
    {
      "cell_type": "code",
      "execution_count": null,
      "id": "662e68bc",
      "metadata": {
        "_kg_hide-input": true,
        "execution": {
          "iopub.execute_input": "2022-09-11T18:14:36.945655Z",
          "iopub.status.busy": "2022-09-11T18:14:36.945208Z",
          "iopub.status.idle": "2022-09-11T18:14:37.071215Z",
          "shell.execute_reply": "2022-09-11T18:14:37.069857Z"
        },
        "papermill": {
          "duration": 0.139343,
          "end_time": "2022-09-11T18:14:37.073738",
          "exception": false,
          "start_time": "2022-09-11T18:14:36.934395",
          "status": "completed"
        },
        "tags": [],
        "colab": {
          "base_uri": "https://localhost:8080/",
          "height": 611
        },
        "id": "662e68bc",
        "outputId": "0fce4f46-54b2-46fc-96f6-2efb3e69f877"
      },
      "outputs": [
        {
          "output_type": "stream",
          "name": "stdout",
          "text": [
            "Average 0 length = 934.62\n",
            "Most frequent 0 length = 176\n",
            "Average 1 length = 884.85\n",
            "Most frequent 1 length = 3858\n"
          ]
        },
        {
          "output_type": "display_data",
          "data": {
            "text/html": [
              "<html>\n",
              "<head><meta charset=\"utf-8\" /></head>\n",
              "<body>\n",
              "    <div>            <script src=\"https://cdnjs.cloudflare.com/ajax/libs/mathjax/2.7.5/MathJax.js?config=TeX-AMS-MML_SVG\"></script><script type=\"text/javascript\">if (window.MathJax && window.MathJax.Hub && window.MathJax.Hub.Config) {window.MathJax.Hub.Config({SVG: {font: \"STIX-Web\"}});}</script>                <script type=\"text/javascript\">window.PlotlyConfig = {MathJaxConfig: 'local'};</script>\n",
              "        <script charset=\"utf-8\" src=\"https://cdn.plot.ly/plotly-2.24.1.min.js\"></script>                <div id=\"a6c682d3-7301-4352-96e6-7309822decd9\" class=\"plotly-graph-div\" style=\"height:525px; width:100%;\"></div>            <script type=\"text/javascript\">                                    window.PLOTLYENV=window.PLOTLYENV || {};                                    if (document.getElementById(\"a6c682d3-7301-4352-96e6-7309822decd9\")) {                    Plotly.newPlot(                        \"a6c682d3-7301-4352-96e6-7309822decd9\",                        [{\"alignmentgroup\":\"True\",\"bingroup\":\"x\",\"hovertemplate\":\"label=0\\u003cbr\\u003elength=%{x}\\u003cbr\\u003ecount=%{y}\\u003cextra\\u003e\\u003c\\u002fextra\\u003e\",\"legendgroup\":\"0\",\"marker\":{\"color\":\"#636efa\",\"pattern\":{\"shape\":\"\"}},\"name\":\"0\",\"offsetgroup\":\"0\",\"orientation\":\"v\",\"showlegend\":true,\"x\":[496,10,253,76,5383,66,107,939,151,64,144,46,300,165,104,75,467,276,824,327,800,4105,624,701,281,760,309,33,379,332,1598,94,376,23,87,458,36,75,308,665,715,199,73,977,81,2281,1744,877,168,442,121,1417,712,1508,301,911,133,176,5247,4383,393,764,644,22,1597,31,23,106,188,960,3082,692,251,478,554,42,512,13,135,345,145,24,795,119,25,994,7,169,976,741,481,8634,289,579,465,93,785,192,1058,105,843,1080,165,214,2198,30,616,330,439,566,376,456,226,109,693,190,76,407,13,176,3877,395,12112,472,48,153,504,436,305,55,163,897,903,318,76,415,267,2248,538,105,21,118,1718,108,177,132,72,1274,64,10894,882,1487,42,162,1091,1590,695,5273,7094,6841,27,65,146,6937,694,232,911,736,3192,659,17388,874,4876,1114,2406,679,8474,7934,242,425,34,40,204,60,1150,502,1164,89,629,210,12,156,10,1253,104,1256,224,143,798,584,636,270,3084,318,324,921,50,769,809,1231,80,2905,323,2231,1826,3231,194,3864,774,514,2861,4786,108,283,723,168,717,159,201,490,195,73,175,182,677,739,844,472,794,307,456,537,1204,476,226,369,774,1382,339,3267,46,999,139,269,309,1421,94,774,216,958,519,1083,426,1613,182,1411,279,1069,143,267,817,258,213,1127,286,506,11,1092,287,274,618,642,745,96,759,519,54,464,155,4484,403,682,1261,54,1253,4319,966,2128,255,1593,510,205,184,1721,484,188,116,2151,221,2063,356,608,304,5407,423,746,732,155,1492,135,1857,76,1441,231,121,92,3479,713,150,133,7012,129,605,3688,1162,573,361,441,326,139,916,780,1028,728,409,81,908,723,234,409,694,608,65,521,327,1231,558,41,679,1567,300,1404,243,323,327,982,260,881,361,269,179,830,1298,325,1013,375,80,375,276,156,114,367,155,606,302,599,917,616,168,2029,312,750,689,79,915,2467,628,61,1999,1367,4867,613,3028,126,254,137,322,644,2565,597,88,278,112,80,586,515,1742,515,573,251,66,78,254,1177,149,2377,533,747,40,63,9,357,450,429,462,721,57,1538,595,299,283,350,447,1010,657,584,636,78,1506,63,167,1044,56,448,267,28,38,218,168,76,594,703,167,598,188,194,601,1051,396,96,2170,462,523,952,580,437,960,914,714,1020,310,348,499,59,929,128,570,277,598,7198,287,867,1666,154,140,385,64,454,617,1825,62,911,320,76,32,4,1864,691,977,1975,3273,773,1810,120,1375,357,904,68,196,273,395,640,863,204,479,521,310,9504,1129,358,34,56,1021,2813,305,634,521,906,121,1570,674,515,921,606,1094,2678,562,404,164,261,232,82,343,246,358,236,425,357,146,242,1866,2240,121,103,217,524,745,97,1120,10005,81,1964,238,373,243,57,272,200,119,2005,745,551,1008,1838,398,91,421,1328,282,743,96,4867,2367,905,260,289,2002,130,23,1149,164,1498,93,3194,156,919,73,291,319,2432,280,702,170,2250,31,125,1277,512,272,1479,80,71,1303,2793,826,63,1067,2532,239,466,44,588,38,2707,4376,313,3765,715,850,946,172,1937,4138,1981,219,907,1276,154,242,1294,1239,1078,142,686,310,194,82,1479,1407,48,1189,31,3,2293,251,151,145,12,116,354,232,790,134,301,388,4898,41,9806,65,87,1234,53,436,245,627,105,557,5671,405,187,238,92,29,429,113,324,476,468,45,121,61,970,86,4808,160,73,606,1205,283,980,626,4282,556,1841,7900,1539,755,3464,107,372,974,1280,6468,354,1570,1231,7817,515,1017,476,73,513,274,3438,4594,64,477,969,2151,1495,141,81,1370,227,887,614,1469,104,11308,1456,830,1496,776,367,3952,736,170,1022,664,210,388,494,782,668,4059,816,209,1750,8432,2627,134,273,166,2832,328,9854,391,866,601,4501,112,606,180,210,303,226,2600,1645,168,127,62,613,6775,115,262,1481,201,1432,5296,120,404,2615,467,489,252,596,684,223,644,661,3979,82,143,319,80,1392,125,2484,7203,692,180,782,439,143,399,10622,149,1485,655,702,225,91,172,3010,2843,148,314,3356,1437,1095,214,4789,1453,260,8324,6924,495,1128,461,665,250,112,650,159,328,2296,317,1254,314,1319,1572,343,212,334,929,190,1029,110,141,771,2895,56,192,182,182,881,489,4405,93,1040,297,1608,2066,2474,1128,2115,1160,60,148,2486,104,693,44,41,31,66,45,48,3508,622,1790,2195,168,2986,842,3647,13,2283,2301,604,1100,20,67,502,4963,74,60,51,391,174,41,130,431,93,300,939,12,320,779,117,71,110,1059,27,417,616,1057,681,342,1116,120,866,1288,215,167,51,320,858,179,275,56,180,372,308,1547,1355,926,10175,40,545,133,2544,412,412,422,48,98,133,133,1212,248,431,2856,2568,104,118,114,941,205,229,646,725,4615,874,358,1018,7217,459,762,920,262,24,412,351,491,278,266,946,576,1487,516,148,2173,39,608,2297,1003,4875,631,47,510,96,1657,1260,30,867,663,2169,256,37,73,43,98,1544,86,137,86,583,586,1943,66,112,126,3,52,87,4253,4945,600,183,491,219,1181,387,4406,168,695,534,6540,674,249,190,673,70,679,150,201,504,408,18,86,41,85,132,253,53,18,88,103,29,563,270,225,195,264,117,2004,117,99,213,1054,40,2287,864,286,28,113,196,270,229,437,711,69,104,2116,162,625,644,290,2294,1760,136,363,491,534,234,972,686,236,2401,38,123,114,2646,415,18,417,1145,343,18,41,839,79,86,38,332,140,234,423,696,215,313,281,117,1584,171,132,811,40,123,96,198,233,251,360,391,999,1144,691,587,99,117,116,136,778,182,173,41,1246,617,127,134,1196,170,189,62,56,233,748,151,1238,308,281,10610,840,184,461,34,301,194,450,432,345,546,304,166,687,29,35,227,20,233,96,32,56,329,298,169,430,195,1052,1235,5674,281,555,344,597,160,737,384,2268,1547,204,75,634,967,394,71,61,1372,432,139,270,887,865,4442,354,793,5292,3119,50,1998,1273,868,236,141,1240,34,428,941,829,604,295,334,211,826,223,107,420,170,444,760,638,855,175,75,3333,2569,466,237,914,3429,1153,55,26,1580,992,54,416,817,1754,326,325,1175,761,626,815,783,781,206,105,54,2045,27,54,101,29,61,1046,43,369,71,1223,172,259,1105,2380,212,197,655,50,1858,628,990,398,598,11,2724,3562,1150,357,1322,282,1693,359,483,3268,1516,296,379,46,196,89,70,522,24,18,1280,184,920,255,25,86,453,21,956,309,1383,424,155,557,556,587,987,184,50,18,190,196,725,219,58,90,65,1259,440,237,6,48,375,198,61,1691,376,527,185,354,1296,75,2009,30,302,392,568,175,715,588,539,617,423,256,1328,959,1163,121,1602,56,911,120,3,7,2064,58,5015,95,314,118,618,1079,391,404,3,70,790,146,451,26,93,405,19,4182,1974,693,916,356,104,1603,867,109,315,533,754,672,41,67,17,3201,420,1449,408,318,798,4,663,29,55,172,1643,633,193,191,42,100,1049,126,63,75,133,238,203,559,637,972,2262,288,140,76,120,274,833,2728,3242,1412,394,176,479,1736,1491,1228,47,313,1846,129,472,679,6386,756,240,490,410,785,226,560,704,1058,530,1180,3623,66,7948,116,4473,742,547,2416,146,403,61,281,101,569,1563,133,562,1020,655,121,100,656,352,282,449,1068,346,36,1454,1512,500,1439,412,96,218,616,2822,1237,882,714,47,716,502,77,1058,110,91,328,29,62,322,3430,2986,473,264,110,278,296,1192,20492,21401,437,58,271,1317,296,191,123,108,191,2152,41,112,175,185,2540,68,108,92,371,55,187,1241,261,137,941,700,133,20,558,4271,575,185,185,572,1694,65,82,894,503,911,367,801,185,185,185,185,72,1072,986,45,1065,2231,122,853,1298,98,185,732,301,1173,363,108,248,320,369,2342,229,566,158,139,519,575,313,419,936,162,40,78,109,1254,1830,974,200,6802,392,598,41,791,4029,39,211,700,2791,565,32759,12169,868,21367,254,638,134,701,432,53,3471,312,32759,423,2631,8218,240,17519,530,499,250,83,702,558,657,340,12897,120,82,3563,327,318,493,149,38,16649,109,559,485,1326,375,51,1419,1756,1122,4585,1085,1857,103,2704,2364,3230,3068,2810,786,302,32759,1179,6129,2372,296,725,184,44,2531,666,1183,1360,1166,990,1120,390,1228,373,209,1082,1475,70,9342,446,5722,47,1280,179,261,972,253,277,318,1583,4326,755,752,243,1781,167,2017,19,611,578,564,676,245,311,433,1524,92,41,196,33,680,552,697,548,178,1047,673,808,2208,1229,168,1342,1030,1936,148,77,1349,611,826,956,240,699,243,1054,1498,535,202,397,989,1824,173,110,1423,1065,383,312,1784,320,745,351,2172,298,2615,4,134,2143,1600,2263,2756,1434,1437,277,364,878,357,210,304,1780,4829,2175,2914,4692,801,420,90,349,1543,356,3676,1388,174,2758,931,2580,548,1301,2738,615,530,1176,2159,2697,4492,1165,465,575,1474,230,88,444,1289,189,328,1264,189,446,363,71,8651,2945,1363,502,1034,52,107,1115,355,47,59,1079,1150,303,52,3008,2243,250,313,451,1175,299,110,1028,424,1547,221,77,235,409,117,73,547,4498,668,1295,2680,3168,738,965,518,2108,1113,592,491,385,3758,553,1021,1446,779,356,646,335,1719,968,552,28,351,467,498,620,186,1159,1271,551,405,699,201,1095,557,2469,419,325,1021,434,333,962,141,1885,334,291,524,41,76,756,487,283,75,511,643,1517,3565,19,912,2656,1250,121,961,3009,164,207,336,1165,327,983,838,579,328,74,35,78,216,150,425,58,213,206,113,196,106,1519,452,106,451,126,495,470,424,481,451,120,759,2170,589,1228,491,172,105,373,161,37,135,335,508,824,238,343,158,1870,321,362,159,416,136,502,391,41,415,12,232,391,204,37,2795,103,558,128,141,482,1161,273,56,149,450,40,72,78,276,71,1505,58,916,373,573,628,1392,384,3396,437,1451,807,279,492,653,162,1151,237,1361,1889,370,1809,79,381,353,1560,1077,790,310,826,1772,9,1406,1054,540,83,2295,150,167,744,650,213,320,859,1622,964,194,176,363,558,339,194,44,399,117,789,1630,216,660,1405,631,58,278,504,238,63,212,569,427,155,62,268,714,1386,67,250,2018,127,852,244,83,609,140,1685,1742,485,1631,294,76,93,1150,170,145,147,1453,347,991,24,152,40,185,1150,2035,83,129,215,648,632,346,503,582,882,327,49,24,861,288,502,1002,2032,316,55,646,463,387,19,101,491,212,232,254,62,8589,380,1526,835,937,13546,81,1175,756,769,5743,38,406,361,351,147,412,292,2083,2660,1776,223,201,2292,127,155,549,983,1048,460,556,239,296,304,37,944,124,181,1090,175,93,1225,491,62,319,277,325,432,344,566,505,480,831,245,1012,990,856,231,443,1111,2423,1394,310,1157,336,294,1547,293,288,153,1568,1103,1175,512,687,912,660,275,581,185,209,930,315,671,248,9,827,871,499,973,13028,128,218,420,319,1041,94,1279,662,644,699,2660,1009,980,111,1084,245,359,755,558,1952,184,231,1173,4535,1047,310,136,567,382,830,292,883,598,399,1238,918,1298,2360,213,624,778,189,2937,4246,3462,1663,677,697,792,4549,1452,1453,1442,170,262,654,150,139,1678,225,4214,33,66,487,1295,387,859,1389,445,824,2177,583,559,786,212,1339,820,992,291,943,512,1547,267,3687,2623,3474,797,2501,694,1374,141,192,159,52,359,571,718,516,867,372,359,1464,1062,425,459,156,22,21,4,504,2403,602,445,736,908,371,2216,434,3959,556,481,926,1083,10614,757,141,7751,73,274,665,632,618,351,366,343,1897,882,536,425,892,307,272,381,351,589,411,1989,7981,99,391,562,524,9311,943,2423,548,522,713,1149,1207,1456,1547,156,401,155,38,687,1046,151,1764,945,517,1248,77,369,120,252,459,2022,1273,637,1094,941,129,331,385,217,518,553,1012,622,538,442,820,1738,746,2307,198,87,1175,580,76,389,935,943,1314,1306,1784,1728,267,863,57,952,2419,729,2217,1959,533,556,122,815,597,383,636,96,1009,200,1239,283,1108,1330,1087,243,159,2649,288,1106,1230,534,1455,1407,8,1363,690,1328,466,774,486,96,867,675,323,4319,240,271,402,1194,484,381,1277,374,358,1422,5437,578,419,1009,371,242,1521,190,2293,1834,1656,1353,572,46,902,427,1066,2232,1948,1024,908,1001,288,338,1607,2112,423,1161,80,304,108,272,4960,146,2364,141,306,975,556,527,808,2276,2797,914,50,1363,517,1833,114,1156,2937,1090,3415,1855,923,6210,2632,3653,1448,402,283,9579,31,256,114,492,2672,806,1025,27940,505,55,323,225,8002,170,246,2118,3551,134,12090,833,558,179,597,533,6422,1450,667,271,13822,499,2456,326,305,1833,2406,6508,285,3138,3374,325,1157,236,1078,1308,3343,3557,261,1204,6162,177,326,61,905,288,415,23,6104,496,73,3531,3820,1464,32759,540,1068,636,80,1209,12956,338,5304,1143,849,533,134,261,119,449,745,1581,170,174,768,430,3439,151,769,808,2177,419,108,760,775,1240,826,1136,2469,6560,363,1717,413,184,240,952,4874,324,1630,845,923,1853,102,143,299,512,721,937,341,1518,2698,59,80,467,1064,18,858,2089,840,1028,262,23,228,29,1243,261,2632,381,206,52,796,55,76,49,792,189,6104,267,2032,882,4882,970,792,2989,2260,581,10237,19,6392,6941,205,388,52,1278,235,532,601,90,416,864,935,197,501,168,1162,2028,1086,278,97,87,171,219,144,583,1721,1434,1245,50,446,214,63,6124,132,24,627,124,385,549,209,596,1237,258,2050,2239,229,33,103,586,102,140,350,360,112,382,708,1557,109,265,598,1406,92,142,59,38,47,517,1094,421,739,61,246,3390,18,33,11,27,83,132,48,125,1206,20147,8923,3544,727,141,48,29,41,157,268,27,346,82,66,8,182,548,172,44,47,650,229,28,53,38,30,41,1239,541,218,354,273,1486,176,749,548,10283,480,209,191,465,34,427,60,927,997,59,782,40,23,218,32,30,47,40,23,587,11734,391,1548,3277,140,133,1506,368,88,215,2392,837,1148,846,835,847,832,832,846,500,917,50,1907,158,775,5141,306,290,218,260,890,1113,670,1966,169,894,683,455,552,348,345,679,520,1367,150,1353,311,409,1682,387,475,115,29,40,39,58,28,150,23,21,33,28,32,36,26,109,79,74,81,181,108,46,225,256,66,88,23,21,36,1489,5799,531,3302,67,191,781,36,302,181,36,2803,640,300,2256,39,11208,4058,816,391,32,117,10,17,34,5,19,30,30,12,27,112,5,48,21,110,42,29,32,49,23,24,16,1491,4488,5874,80,4867,3321,754,427,853,20547,3682,358,8219,13205,4478,5816,5913,5205,1594,8806,818,42,79,1278,2063,566,513,89,5145,291,133,133,185,936,358,243,341,51,726,341,366,780,419,185,341,913,369,572,447,721,493,402,1072,192,1201,815,403,1061,22,122,1950,187,2059,116,43,2165,461,446,2036,42,2353,677,1721,1810,387,452,3387,387,136,608,169,316,86,340,1745,3101,1292,1809,16,183,547,761,262,640,537,572,411,677,858,2781,318,669,372,362,629,30,30,85,204,2298,3803,1089,367,1360,1187,272,927,79,1845,450,778,775,718,187,55,91,191,3083,369,4,103,65,456,885,77,303,3149,21,22,353,86,41,240,558,4787,82,32,192,3330,342,10903,1850,679,1062,379,208,480,3894,732,1660,1619,472,234,549,165,219,255,25,250,358,372,1144,790,85,28,873,33,52,325,634,111,16136,1475,620,249,71,105,1074,91,902,1260,922,1052,304,437,223,1464,8,504,1439,782,63,24,684,4,20,683,1810,68,444,1068,392,285,93,654,880,794,70,97,1430,498,4867,176,560,864,70,1311,5,1268,1003,469,1108,146,1841,454,1566,62,84,459,760,157,271,627,740,145,272,63,3702,916,724,1681,154,53,126,3810,719,25,721,456,1551,650,1064,551,1103,128,675,1414,682,470,83,475,233,243,1846,163,1898,531,512,407,563,420,67,96,40,1362,550,38,21,111,662,314,675,480,82,708,41,344,790,1105,1847,163,635,275,1448,1135,526,8241,627,1195,182,1196,105,1377,283,67,265,333,501,943,337,194,387,145,237,1205,2231,1019,273,175,426,123,1252,2058,977,873,286,574,943,377,111,887,97,179,3084,143,787,2132,112,197,13,93,37,762,887,53,457,1400,603,279,335,928,2221,1671,500,69,208,1233,457,180,109,180,363,733,426,943,32,132,101,566,1016,218,723,1188,736,17,1025,2445,788,331,799,102,812,519,2880,135,548,1364,346,644,1070,407,250,305,453,315,1223,1659,1554,731,538,79,61,838,2689,24,2244,91,116,108,5,94,2219,701,481,3411,444,101,94,560,196,1343,955,474,563,529,1327,212,55,1084,289,478,166,1461,110,221,197,608,283,183,72,563,88,1025,191,2735,100,45,416,575,346,315,294,334,442,576,1290,210,1743,3999,92,74,768,1173,12,859,559,594,93,61,826,918,1490,251,203,780,642,29,293,253,148,145,837,1013,1967,557,268,1350,502,56,836,608,546,2475,931,351,521,82,776,210,2204,60,984,2125,54,423,2754,519,224,69,2949,79,398,302,676,116,3871,100,5141,1874,149,228,178,1214,1371,337,1848,770,533,115,533,475,1831,1083,2711,1630,512,104,544,533,462,305,21,522,160,1828,888,2380,4543,176,24072,1194,98,580,66,109,540,1289,2095,204,134,4080,1361,776,583,54,34,235,138,242,308,3556,1214,1517,1172,1487,180,1734,135,271,615,171,131,553,218,926,1348,4442,299,610,274,1500,115,65,338,176,316,204,43,937,2177,109,147,294,195,167,216,28,215,1192,2254,798,234,434,1294,115,558,275,166,119,151,177,705,194,194,26,55,156,279,926,830,669,111,458,2741,2553,224,1765,210,985,1176,406,320,220,130,850,1910,1722,81,176,78,134,801,20,125,1336,370,885,185,214,542,766,468,668,676,482,83,334,245,1056,378,53,408,242,939,363,1164,358,3178,213,431,1406,129,176,176,176,124,1091,662,176,176,176,124,332,877,79,60,836,618,2327,790,1469,1677,309,1116,227,801,337,280,84,593,1798,261,24,591,78,165,768,6774,1009,8330,1250,424,203,1540,513,899,389,1431,2292,592,1541,170,763,516,803,94,684,991,3,518,154,101,48,107,3,1095,908,152,1200,982,289,2212,197,296,218,636,884,159,725,185,281,308,2019,153,59,159,2203,143,149,1835,19,494,155,400,1470,28,359,111,70,286,260,212,305,1190,3204,4840,107,361,417,409,1341,90,1345,52,323,43,122,511,44,858,1288,549,204,1084,295,100,576,19,665,298,711,77,351,704,1452,122,912,768,1140,744,1746,580,963,142,1363,655,587,1046,648,857,784,503,11,359,783,223,254,6074,201,425,94,390,373,534,247,330,636,1730,561,96,709,925,194,949,131,202,1011,1519,377,77,63,296,381,185,851,1001,72,348,286,42,85,26,86,1154,242,130,860,50,199,45,964,389,155,47,543,449,1587,295,477,196,630,921,1626,3,455,676,1386,146,152,648,186,577,62,1236,931,2775,1355,109,82,720,221,114,83,427,12,1891,241,309,469,175,1420,353,400,364,98,80,118,124,135,112,160,201,241,154,155,141,169,134,55,1500,638,131,8288,135,84,280,494,84,52,154,167,158,127,1185,179,132,123,117,226,433,181,146,832,156,565,184,285,135,3172,328,956,90,355,699,1642,264,178,1493,262,667,178,233,365,200,3213,721,48,1143,1736,130,350,189,182,289,293,805,77,238,122,26,471,8434,1091,402,50,21,512,601,675,610,157,1045,128,867,27,176,3207,25,1116,22,261,1359,2458,9,673,6244,6758,475,456,60,497,413,419,162,323,74,1975,863,102,1035,507,4256,895,756,86,467,459,1924,246,2474,1996,659,114,438,86,1485,1430,168,65,617,614,622,2498,349,1206,2472,277,177,192,5,323,31,18,1554,209,21,436,76,162,27,1833,74,761,19,79,63,1810,63,103,358,102,92,69,28,155,549,1543,91,79,99,1431,79,17,65,36,159,74,144,95,71,91,183,69,156,410,111,42,262,19,105,36,119,75,104,89,43,96,522,1300,16,608,145,219,20,3433,163,1100,2628,133,9,127,22,928,63,483,200,467,23,387,591,162,974,333,508,1607,2457,252,357,159,214,196,4284,2955,3164,860,1190,144,161,110,2607,54,107,907,248,303,409,104,1334,21,389,1177,211,914,65,13,326,307,56,207,77,390,315,1175,4812,2718,2597,1229,326,38,106,378,1585,102,1071,172,51,76,45,170,17,83,3019,256,107,2341,67,76,397,820,77,976,5011,200,682,415,135,316,769,1512,1698,195,345,172,362,2642,1443,272,403,150,53,82,744,770,175,278,148,1322,805,701,99,70,121,253,95,264,295,1468,416,467,1054,409,673,1655,235,312,310,172,212,175,959,971,263,71,340,230,884,1210,68,18,51,175,76,59,179,24,10,36,230,947,839,2201,352,712,31,411,325,46,266,566,1256,547,617,2305,674,44,163,801,44,718,1190,1883,701,278,41,1212,123,366,301,2372,160,160,3305,2644,3032,915,417,410,241,803,1558,45,433,43,356,852,625,888,1504,1336,390,107,530,52,396,5623,496,568,494,2100,1105,1310,534,125,400,1488,335,31,1281,553,48,590,110,450,664,1500,432,1176,465,1592,1222,890,518,487,1627,259,579,518,2877,1198,1416,389,444,73,5062,128,332,2422,1323,320,753,531,297,4444,3411,579,2296,175,719,215,1304,5303,504,805,880,386,223,178,124,1191,89,30,8,465,24,640,664,5105,813,533,485,155,240,558,1293,399,1149,251,241,165,380,607,546,730,420,63,176,1105,20,5294,570,404,633,1851,104,767,1589,204,334,102,36,352,1054,108,323,1069,1644,28,328,2805,1034,1295,443,126,355,274,280,14,452,761,772,1161,861,209,2277,466,346,174,402,1473,982,63,618,131,285,145,327,528,778,468,261,830,392,506,214,719,270,255,3451,359,4472,398,4224,1481,373,512,1597,2029,336,65,4643,4555,198,373,483,700,139,656,202,155,1937,401,398,76,138,5264,1341,11,593,2390,1599,242,617,5,176,68,923,218,368,563,2644,57,2585,751,1463,164,216,608,185,552,1832,558,294,476,2837,739,1156,200,558,24,1506,896,414,494,271,406,534,994,1728,1050,206,122,874,292,270,444,370,1400,622,2195,2121,234,129,108,480,106,185,2454,341,1151,247,282,1418,291,7249,463,519,15,226,1316,2014,186,382,1607,125,495,1246,325,368,88,281,263,285,735,1666,35,1248,2476,1055,168,103,258,761,30,1027,106,329,1112,1069,3700,665,513,1244,209,476,347,502,458,52,192,517,474,1416,694,960,245,144,1737,431,760,953,124,68,132,243,317,436,801,1046,145,225,160,430,9734,788,111,1515,111,570,221,852,122,2001,1878,104,484,322,315,569,207,1857,161,200,236,345,636,806,687,980,524,209,118,2245,1275,211,5838,1643,428,442,253,421,1900,2721,833,77,1464,92,607,3053,1209,626,203,1147,550,434,60,4684,770,1045,1224,198,2047,341,326,1855,443,481,113,661,74,121,1247,294,38,75,736,1016,793,1073,1319,872,98,103,122,7611,1234,504,315,358,1129,968,247,1812,1161,2756,569,208,261,888,199,626,421,857,400,1221,551,2567,362,158,307,127,164,3024,455,1013,136,111,2085,162,616,713,662,83,268,266,431,2827,2862,320,1606,68,1177,209,299,31,312,145,119,2001,1007,3820,1241,1365,1205,310,128,1087,1240,3518,777,651,1119,697,135,302,70,1921,113,909,472,1241,75,1331,1045,4180,2522,3540,40,729,21,126,1907,1913,75,3052,1624,333,279,774,1663,45,752,96,1512,1593,163,453,1545,334,843,1259,116,1925,127,620,1816,672,2652,623,104,269,104,200,133,4283,7988,129,365,262,3729,2255,3768,844,2274,532,195,2281,1695,2588,7678,774,5200,1443,1913,1038,2338,43,1199,338,20,45,1504,200,411,236,339,276,157,580,54,534,42,349,261,340,4827,505,1017,875,110,100,1169,682,150,818,1856,250,402,180,445,1975,68,731,1512,319,557,120,4323,1101,394,126,1250,633,545,703,908,371,522,680,220,703,2093,2145,522,459,175,10,157,17,108,577,163,381,2691,158,164,297,104,280,71,1395,176,176,1056,1091,176,176,332,176,124,332,45,344,77,232,4470,12196,110,1434,783,4574,594,928,79,313,478,1987,98,101,1697,923,455,88,1832,336,85,1051,4853,84,1987,87,66,78,1817,94,38,1088,1812,5560,236,691,1785,72,116,105,1314,292,2029,944,221,470,1037,886,479,939,151,1271,3142,2690,31,1033,1291,2299,660,273,2369,1375,2355,349,9363,3202,1592,927,462,980,1105,1427,1198,195,197,860,298,867,5691,609,308,111,714,627,659,47,1226,697,126,394,2299,1544,3622,1591,2194,178,50,194,626,1342,1321,889,333,80,720,260,598,2130,343,4708,58,10,494,47,260,276,59,69,235,42,57,184,807,386,509,193,167,325,782,95,264,205,156,536,29,180,216,91,316,141,88,995,704,159,52,845,198,582,88,76,37,1105,229,79,293,340,763,406,499,19,517,560,128,147,253,497,551,73,40,155,163,28,281,50,740,65,157,223,233,182,4840,3500,476,2231,1582,128,50,396,510,627,11,206,157,604,686,138,259,248,128,336,165,423,363,424,281,67,415,575,25,111,1438,264,207,257,179,1300,1013,142,481,391,696,317,65,141,533,108,162,3123,238,682,180,265,617,377,421,58,215,727,198,128,214,629,280,359,309,614,542,2483,853,510,743,2216,475,1689,848,2266,285,287,269,158,1436,338,524,720,177,757,323,291,610,1152,6929,176,60,141,102,280,240,43,437,44,171,24,494,921,262,670,952,1875,1209,215,575,350,152,465,138,236,256,1598,832,646,487,1690,812,238,667,1134,492,109,274,605,220,856,578,194,389,400,747,282,3090,340,813,427,744,631,739,1118,6800,1367,815,622,4707,180,5480,9100,315,552,367,59,832,406,1021,1224,560,672,1471,280,240,1829,170,190,1601,1115,536,80,442,989,1716,400,575,472,384,514,87,529,567,3132,572,280,1690,339,2502,284,8,238,1022,1496,293,101,524,803,840,353,119,85,759,1152,1659,291,1173,54,57,4800,790,7259,1430,336,20,782,381,276,83,261,818,577,63,1095,53,618,152,42,92,462,74,137,2406,18,494,349,53,183,100,1700,278,951,843,532,30,1506,356,1416,587,46,39,34,4802,6514,416,2445,2939,2666,210,611,111,679,1657,86,3023,13684,81,946,1884,169,163,102,279,2626,82,379,249,181,70,78,361,17,5,1759,172,404,528,13,3055,839,107,758,120,177,968,743,463,78,246,351,80,450,1975,436,211,278,426,128,394,15,6,473,385,238,932,7867,1192,11973,14,767,111,56,55,124,34,292,414,181,688,316,48,182,361,360,703,1412,15,744,428,150,388,205,2014,43,2401,121,1220,522,476,161,147,39,407,123,397,60,150,15,299,105,1660,226,362,893,223,447,172,51,664,361,329,1128,2512,2030,457,925,241,223,420,4428,108,1680,173,140,833,387,664,492,327,423,384,622,8606,142,533,21,173,463,3275,2872,252,167,58,506,157,1163,929,456,83,267,1291,219,207,200,1291,219,222,1831,1550,264,415,1892,375,796,626,312,254,830,261,168,3,4285,746,802,7244,543,599,421,412,257,186,323,21,104,569,886,473,2150,83,1065,537,205,88,46,176,429,176,470,176,176,176,176,176,176,176,176,176,124,176,124,124,176,176,176,176,332,176,652,248,878,1948,493,188,1274,559,208,197,736,715,3370,333,551,1551,59,256,22,306,426,325,267,257,612,216,1249,415,340,25823,12748,1664,614,414,263,2645,162,37,379,638,19,506,408,3947,51,341,1679,430,59,170,30,34,10,64,186,223,81,67,1112,167,457,144],\"xaxis\":\"x\",\"yaxis\":\"y\",\"type\":\"histogram\"},{\"alignmentgroup\":\"True\",\"bingroup\":\"x\",\"hovertemplate\":\"label=1\\u003cbr\\u003elength=%{x}\\u003cbr\\u003ecount=%{y}\\u003cextra\\u003e\\u003c\\u002fextra\\u003e\",\"legendgroup\":\"1\",\"marker\":{\"color\":\"#EF553B\",\"pattern\":{\"shape\":\"\"}},\"name\":\"1\",\"offsetgroup\":\"1\",\"orientation\":\"v\",\"showlegend\":true,\"x\":[319,1176,319,319,3858,2055,2055,3858,998,256,1430,1162,92,104,281,2576,1430,1162,256,1162,1430,256,998,2576,281,104,92,92,104,281,2576,998,310,310,2550,1140,658,848,3858,310,310,658,1140,681,681,457,595,264,674,218,242,358,161,1066,1148,457,914,76,252,584,96,1499,3919,1295,1371,889,1088,1509,4871,1931,1516,1148,242,4871,1509,1088,889,1371,1295,218,358,161,914,457,1931,595,264,674,177,848,710,1033,457,1066,161,358,242,674,264,595,457,681,1295,218,1088,889,1371,1509,4871,1931,3919,1499,96,584,252,76,914,457,76,252,584,96,1499,3919,65,780,2036,291,131,475,1228,928,261,2217,115,102,1066,1516,76,3858,848,3331,115,2055,2055,3331,3858,313,313,2055,115,3331,848,3858,577,210,143,346,58,348,903,285,329,535,498,166,307,460,220,704,416,156,369,508,287,307,245,313,2055,115,3331,201,187,90,502,503,102,848,3341,3858,481,220,219,1492,391,852,469,306,667,1197,1140,1572,202,79,734,313,2055,115,115,3331,848,3858,697,57,382,3858,355,761,3331,313,96,544,298,176,50,124,163,1754,1769,852,759,1108,112,381,271,574,440,105,3858,102,535,1029,483,492,162,117,2055,1210,1912,303,730,1005,1270,1051,280,779,217,642,1403,91,2137,2007,3440,1925,1897,249,456,206,38,539,489,179,255,31,271,1130,355,280,885,1566,54,2976,497,182,1188,868,374,1759,2055,115,3331,848,3858,1566,1520,1749,779,217,642,1403,91,2007,2137,3440,1270,1005,730,303,1912,1210,355,1925,1130,271,31,255,179,489,539,38,206,456,249,1897,1051,313,2055,115,3331,848,3858,71,602,137,124,444,132,189,115,171,855,264,749,356,385,65,69,219,1651,1029,607,3374,447,335,896,356,3858,848,971,1488,3331,115,749,2055,313,3215,96,2197,3331,115,565,45,638,195,119,522,376,236,499,293,281,408,280,456,12734,109,294,1068,1005,185,281,3163,134,596,566,805,681,294,136,53,827,542,2352,284,287,188,1905,281,292,281,581,5532,328,625,581,2241,2689,50,694,647,1966,301,108,2751,127,3202,752,1172,2443,2465,1931,1486,922,664,187,501,726,1307,79,350,1332,1330,457,62,76,41,460,1656,1189,74,971,1576,483,128,734,81,38,454,120,2250,426,168,786,463,839,494,21,1497,643,595,346,43,264,2148,54,2993,142,483,191,897,1033,2691,905,736,2474,546,61,126,991,110,2154,1022,1535,248,305,820,397,1239,1176,1131,940,2769,1018,456,1859,228,2084,412,352,31,918,2090,543,265,523,437,718,50,3908,240,584,820,583,1035,1115,1005,43,854,132,149,309,402,2281,489,256,64,1075,1362,653,557,1039,108,404,251,632,55,99,3049,2728,711,24,62,700,415,18,408,906,548,54,237,347,894,40,1167,397,819,541,1634,209,937,678,163,25,840,714,1499,188,848,215,1463,443,38,360,1462,1024,611,633,1976,1152,2099,834,413,463,1746,116,699,1986,433,434,1742,1732,1239,379,291,233,682,517,324,558,59,27,818,82,921,1188,1778,1839,579,337,15,118,1795,479,1628,1501,83,301,315,1416,1340,68,128,525,719,602,132,37,353,865,439,391,185,530,97,456,1668,1785,182,2628,683,674,166,583,1266,557,3753,802,1833,524,248,600,437,1949,722,976,271,48,631,59,5517,1134,929,222,445,2974,1091,3119,147,353,745,1863,521,761,196,2384,369,369,437,650,276,1834,73,604,295,3364,2956,76,526,817,443,705,752,3372,573,551,1111,417,1656,1500,1393,2673,1400,896,2939,142,963,1261,673,62,1497,1256,1106,231,646,516,1078,70,243,760,144,116,274,210,4293,1087,1106,1315,147,2228,507,1401,412,1340,528,641,43,765,910,59,104,2570,72,2382,673,3867,407,380,797,4391,963,541,576,963,586,359,367,1685,56,863,49,435,100,756,347,368,48,87,687,1668,887,887,1495,358,161,311,408,1357,1113,971,500,364,456,353,826,779,190,87,1451,1953,1738,948,606,1172,47,143,29,351,524,292,60,2947,604,1176,1189,993,338,248,300,70,337,464,1364,194,609,586,614,325,1230,508,714,5157,318,620,880,381,1091,884,424,326,656,579,315,415,12,518,1323,478,393,553,55,802,2174,2546,221,77,202,566,34,2044,141,1374,1651,696,1010,85,154,744,1439,195,1355,148,1376,257,243,593,1697,1473,53,414,1510,955,200,1049,2822,97,86,135,1128,967,1363,73,51,495,196,766,1914,227,1658,488,530,77,145,1342,39,1203,925,4056,145,7595,1520,1724,42,6375,656,241,874,138,53,53,46,5569,297,44,609,554,989,1996,1965,40,914,573,59,1068,891,351,5866,688,106,111,57,59,519,1607,167,167,25,295,65,675,6101,1326,615,384,5754,130,58,1725,356,301,46,321,75,45,96,71,97,130,55,608,505,1415,47,28,51,4751,33,36,42,855,652,228,4294,3816,124,75,2041,249,80,233,1955,2883,91,369,904,172,164,948,429,617,882,1184,15,712,429,283,3611,1028,1620,65,651,506,83,53,60,1240,74,656,1228,33,318,456,510,845,203,1903,1353,1393,82,351,170,283,1064,1163,682,774,773,992,3200,2986,830,1301,117,938,202,1097,93,424,526,407,1748,620,1124,424,2036,434,1596,1646,769,1442,77,41,650,756,2654,315,609,56,394,109,113,241,1659,661,1324,2094,1699,190,98,141,71,130,259,286,186,834,379,35,856,777,142,88,71,72,102,49,71,187,409,147,153,23,3349,811,3908,220,675,446,620,228,3275,396,1990,722,69,38,1184,235,834,515,280,286,81,398,284,288,288,287,353,359,188,301,505,228,91,15,651,318,283,938,620,650,661,286,88,3349,722,280,286,398,284,288,288,287,353,359,638,195,119,522,376,236,499,293,281,280,456,12734,109,294,1068,1005,185,281,134,596,566,805,681,294,136,108,2751,127,3202,2443,1931,1486,922,187,2465,53,827,2352,284,287,188,1905,281,292,281,581,328,947,625,581,2241,2689,50,694,647,1966,301,1172,664,501,726,1307,79,350,1332,1330,457,62,76,41,460,1656,1189,74,971,1576,483,565,128,734,81,38,454,120,426,168,786,463,839,494,21,1497,643,595,43,1033,264,2148,54,2993,142,483,191,897,905,38,736,2474,546,61,126,991,110,2154,1022,248,271,305,820,397,1239,1176,1131,940,1018,2382,456,1859,228,2084,412,352,31,918,543,265,523,437,718,50,3908,240,820,656,583,1035,1115,1005,43,854,132,149,309,2281,607,489,256,64,1075,1362,653,557,1039,108,404,251,632,55,99,3049,2728,711,24,700,415,18,408,906,548,54,237,347,894,1167,397,819,541,1634,209,937,678,163,5866,840,714,1499,188,848,215,1463,443,1462,1024,611,633,1976,1152,2099,834,413,1746,117,116,699,1986,433,434,1742,1732,1239,379,233,81,682,517,324,558,59,27,818,82,1188,45,1778,1839,579,337,15,408,118,479,1628,1501,83,301,315,1416,1340,68,3163,525,719,602,132,37,353,865,439,542,391,530,97,456,5532,1668,1785,182,2628,683,752,674,583,1266,557,3753,802,524,248,600,437,1949,722,976,631,59,5517,1134,929,222,2250,445,1091,3119,147,353,745,1863,521,761,346,196,369,369,437,650,276,1834,73,604,2691,295,2956,76,526,817,443,1535,705,752,573,551,1111,417,1656,1500,2769,1393,2673,1400,896,142,963,1261,2090,673,62,1497,1256,231,646,516,1078,70,584,243,760,144,116,274,210,4293,1087,1106,402,1315,147,2228,507,412,1340,528,43,765,910,59,104,2570,62,72,3867,407,380,797,4391,963,576,963,586,359,367,40,1685,56,863,49,100,756,347,368,25,48,87,1668,887,887,360,1495,358,161,311,1357,1113,971,500,364,463,456,353,826,190,87,1451,1953,1738,291,948,606,1172,143,29,921,351,524,292,2947,604,1176,1189,1795,993,338,248,300,337,464,1364,194,609,128,586,614,325,1230,508,5157,318,620,880,381,185,1091,884,424,326,315,415,12,518,1323,393,553,55,802,166,2174,2546,221,77,202,34,2044,141,1833,1374,1651,696,1010,85,154,1439,195,1355,48,148,1376,257,593,1697,1473,2974,53,414,1510,955,200,2822,97,86,135,2384,1128,967,1363,73,51,495,766,1914,227,1658,3364,488,530,77,145,1342,39,925,4056,145,7595,3372,1520,1724,42,6375,656,241,138,53,53,46,2939,5569,297,44,609,554,1996,1965,40,914,1106,573,59,1068,891,351,106,111,57,59,519,1607,167,167,25,295,675,6101,1326,615,1401,384,5754,130,58,1725,356,46,321,75,45,641,96,71,97,130,55,608,1415,47,28,51,673,4751,33,36,42,855,652,4294,3816,124,75,541,2041,249,80,233,1955,2883,369,904,172,164,435,948,429,617,882,1184,712,429,283,687,3611,1028,1620,65,506,83,53,60,408,1240,74,656,1228,33,456,510,845,203,779,1903,1353,1393,82,351,170,1064,1163,682,774,47,773,992,3200,2986,830,1301,202,1097,93,60,424,526,407,1748,1124,424,2036,434,70,1596,1646,769,1442,77,41,756,2654,315,609,714,56,394,109,113,241,1659,1324,2094,1699,579,190,98,141,71,130,259,186,834,379,478,35,856,777,142,71,72,102,49,566,71,187,409,147,153,23,811,3908,220,675,744,446,620,228,3275,396,1990,69,38,1184,235,834,515,243,1049,196,1203,874,989,688,65,5569,145,292,524,351,143,4056,1172,606,948,1738,1953,1451,87,190,826,515,834,235,1184,38,1990,396,3275,228,620,925,446,675,220,3908,811,153,147,409,187,71,353,49,102,72,71,142,777,856,379,834,456,186,1699,2094,1324,1659,241,109,394,609,364,315,2654,756,1442,769,1646,1596,434,2036,424,1124,1748,407,526,424,1097,1301,830,2986,500,3200,992,773,774,682,1163,1064,170,351,1393,971,1353,1903,203,845,510,456,1228,656,1240,60,1113,53,83,506,65,1620,1028,3611,283,1357,429,712,1184,882,617,429,948,164,172,904,311,369,2883,1955,233,249,2041,75,124,3816,4294,1342,161,652,855,4751,1415,608,356,1725,58,130,5754,358,384,615,1326,6101,675,295,167,167,1607,519,1495,351,891,1068,573,914,1965,1996,554,609,297,253,187,922,1486,1931,2465,887,2443,3202,127,2751,887,1668,145,368,347,756,100,863,1685,367,77,359,586,963,576,963,530,4391,797,380,407,3867,72,2570,488,910,765,528,1340,412,1658,507,2228,147,1315,1106,1087,4293,210,274,116,227,144,760,243,1078,516,646,231,1256,53,1914,1497,673,1261,963,142,896,1400,766,2673,1393,1500,1656,417,1111,551,573,752,495,705,443,817,526,76,2956,1363,295,604,1834,276,650,437,369,369,967,196,761,521,1863,745,353,147,3119,1128,1091,445,222,929,1134,5517,631,976,135,722,1949,437,600,248,524,86,802,3753,557,1266,583,674,2822,683,2628,182,1785,200,1668,456,97,138,955,530,391,439,865,353,132,602,719,525,1510,1340,1416,315,301,1501,1628,479,118,337,579,1839,1778,1188,818,59,558,414,324,517,682,233,379,1239,1732,1742,434,433,1473,1986,699,116,1746,413,834,2099,1152,1976,1697,633,611,1024,1462,443,1463,215,848,188,1499,593,840,163,678,937,209,1634,541,819,397,1167,894,347,548,906,408,700,711,2728,3049,99,55,632,251,404,108,1039,557,257,653,1362,1075,256,489,2281,309,149,854,1005,241,1115,1035,583,820,3908,718,437,523,1376,543,918,352,412,2084,228,1859,456,1018,148,940,1131,1176,1239,397,820,305,248,1355,1022,2154,991,546,2474,736,905,897,483,195,142,2993,2148,264,595,643,1497,494,839,463,1439,786,168,426,454,734,128,483,1576,971,154,1189,1656,460,62,457,1330,1332,350,1307,726,1010,501,664,1172,1966,647,694,50,2689,2241,581,696,625,328,581,281,292,281,1905,188,287,1651,284,2352,827,294,681,805,566,596,134,656,1374,281,185,1005,1068,294,109,12734,456,2044,280,281,293,499,236,376,522,119,195,638,359,353,287,288,288,284,398,286,280,722,3349,286,661,650,620,938,283,318,221,651,91,228,505,301,688,989,874,1203,196,2546,1049,243,744,566,478,579,714,70,60,2174,47,779,408,687,435,541,673,641,1401,1106,2939,3372,3364,2384,2974,48,1833,166,802,185,1795,921,291,463,360,62,188,402,584,2090,2769,1535,2691,346,2250,752,6375,553,5532,542,3163,408,45,117,5866,607,393,656,2382,271,565,1323,518,415,1724,315,326,424,884,1091,381,880,620,318,5157,1520,508,1230,325,614,586,609,194,1364,464,337,7595,300,248,338,993,1189,1176,604,2947,947,607,958,343,1576,1676,193,288,2018,222,416,369,58,1695,44,58,73,52,207,341,516,603,382,385,370,419,720,727,85,700,55,438,53,33,2400,1333,304,869,69,1107,191,1372,826,784,1997,542,611,491,75,1489,360,444,444,1078,358,472,664,1296,1025,953,406,565,45,638,195,119,522,376,236,499,293,281,408,280,456,12734,109,294,1068,1005,185,281,3163,134,596,566,805,681,294,136,53,827,542,2352,284,287,188,1905,281,292,281,581,5532,328,625,581,2241,2689,50,694,647,1966,301,752,1172,108,2751,127,3202,664,2443,2465,1931,1486,922,501,187,726,1307,79,350,1332,1330,457,62,76,41,460,1656,1189,74,971,1576,483,128,734,81,38,454,120,2250,426,168,786,463,839,494,21,1497,643,595,346,43,264,2148,54,2993,142,483,191,897,1033,2691,905,736,2474,546,61,126,991,110,2154,1022,1535,248,305,820,397,1239,1176,1131,940,2769,1018,456,1859,228,2084,412,352,31,918,2090,543,265,523,437,718,50,3908,240,584,820,583,1035,1115,1005,43,854,132,149,309,402,2281,489,256,64,1075,1362,653,557,1039,108,404,251,632,55,99,3049,2728,711,24,62,700,415,18,408,906,548,54,237,347,894,40,1167,397,819,541,1634,209,937,678,163,25,840,714,1499,188,848,215,1463,443,38,360,1462,1024,611,633,1976,1152,2099,834,413,463,1746,116,699,1986,433,434,1742,1732,1239,379,291,233,682,517,324,558,59,27,818,82,921,1188,1778,1839,579,337,15,1795,118,479,1628,1501,83,301,315,1416,1340,68,128,525,719,602,132,37,353,865,439,185,391,530,97,456,1668,1785,182,2628,683,166,674,583,1266,557,3753,802,1833,524,248,600,437,1949,722,271,48,976,631,59,5517,1134,929,222,2974,445,1091,3119,147,353,745,1863,521,761,2384,196,369,369,437,650,276,1834,73,604,3364,295,2956,76,526,817,443,3372,705,752,573,551,1111,417,1656,1500,2939,1393,2673,1400,896,142,963,1261,1106,673,62,1497,1256,231,646,516,1078,70,243,760,144,116,274,210,4293,1087,1106,1401,1315,147,2228,507,412,641,1340,528,43,765,910,59,104,2570,2382,673,72,3867,407,380,797,4391,541,963,576,963,586,359,367,435,1685,56,863,49,100,756,347,368,687,48,87,1668,887,887,408,1495,358,161,311,1357,1113,971,500,364,779,456,353,826,190,87,1451,1953,1738,47,948,606,1172,143,29,60,351,524,292,2947,604,1176,1189,993,70,338,248,300,337,464,1364,194,609,586,714,614,325,1230,508,5157,318,620,880,381,1091,656,579,884,424,326,315,415,478,12,518,1323,393,553,55,802,566,2174,2546,221,77,202,34,2044,141,1374,744,1651,696,1010,85,154,1439,195,1355,148,243,1376,257,593,1697,1473,53,1049,414,1510,955,200,2822,97,86,135,1128,196,967,1363,73,51,495,766,1914,227,1658,488,1203,530,77,145,1342,39,925,4056,145,7595,1520,874,1724,42,6375,656,241,138,53,53,46,5569,989,297,44,609,554,1996,1965,40,914,573,5866,688,59,1068,891,351,106,111,57,59,519,65,1607,167,167,25,295,675,6101,1326,615,384,301,5754,130,58,1725,356,46,321,75,45,96,505,71,97,130,55,608,1415,47,28,51,4751,228,33,36,42,855,652,4294,3816,124,75,2041,91,249,80,233,1955,2883,369,904,172,164,948,15,429,617,882,1184,712,429,283,651,3611,1028,1620,65,506,83,53,60,1240,318,74,656,1228,33,456,510,845,203,1903,283,1353,1393,82,351,170,1064,1163,682,774,773,117,938,992,3200,2986,830,1301,202,1097,93,424,620,526,407,1748,1124,424,2036,434,1596,650,1646,769,1442,77,41,756,2654,315,609,56,661,394,109,113,241,1659,1324,2094,1699,190,286,98,141,71,130,259,186,834,379,35,88,856,777,142,71,72,102,49,71,3349,187,409,147,153,23,811,3908,220,675,446,722,620,228,3275,396,1990,69,38,1184,235,280,834,515,286,81,398,284,288,288,287,353,359,956,754,109,102,540,37,3858,336,564,87,976,549,256,58,107,224,2055,411,1042,210,115,3331,452,440,473,2094,1645,1069,625,522,1769,384,1357,1007,486,332,445,122,334,369,112,622,597,83,3858,848,3331,313,2055,115,313,2055,115,115,3331,848,3858,2550,848,3331,115,2055,1032,526,1620,124,539,805,193,442,179,508,222,216,194,51,273,515,1051,24,425,286,386,163,170,170,166,355,161,765,120,251,620,116,189,385,296,485,642,1023,198,73,173,272,700,188,457,78,75,414,203,194,300,646,195,357,713,380,154,3095,160,301,544,72,11,46,33,73,299,39,124,88,622,792,256,113,75,369,143,29,94,498,154,87,553,168,446,415,127,114,310,124,211,261,455,518,227,304,150,195,624,545,416,1195,360,2398,764,111,449,228,360,1065,325,594,548,294,67,381,20,218,134,129,559,554,128,765,179,117,8,818,699,387,209,658,342,350,852,201,144,122,475,175,1376,1805,450,314,3018,948,245,582,965,119,361,1025,393,82,301,25,70,81,292,440,373,46,27,76,259,159,153,409,1053,1015,918,1884,720,196,400,1037,1129,166,112,327,101,1472,34,169,107,105,242,152,76,301,295,921,166,63,141,398,897,174,96,99,388,1198,240,487,286,92,23,82,65,251,288,519,105,76,80,417,159,63,222,50,193,38,41,737,536,168,443,2236,1181,458,584,1487,145,680,75,241,1673,2204,2674,196,94,528,529,352,1558,192,571,848,912,224,1932,54,200,332,579,163,653,324,79,479,540,165,52,356,116,56,25,147,514,728,680,782,158,708,1056,220,308,331,428,726,181,1369,45,519,204,691,767,195,151,104,5,122,121,1383,135,154,159,174,525,79,62,287,792,157,390,103,208,238,153,6,339,383,505,162,81,668,173,1145,745,63,193,175,44,271,544,71,46,1096,509,98,926,480,3004,497,730,3349,3567,625,997,563,239,1787,213,5893,6347,67,664,613,151,372,1562,41,697,1527,121,186,182,178,164,287,3473,114,468,3590,797,509,548,560,125,220,1740,71,75,2468,35,975,1946,771,206,827,1639,512,164,201,480,108,118,293,764,386,291,1266,358,2673,464,1064,1239,187,420,594,1332,209,444,243,862,110,705,40,176,117,30,688,1149,319,280,214,1216,1970,401,77,62,49,132,851,1747,166,173,237,828,69,83,204,3858,3858,746,99,115,247,78,2055,3858,177,53,199,161,92,3858,848,1488,3331,2055,313,3331,2055,313,848,3858,1383,653,1061,382,115,115,313,3331,848,3858,115,115,2550,1301,1239,900,651,226,505,321,3122,169,2325,773,219,224,622,442,460,511,313,213,555,1995,670,88,186,627,833,98,190,119,198,824,390,433,512,401,555,429,754,455,1075,1059,655,1896,385,134,853,626,318,172,816,489,2174,145,664,453,1173,853,134,1173,385,1896,655,1059,1075,453,455,754,664,429,555,401,512,433,390,824,198,119,98,190,833,627,186,88,670,1995,555,213,313,511,460,442,622,224,219,773,2325,169,3122,321,505,226,651,900,1239,145,2174,489,1301,816,172,318,626,1239,900,651,226,505,321,3122,169,2325,773,219,224,622,442,460,511,313,213,555,1995,670,88,186,627,833,98,190,119,198,824,390,433,512,401,555,429,754,455,1075,1059,655,1896,385,134,853,626,318,172,816,489,2174,145,664,453,1173,1301,574,2405,599,681,1725,294,786,440,786,440,1349,427,87,2293,275,2055,115,3331,102,848,3858,1078,248,883,294,1725,2405,574,681,196,1024,1024,196,196,1024,441,60,60,219,342,1851,163,70,558,831,1017,568,249,1505,341,1152,924,336,717,53,18,131,2214,794,108,175,219,337,60,304,498,102,233,87,387,485,137,584,70,82,332,64,356,381,177,51,386,613,425,509,823,242,753,268,524,1405,788,133,152,991,498,202,169,51,115,102,3858,318,313,2055,115,3331,848,3858,3331,2055,2055,3331,1167,1211,455,137,163,568,991,1017,210,1211,2055,3331,3858,91,141,535,150,338,87,365,318,170,592,452,247,1062,1062,515,526,3858,102,845,313,2055,115,3331,848,515,526,122,317,681,596,972,372,575,681,596,372,575,554,681,317,122,372,122,317,972,22,3241,208,5690,2563,390,365,2668,289,1299,539,32,172,641,4822,6562,196,3241,22,196,365,2668,289,1299,390,2563,539,32,172,641,5690,4822,6562,208,390,1299,172,289,32,208,22,2563,641,196,365,390,22,3241,208,5690,2563,390,365,6562,4822,641,172,32,539,1299,289,196,2668,289,539,641,4822,6562,956,1290,1751,239,905,641,943,208,5690,2563,390,6562,4822,641,172,32,539,365,1299,289,2668,196,22,3241,1299,5690,32,172,3241,22,2563,208,2143,1541,365,196,2668,275,289,377,747,140,38,644,382,567,797,293,471,516,1884,1057,167,295,1522,114,378,1522,444,2576,2540,930,305,84,85,1837,308,44,660,568,676,457,192,253,198,648,284,4664,2117,219,2550,118,279,228,1649,481,248,329,1698,1655,3858,848,102,216,90,1488,627,219,82,263,159,2055,115,470,365,587,1337,128,891,1127,350,285,1097,144,183,1424,643,235,768,255,3849,786,304,364,89,520,352,297,293,636,297,249,47,527,332,127,125,77,2156,1586,85,314,777,820,241,467,143,604,224,2528,3313,966,401,89,178,806,503,643,355,120,104,693,496,90,164,728,517,69,99,289,777,820,241,467,708,991,1299,95,767,188,303,808,1549,584,1226,1639,454,382,302,789,555,557,92,230,226,632,489,1455,260,93,1085,222,526,246,169,526,2347,114,602,170,258,1399,1084,44,1002,512,879,1659,646,346,313,348,3,509,1850,42,185,1427,933,221,1928,531,1273,1737,1394,536,118,415,979,1037,472,743,208,597,304,334,598,287,617,1150,986,268,476,1232,1254,1627,930,280,1503,275,258,79,360,374,142,822,1386,923,595,276,333,379,2197,241,1451,443,437,93,350,321,66,2266,1851,645,226,73,914,75,617,360,232,1872,142,1322,1258,719,273,104,191,1464,1334,1304,182,4853,4590,1354,4545,1448,280,603,268,669,646,406,566,1978,3133,581,348,496,3331,115,2055,660,292,241,186,523,65,766,1257,720,152,1139,861,327,1453,1042,110,544,298,57,841,200,930,709,1464,141,905,207,382,906,1733,1322,435,458,300,579,3477,143,2563,141,498,110,742,300,397,1349,301,616,716,571,369,1304,971,897,711,93,1443,352,187,297,125,2145,1522,3858,1655,329,1841,848,102,147,216,581,3331,115,115,2055,261,25,2156,991,458,435,300,143,579,2563,93,88,1353,1005,82,616,1427,415,532,618,1078,883,141,498,110,57,529,99,69,1005,143,435,110,246,579,2563,2010,3520,925,2010,1306,736,109,196,779,2992,736,109,2010,196,779,2992,3520,925,386,161,210,313,2055,343,212,115,969,3331,677,388,102,848,171,3858,256,1760,1716,747,210,143,360,1604,3969,329,346,221,353,549,1306,736,109,196,779,2992,3520,925,805,1140,667,977,772,1763,741,1202,640,2027,721,202,158,2010,3858,115,285,196,453,285,196,453,453,285,196,2055,3331,115,848,3858,316,735,3858,3331,115,3331,165,313,2055,115,3331,3858,313,3858,169,313,2055,115,3331,848,2550,3858,554,301,299,1167,211,99,384,836,406,1760,1270,157,771,632,124,124,384,836,1760,1270,632,124,632,1270,1760,836,384,1167,299,771,157,406,99,211,301,3331,115,848,2055,3858,299,1167,211,99,406,157,771,301,155,2550,3858,848,1488,3331,115,115,2055,1140,3858,1140,115,115,2055,3331,848,453,196,285,453,196,285,453,285,196,896,2385,463,65,69,335,221,848,313,115,3331,848,3858,463,896,132,216,971,360,812,855,3215,96,104,2385,2197,60,1689,65,69,335,1032,44,150,734,313,2055,115,3331,848,3858,3858,3858,1024,2550,848,65,69,221,335,2278,463,896,602,137,2550,124,444,132,848,189,3331,115,2055,812,453,1575,2385,118,125,69,617,1005,352,99,106,89,480,224,140,104,693,496,856,1632,344,1157,499,1461,57,200,508,118,118,848,1298,3858,313,2055,115,3331,848,3858,188,572,3331,3858,1140,3048,572,3331,2055,115,3331,848,3858,277,663,9355,369,9355,943,122,29,334,3858,277,663,369,142,529,1322,954,167,1746,461,262,313,334,2055,115,115,3331,848,3858,827,512,164,201,118,293,243,862,110,280,132,166,828,273,286,120,251,189,173,272,457,646,357,380,174,398,319,221,534,258,473,386,708,896,71,602,137,2550,124,463,444,132,3858,848,189,971,1488,3331,115,171,2055,313,2385,812,855,3215,96,104,2197,749,356,3374,455,1270,605,716,1342,229,330,558,352,466,65,69,134,335,447,453,571,647,285,1575,130,305,1239,1020,670,29,108,287,947,379,599,437,848,3858,1239,1020,670,947,287,108,29,437,379,1342,812,1632,1032,2278,44,150,455,700,1342,647,319,9114,321,1575,2036,2036,2036,915,915,915,463,65,69,335,1632,2278,1998,991,677,2385,221,313,2055,3331,3858,690,208,1694,1159,973,1057,238,451,102,973,43,973,386,402,70,821,70,1751,1515,821,402,821,2055,3331,115,402,57,69,1005,99,693,496,206,915,291,1163,84,297,50,329,193,2207,163,163,2207,193,329,50,297,84,1167,3644,1612,393,684,1886,291,2093,2090,955,106,915,206,1354,612,377,2433,6186,270,1376,906,815,232,180,1052,39,210,277,1042,841,163,2207,193,329,50,297,3644,84,1167,393,684,1612,1886,291,2093,2090,955,106,915,206,1354,2673,951,276,1971,772,1280,1612,277,210,611,221,752,984,813,1372,1316,2093,106,1612,955,2090,2306,238,906,469,184,1674,888,467,83,2898,3111,2964,1924,993,995,260,1556,645,742,270,343,39,1173,761,151,946,469,1163,807,2085,2219,2145,3240,948,917,141,1415,969,82,482,1177,703,158,393,845,976,897,248,414,9,381,150,297,818,915,291,206,163,2207,193,329,50,297,84,1167,848,3858,65,69,335,2385,896,3215,463,221,313,3331,115,3858,951,951,115,1560,3858,848,1488,3331,115,115,313,232,3858,848,3331,115,82,115,115,2321,711,2550,848,216,3331,115,104,1078,1689,559,907,1024,653,1301,1173,453,186,460,328,651,900,221,1239,653,1024,1301,1173,186,460,651,900,221,1239,328,559,907,1024,653,1301,1173,453,186,460,328,651,900,221,1239,559,907,453,877,233,98,123,2701,1167,815,318,877,3331,318,3858,3331,848,3858,115,815,1167,2701,123,98,233,877,697,1488,3331,115,848,2055,115,3331,3858,3858,1417,474,131,4311,1009,208,566,460,300,900,900,460,3331,3858,1235,45,65,335,51,296,242,272,367,141,446,168,607,243,245,1064,591,388,355,115,3331,3858,465,2055,848,1140,3858,3331,3220,402,402,3220,3220,402,15,1607,1226,289,468,313,113,2055,212,90,3565,3858,1760,163,603,754,1716,747,210,143,2433,620,1500,3066,3364,3220,607,1915,62,3160,2939,641,1203,900,402,1006,210,402,3220,1500,620,210,3364,3220,1006,900,1203,641,402,2939,3160,62,1915,607,607,1915,62,3160,2939,641,1203,900,1006,210,620,1500,3066,3364,365,1368,471,243,2428,1632,2278,565,87,55,200,179,3858,2055,115,115,3331,848,3858,1342,480,229,2702,330,626,558,352,1534,466,1270,256,716,134,959,213,475,489,529,524,221,463,2385,529,1167,647,334,309,432,1632,453,876,1695,101,267,2055,115,3331,848,3858,313,2055,115,3331,3858,193,65,86,2697,314,130,230,765,250,1604,170,83,72,156,1070,619,770],\"xaxis\":\"x\",\"yaxis\":\"y\",\"type\":\"histogram\"}],                        {\"template\":{\"data\":{\"histogram2dcontour\":[{\"type\":\"histogram2dcontour\",\"colorbar\":{\"outlinewidth\":0,\"ticks\":\"\"},\"colorscale\":[[0.0,\"#0d0887\"],[0.1111111111111111,\"#46039f\"],[0.2222222222222222,\"#7201a8\"],[0.3333333333333333,\"#9c179e\"],[0.4444444444444444,\"#bd3786\"],[0.5555555555555556,\"#d8576b\"],[0.6666666666666666,\"#ed7953\"],[0.7777777777777778,\"#fb9f3a\"],[0.8888888888888888,\"#fdca26\"],[1.0,\"#f0f921\"]]}],\"choropleth\":[{\"type\":\"choropleth\",\"colorbar\":{\"outlinewidth\":0,\"ticks\":\"\"}}],\"histogram2d\":[{\"type\":\"histogram2d\",\"colorbar\":{\"outlinewidth\":0,\"ticks\":\"\"},\"colorscale\":[[0.0,\"#0d0887\"],[0.1111111111111111,\"#46039f\"],[0.2222222222222222,\"#7201a8\"],[0.3333333333333333,\"#9c179e\"],[0.4444444444444444,\"#bd3786\"],[0.5555555555555556,\"#d8576b\"],[0.6666666666666666,\"#ed7953\"],[0.7777777777777778,\"#fb9f3a\"],[0.8888888888888888,\"#fdca26\"],[1.0,\"#f0f921\"]]}],\"heatmap\":[{\"type\":\"heatmap\",\"colorbar\":{\"outlinewidth\":0,\"ticks\":\"\"},\"colorscale\":[[0.0,\"#0d0887\"],[0.1111111111111111,\"#46039f\"],[0.2222222222222222,\"#7201a8\"],[0.3333333333333333,\"#9c179e\"],[0.4444444444444444,\"#bd3786\"],[0.5555555555555556,\"#d8576b\"],[0.6666666666666666,\"#ed7953\"],[0.7777777777777778,\"#fb9f3a\"],[0.8888888888888888,\"#fdca26\"],[1.0,\"#f0f921\"]]}],\"heatmapgl\":[{\"type\":\"heatmapgl\",\"colorbar\":{\"outlinewidth\":0,\"ticks\":\"\"},\"colorscale\":[[0.0,\"#0d0887\"],[0.1111111111111111,\"#46039f\"],[0.2222222222222222,\"#7201a8\"],[0.3333333333333333,\"#9c179e\"],[0.4444444444444444,\"#bd3786\"],[0.5555555555555556,\"#d8576b\"],[0.6666666666666666,\"#ed7953\"],[0.7777777777777778,\"#fb9f3a\"],[0.8888888888888888,\"#fdca26\"],[1.0,\"#f0f921\"]]}],\"contourcarpet\":[{\"type\":\"contourcarpet\",\"colorbar\":{\"outlinewidth\":0,\"ticks\":\"\"}}],\"contour\":[{\"type\":\"contour\",\"colorbar\":{\"outlinewidth\":0,\"ticks\":\"\"},\"colorscale\":[[0.0,\"#0d0887\"],[0.1111111111111111,\"#46039f\"],[0.2222222222222222,\"#7201a8\"],[0.3333333333333333,\"#9c179e\"],[0.4444444444444444,\"#bd3786\"],[0.5555555555555556,\"#d8576b\"],[0.6666666666666666,\"#ed7953\"],[0.7777777777777778,\"#fb9f3a\"],[0.8888888888888888,\"#fdca26\"],[1.0,\"#f0f921\"]]}],\"surface\":[{\"type\":\"surface\",\"colorbar\":{\"outlinewidth\":0,\"ticks\":\"\"},\"colorscale\":[[0.0,\"#0d0887\"],[0.1111111111111111,\"#46039f\"],[0.2222222222222222,\"#7201a8\"],[0.3333333333333333,\"#9c179e\"],[0.4444444444444444,\"#bd3786\"],[0.5555555555555556,\"#d8576b\"],[0.6666666666666666,\"#ed7953\"],[0.7777777777777778,\"#fb9f3a\"],[0.8888888888888888,\"#fdca26\"],[1.0,\"#f0f921\"]]}],\"mesh3d\":[{\"type\":\"mesh3d\",\"colorbar\":{\"outlinewidth\":0,\"ticks\":\"\"}}],\"scatter\":[{\"fillpattern\":{\"fillmode\":\"overlay\",\"size\":10,\"solidity\":0.2},\"type\":\"scatter\"}],\"parcoords\":[{\"type\":\"parcoords\",\"line\":{\"colorbar\":{\"outlinewidth\":0,\"ticks\":\"\"}}}],\"scatterpolargl\":[{\"type\":\"scatterpolargl\",\"marker\":{\"colorbar\":{\"outlinewidth\":0,\"ticks\":\"\"}}}],\"bar\":[{\"error_x\":{\"color\":\"#2a3f5f\"},\"error_y\":{\"color\":\"#2a3f5f\"},\"marker\":{\"line\":{\"color\":\"#E5ECF6\",\"width\":0.5},\"pattern\":{\"fillmode\":\"overlay\",\"size\":10,\"solidity\":0.2}},\"type\":\"bar\"}],\"scattergeo\":[{\"type\":\"scattergeo\",\"marker\":{\"colorbar\":{\"outlinewidth\":0,\"ticks\":\"\"}}}],\"scatterpolar\":[{\"type\":\"scatterpolar\",\"marker\":{\"colorbar\":{\"outlinewidth\":0,\"ticks\":\"\"}}}],\"histogram\":[{\"marker\":{\"pattern\":{\"fillmode\":\"overlay\",\"size\":10,\"solidity\":0.2}},\"type\":\"histogram\"}],\"scattergl\":[{\"type\":\"scattergl\",\"marker\":{\"colorbar\":{\"outlinewidth\":0,\"ticks\":\"\"}}}],\"scatter3d\":[{\"type\":\"scatter3d\",\"line\":{\"colorbar\":{\"outlinewidth\":0,\"ticks\":\"\"}},\"marker\":{\"colorbar\":{\"outlinewidth\":0,\"ticks\":\"\"}}}],\"scattermapbox\":[{\"type\":\"scattermapbox\",\"marker\":{\"colorbar\":{\"outlinewidth\":0,\"ticks\":\"\"}}}],\"scatterternary\":[{\"type\":\"scatterternary\",\"marker\":{\"colorbar\":{\"outlinewidth\":0,\"ticks\":\"\"}}}],\"scattercarpet\":[{\"type\":\"scattercarpet\",\"marker\":{\"colorbar\":{\"outlinewidth\":0,\"ticks\":\"\"}}}],\"carpet\":[{\"aaxis\":{\"endlinecolor\":\"#2a3f5f\",\"gridcolor\":\"white\",\"linecolor\":\"white\",\"minorgridcolor\":\"white\",\"startlinecolor\":\"#2a3f5f\"},\"baxis\":{\"endlinecolor\":\"#2a3f5f\",\"gridcolor\":\"white\",\"linecolor\":\"white\",\"minorgridcolor\":\"white\",\"startlinecolor\":\"#2a3f5f\"},\"type\":\"carpet\"}],\"table\":[{\"cells\":{\"fill\":{\"color\":\"#EBF0F8\"},\"line\":{\"color\":\"white\"}},\"header\":{\"fill\":{\"color\":\"#C8D4E3\"},\"line\":{\"color\":\"white\"}},\"type\":\"table\"}],\"barpolar\":[{\"marker\":{\"line\":{\"color\":\"#E5ECF6\",\"width\":0.5},\"pattern\":{\"fillmode\":\"overlay\",\"size\":10,\"solidity\":0.2}},\"type\":\"barpolar\"}],\"pie\":[{\"automargin\":true,\"type\":\"pie\"}]},\"layout\":{\"autotypenumbers\":\"strict\",\"colorway\":[\"#636efa\",\"#EF553B\",\"#00cc96\",\"#ab63fa\",\"#FFA15A\",\"#19d3f3\",\"#FF6692\",\"#B6E880\",\"#FF97FF\",\"#FECB52\"],\"font\":{\"color\":\"#2a3f5f\"},\"hovermode\":\"closest\",\"hoverlabel\":{\"align\":\"left\"},\"paper_bgcolor\":\"white\",\"plot_bgcolor\":\"#E5ECF6\",\"polar\":{\"bgcolor\":\"#E5ECF6\",\"angularaxis\":{\"gridcolor\":\"white\",\"linecolor\":\"white\",\"ticks\":\"\"},\"radialaxis\":{\"gridcolor\":\"white\",\"linecolor\":\"white\",\"ticks\":\"\"}},\"ternary\":{\"bgcolor\":\"#E5ECF6\",\"aaxis\":{\"gridcolor\":\"white\",\"linecolor\":\"white\",\"ticks\":\"\"},\"baxis\":{\"gridcolor\":\"white\",\"linecolor\":\"white\",\"ticks\":\"\"},\"caxis\":{\"gridcolor\":\"white\",\"linecolor\":\"white\",\"ticks\":\"\"}},\"coloraxis\":{\"colorbar\":{\"outlinewidth\":0,\"ticks\":\"\"}},\"colorscale\":{\"sequential\":[[0.0,\"#0d0887\"],[0.1111111111111111,\"#46039f\"],[0.2222222222222222,\"#7201a8\"],[0.3333333333333333,\"#9c179e\"],[0.4444444444444444,\"#bd3786\"],[0.5555555555555556,\"#d8576b\"],[0.6666666666666666,\"#ed7953\"],[0.7777777777777778,\"#fb9f3a\"],[0.8888888888888888,\"#fdca26\"],[1.0,\"#f0f921\"]],\"sequentialminus\":[[0.0,\"#0d0887\"],[0.1111111111111111,\"#46039f\"],[0.2222222222222222,\"#7201a8\"],[0.3333333333333333,\"#9c179e\"],[0.4444444444444444,\"#bd3786\"],[0.5555555555555556,\"#d8576b\"],[0.6666666666666666,\"#ed7953\"],[0.7777777777777778,\"#fb9f3a\"],[0.8888888888888888,\"#fdca26\"],[1.0,\"#f0f921\"]],\"diverging\":[[0,\"#8e0152\"],[0.1,\"#c51b7d\"],[0.2,\"#de77ae\"],[0.3,\"#f1b6da\"],[0.4,\"#fde0ef\"],[0.5,\"#f7f7f7\"],[0.6,\"#e6f5d0\"],[0.7,\"#b8e186\"],[0.8,\"#7fbc41\"],[0.9,\"#4d9221\"],[1,\"#276419\"]]},\"xaxis\":{\"gridcolor\":\"white\",\"linecolor\":\"white\",\"ticks\":\"\",\"title\":{\"standoff\":15},\"zerolinecolor\":\"white\",\"automargin\":true,\"zerolinewidth\":2},\"yaxis\":{\"gridcolor\":\"white\",\"linecolor\":\"white\",\"ticks\":\"\",\"title\":{\"standoff\":15},\"zerolinecolor\":\"white\",\"automargin\":true,\"zerolinewidth\":2},\"scene\":{\"xaxis\":{\"backgroundcolor\":\"#E5ECF6\",\"gridcolor\":\"white\",\"linecolor\":\"white\",\"showbackground\":true,\"ticks\":\"\",\"zerolinecolor\":\"white\",\"gridwidth\":2},\"yaxis\":{\"backgroundcolor\":\"#E5ECF6\",\"gridcolor\":\"white\",\"linecolor\":\"white\",\"showbackground\":true,\"ticks\":\"\",\"zerolinecolor\":\"white\",\"gridwidth\":2},\"zaxis\":{\"backgroundcolor\":\"#E5ECF6\",\"gridcolor\":\"white\",\"linecolor\":\"white\",\"showbackground\":true,\"ticks\":\"\",\"zerolinecolor\":\"white\",\"gridwidth\":2}},\"shapedefaults\":{\"line\":{\"color\":\"#2a3f5f\"}},\"annotationdefaults\":{\"arrowcolor\":\"#2a3f5f\",\"arrowhead\":0,\"arrowwidth\":1},\"geo\":{\"bgcolor\":\"white\",\"landcolor\":\"#E5ECF6\",\"subunitcolor\":\"white\",\"showland\":true,\"showlakes\":true,\"lakecolor\":\"white\"},\"title\":{\"x\":0.05},\"mapbox\":{\"style\":\"light\"}}},\"xaxis\":{\"anchor\":\"y\",\"domain\":[0.0,1.0],\"title\":{\"text\":\"length\"}},\"yaxis\":{\"anchor\":\"x\",\"domain\":[0.0,1.0],\"title\":{\"text\":\"count\"}},\"legend\":{\"title\":{\"text\":\"label\"},\"tracegroupgap\":0},\"margin\":{\"t\":60},\"barmode\":\"relative\"},                        {\"responsive\": true}                    ).then(function(){\n",
              "                            \n",
              "var gd = document.getElementById('a6c682d3-7301-4352-96e6-7309822decd9');\n",
              "var x = new MutationObserver(function (mutations, observer) {{\n",
              "        var display = window.getComputedStyle(gd).display;\n",
              "        if (!display || display === 'none') {{\n",
              "            console.log([gd, 'removed!']);\n",
              "            Plotly.purge(gd);\n",
              "            observer.disconnect();\n",
              "        }}\n",
              "}});\n",
              "\n",
              "// Listen for the removal of the full notebook cells\n",
              "var notebookContainer = gd.closest('#notebook-container');\n",
              "if (notebookContainer) {{\n",
              "    x.observe(notebookContainer, {childList: true});\n",
              "}}\n",
              "\n",
              "// Listen for the clearing of the current output cell\n",
              "var outputEl = gd.closest('.output');\n",
              "if (outputEl) {{\n",
              "    x.observe(outputEl, {childList: true});\n",
              "}}\n",
              "\n",
              "                        })                };                            </script>        </div>\n",
              "</body>\n",
              "</html>"
            ]
          },
          "metadata": {}
        }
      ],
      "source": [
        "d['text'] = d['text'].astype(str)\n",
        "d['length'] = d.text.apply(len)\n",
        "for u in d['label'].unique():\n",
        "    print(f'Average {u} length = {round(d[d.label==u].length.mean(),2)}')\n",
        "    print(f'Most frequent {u} length = {round(d[d.label==u].length.mode()[0],2)}')\n",
        "px.histogram(d,x='length', color = 'label')"
      ]
    },
    {
      "cell_type": "markdown",
      "id": "f16840ed",
      "metadata": {
        "papermill": {
          "duration": 0.010074,
          "end_time": "2022-09-11T18:14:37.093721",
          "exception": false,
          "start_time": "2022-09-11T18:14:37.083647",
          "status": "completed"
        },
        "tags": [],
        "id": "f16840ed"
      },
      "source": [
        "### Preprocessing:"
      ]
    },
    {
      "cell_type": "code",
      "execution_count": null,
      "id": "2a3378ad",
      "metadata": {
        "execution": {
          "iopub.execute_input": "2022-09-11T18:14:37.115563Z",
          "iopub.status.busy": "2022-09-11T18:14:37.115095Z",
          "iopub.status.idle": "2022-09-11T18:14:37.127975Z",
          "shell.execute_reply": "2022-09-11T18:14:37.126826Z"
        },
        "papermill": {
          "duration": 0.026111,
          "end_time": "2022-09-11T18:14:37.130063",
          "exception": false,
          "start_time": "2022-09-11T18:14:37.103952",
          "status": "completed"
        },
        "tags": [],
        "colab": {
          "base_uri": "https://localhost:8080/",
          "height": 206
        },
        "id": "2a3378ad",
        "outputId": "9723dfa9-1b19-47cc-f2f8-5320ab0f01d2"
      },
      "outputs": [
        {
          "output_type": "execute_result",
          "data": {
            "text/plain": [
              "   label                                               text  length\n",
              "0      0  reporting resources meeting forwarded phillip ...     496\n",
              "1      0                                         check load      10\n",
              "2      0  know quotes pauline expecting range like quote...     253\n",
              "3      0  request steve kean alan received updated numbe...      76\n",
              "4      0  cpuc posts audit reports forwarded phillip all...    5383"
            ],
            "text/html": [
              "\n",
              "  <div id=\"df-5ff35f1f-106e-4025-acb2-d6dedda1f44a\" class=\"colab-df-container\">\n",
              "    <div>\n",
              "<style scoped>\n",
              "    .dataframe tbody tr th:only-of-type {\n",
              "        vertical-align: middle;\n",
              "    }\n",
              "\n",
              "    .dataframe tbody tr th {\n",
              "        vertical-align: top;\n",
              "    }\n",
              "\n",
              "    .dataframe thead th {\n",
              "        text-align: right;\n",
              "    }\n",
              "</style>\n",
              "<table border=\"1\" class=\"dataframe\">\n",
              "  <thead>\n",
              "    <tr style=\"text-align: right;\">\n",
              "      <th></th>\n",
              "      <th>label</th>\n",
              "      <th>text</th>\n",
              "      <th>length</th>\n",
              "    </tr>\n",
              "  </thead>\n",
              "  <tbody>\n",
              "    <tr>\n",
              "      <th>0</th>\n",
              "      <td>0</td>\n",
              "      <td>reporting resources meeting forwarded phillip ...</td>\n",
              "      <td>496</td>\n",
              "    </tr>\n",
              "    <tr>\n",
              "      <th>1</th>\n",
              "      <td>0</td>\n",
              "      <td>check load</td>\n",
              "      <td>10</td>\n",
              "    </tr>\n",
              "    <tr>\n",
              "      <th>2</th>\n",
              "      <td>0</td>\n",
              "      <td>know quotes pauline expecting range like quote...</td>\n",
              "      <td>253</td>\n",
              "    </tr>\n",
              "    <tr>\n",
              "      <th>3</th>\n",
              "      <td>0</td>\n",
              "      <td>request steve kean alan received updated numbe...</td>\n",
              "      <td>76</td>\n",
              "    </tr>\n",
              "    <tr>\n",
              "      <th>4</th>\n",
              "      <td>0</td>\n",
              "      <td>cpuc posts audit reports forwarded phillip all...</td>\n",
              "      <td>5383</td>\n",
              "    </tr>\n",
              "  </tbody>\n",
              "</table>\n",
              "</div>\n",
              "    <div class=\"colab-df-buttons\">\n",
              "\n",
              "  <div class=\"colab-df-container\">\n",
              "    <button class=\"colab-df-convert\" onclick=\"convertToInteractive('df-5ff35f1f-106e-4025-acb2-d6dedda1f44a')\"\n",
              "            title=\"Convert this dataframe to an interactive table.\"\n",
              "            style=\"display:none;\">\n",
              "\n",
              "  <svg xmlns=\"http://www.w3.org/2000/svg\" height=\"24px\" viewBox=\"0 -960 960 960\">\n",
              "    <path d=\"M120-120v-720h720v720H120Zm60-500h600v-160H180v160Zm220 220h160v-160H400v160Zm0 220h160v-160H400v160ZM180-400h160v-160H180v160Zm440 0h160v-160H620v160ZM180-180h160v-160H180v160Zm440 0h160v-160H620v160Z\"/>\n",
              "  </svg>\n",
              "    </button>\n",
              "\n",
              "  <style>\n",
              "    .colab-df-container {\n",
              "      display:flex;\n",
              "      gap: 12px;\n",
              "    }\n",
              "\n",
              "    .colab-df-convert {\n",
              "      background-color: #E8F0FE;\n",
              "      border: none;\n",
              "      border-radius: 50%;\n",
              "      cursor: pointer;\n",
              "      display: none;\n",
              "      fill: #1967D2;\n",
              "      height: 32px;\n",
              "      padding: 0 0 0 0;\n",
              "      width: 32px;\n",
              "    }\n",
              "\n",
              "    .colab-df-convert:hover {\n",
              "      background-color: #E2EBFA;\n",
              "      box-shadow: 0px 1px 2px rgba(60, 64, 67, 0.3), 0px 1px 3px 1px rgba(60, 64, 67, 0.15);\n",
              "      fill: #174EA6;\n",
              "    }\n",
              "\n",
              "    .colab-df-buttons div {\n",
              "      margin-bottom: 4px;\n",
              "    }\n",
              "\n",
              "    [theme=dark] .colab-df-convert {\n",
              "      background-color: #3B4455;\n",
              "      fill: #D2E3FC;\n",
              "    }\n",
              "\n",
              "    [theme=dark] .colab-df-convert:hover {\n",
              "      background-color: #434B5C;\n",
              "      box-shadow: 0px 1px 3px 1px rgba(0, 0, 0, 0.15);\n",
              "      filter: drop-shadow(0px 1px 2px rgba(0, 0, 0, 0.3));\n",
              "      fill: #FFFFFF;\n",
              "    }\n",
              "  </style>\n",
              "\n",
              "    <script>\n",
              "      const buttonEl =\n",
              "        document.querySelector('#df-5ff35f1f-106e-4025-acb2-d6dedda1f44a button.colab-df-convert');\n",
              "      buttonEl.style.display =\n",
              "        google.colab.kernel.accessAllowed ? 'block' : 'none';\n",
              "\n",
              "      async function convertToInteractive(key) {\n",
              "        const element = document.querySelector('#df-5ff35f1f-106e-4025-acb2-d6dedda1f44a');\n",
              "        const dataTable =\n",
              "          await google.colab.kernel.invokeFunction('convertToInteractive',\n",
              "                                                    [key], {});\n",
              "        if (!dataTable) return;\n",
              "\n",
              "        const docLinkHtml = 'Like what you see? Visit the ' +\n",
              "          '<a target=\"_blank\" href=https://colab.research.google.com/notebooks/data_table.ipynb>data table notebook</a>'\n",
              "          + ' to learn more about interactive tables.';\n",
              "        element.innerHTML = '';\n",
              "        dataTable['output_type'] = 'display_data';\n",
              "        await google.colab.output.renderOutput(dataTable, element);\n",
              "        const docLink = document.createElement('div');\n",
              "        docLink.innerHTML = docLinkHtml;\n",
              "        element.appendChild(docLink);\n",
              "      }\n",
              "    </script>\n",
              "  </div>\n",
              "\n",
              "\n",
              "<div id=\"df-c42a9c08-2780-4626-bed6-da4be8841b94\">\n",
              "  <button class=\"colab-df-quickchart\" onclick=\"quickchart('df-c42a9c08-2780-4626-bed6-da4be8841b94')\"\n",
              "            title=\"Suggest charts\"\n",
              "            style=\"display:none;\">\n",
              "\n",
              "<svg xmlns=\"http://www.w3.org/2000/svg\" height=\"24px\"viewBox=\"0 0 24 24\"\n",
              "     width=\"24px\">\n",
              "    <g>\n",
              "        <path d=\"M19 3H5c-1.1 0-2 .9-2 2v14c0 1.1.9 2 2 2h14c1.1 0 2-.9 2-2V5c0-1.1-.9-2-2-2zM9 17H7v-7h2v7zm4 0h-2V7h2v10zm4 0h-2v-4h2v4z\"/>\n",
              "    </g>\n",
              "</svg>\n",
              "  </button>\n",
              "\n",
              "<style>\n",
              "  .colab-df-quickchart {\n",
              "      --bg-color: #E8F0FE;\n",
              "      --fill-color: #1967D2;\n",
              "      --hover-bg-color: #E2EBFA;\n",
              "      --hover-fill-color: #174EA6;\n",
              "      --disabled-fill-color: #AAA;\n",
              "      --disabled-bg-color: #DDD;\n",
              "  }\n",
              "\n",
              "  [theme=dark] .colab-df-quickchart {\n",
              "      --bg-color: #3B4455;\n",
              "      --fill-color: #D2E3FC;\n",
              "      --hover-bg-color: #434B5C;\n",
              "      --hover-fill-color: #FFFFFF;\n",
              "      --disabled-bg-color: #3B4455;\n",
              "      --disabled-fill-color: #666;\n",
              "  }\n",
              "\n",
              "  .colab-df-quickchart {\n",
              "    background-color: var(--bg-color);\n",
              "    border: none;\n",
              "    border-radius: 50%;\n",
              "    cursor: pointer;\n",
              "    display: none;\n",
              "    fill: var(--fill-color);\n",
              "    height: 32px;\n",
              "    padding: 0;\n",
              "    width: 32px;\n",
              "  }\n",
              "\n",
              "  .colab-df-quickchart:hover {\n",
              "    background-color: var(--hover-bg-color);\n",
              "    box-shadow: 0 1px 2px rgba(60, 64, 67, 0.3), 0 1px 3px 1px rgba(60, 64, 67, 0.15);\n",
              "    fill: var(--button-hover-fill-color);\n",
              "  }\n",
              "\n",
              "  .colab-df-quickchart-complete:disabled,\n",
              "  .colab-df-quickchart-complete:disabled:hover {\n",
              "    background-color: var(--disabled-bg-color);\n",
              "    fill: var(--disabled-fill-color);\n",
              "    box-shadow: none;\n",
              "  }\n",
              "\n",
              "  .colab-df-spinner {\n",
              "    border: 2px solid var(--fill-color);\n",
              "    border-color: transparent;\n",
              "    border-bottom-color: var(--fill-color);\n",
              "    animation:\n",
              "      spin 1s steps(1) infinite;\n",
              "  }\n",
              "\n",
              "  @keyframes spin {\n",
              "    0% {\n",
              "      border-color: transparent;\n",
              "      border-bottom-color: var(--fill-color);\n",
              "      border-left-color: var(--fill-color);\n",
              "    }\n",
              "    20% {\n",
              "      border-color: transparent;\n",
              "      border-left-color: var(--fill-color);\n",
              "      border-top-color: var(--fill-color);\n",
              "    }\n",
              "    30% {\n",
              "      border-color: transparent;\n",
              "      border-left-color: var(--fill-color);\n",
              "      border-top-color: var(--fill-color);\n",
              "      border-right-color: var(--fill-color);\n",
              "    }\n",
              "    40% {\n",
              "      border-color: transparent;\n",
              "      border-right-color: var(--fill-color);\n",
              "      border-top-color: var(--fill-color);\n",
              "    }\n",
              "    60% {\n",
              "      border-color: transparent;\n",
              "      border-right-color: var(--fill-color);\n",
              "    }\n",
              "    80% {\n",
              "      border-color: transparent;\n",
              "      border-right-color: var(--fill-color);\n",
              "      border-bottom-color: var(--fill-color);\n",
              "    }\n",
              "    90% {\n",
              "      border-color: transparent;\n",
              "      border-bottom-color: var(--fill-color);\n",
              "    }\n",
              "  }\n",
              "</style>\n",
              "\n",
              "  <script>\n",
              "    async function quickchart(key) {\n",
              "      const quickchartButtonEl =\n",
              "        document.querySelector('#' + key + ' button');\n",
              "      quickchartButtonEl.disabled = true;  // To prevent multiple clicks.\n",
              "      quickchartButtonEl.classList.add('colab-df-spinner');\n",
              "      try {\n",
              "        const charts = await google.colab.kernel.invokeFunction(\n",
              "            'suggestCharts', [key], {});\n",
              "      } catch (error) {\n",
              "        console.error('Error during call to suggestCharts:', error);\n",
              "      }\n",
              "      quickchartButtonEl.classList.remove('colab-df-spinner');\n",
              "      quickchartButtonEl.classList.add('colab-df-quickchart-complete');\n",
              "    }\n",
              "    (() => {\n",
              "      let quickchartButtonEl =\n",
              "        document.querySelector('#df-c42a9c08-2780-4626-bed6-da4be8841b94 button');\n",
              "      quickchartButtonEl.style.display =\n",
              "        google.colab.kernel.accessAllowed ? 'block' : 'none';\n",
              "    })();\n",
              "  </script>\n",
              "</div>\n",
              "    </div>\n",
              "  </div>\n"
            ]
          },
          "metadata": {},
          "execution_count": 8
        }
      ],
      "source": [
        "d.label = LabelEncoder().fit_transform(d.label)\n",
        "d.head()"
      ]
    },
    {
      "cell_type": "code",
      "execution_count": null,
      "id": "6716f23b",
      "metadata": {
        "execution": {
          "iopub.execute_input": "2022-09-11T18:14:37.151628Z",
          "iopub.status.busy": "2022-09-11T18:14:37.151161Z",
          "iopub.status.idle": "2022-09-11T18:14:37.162926Z",
          "shell.execute_reply": "2022-09-11T18:14:37.161795Z"
        },
        "papermill": {
          "duration": 0.025365,
          "end_time": "2022-09-11T18:14:37.165143",
          "exception": false,
          "start_time": "2022-09-11T18:14:37.139778",
          "status": "completed"
        },
        "tags": [],
        "colab": {
          "base_uri": "https://localhost:8080/"
        },
        "id": "6716f23b",
        "outputId": "f311cdd9-f85e-4ee1-a628-40f0589a2703"
      },
      "outputs": [
        {
          "output_type": "execute_result",
          "data": {
            "text/plain": [
              "7525    belden office friday vacation office friday fe...\n",
              "577     october board finance committee presentations ...\n",
              "2819    cost summary guys lets final resolution issues...\n",
              "3747    presentation alstom esca meeting vegas sounds ...\n",
              "4115              scott need think value regards delainey\n",
              "Name: text, dtype: object"
            ]
          },
          "metadata": {},
          "execution_count": 9
        }
      ],
      "source": [
        "X_train, X_valid, y_train, y_valid= train_test_split(d['text'], d['label'], test_size=0.1, random_state=0)\n",
        "X_train.head()"
      ]
    },
    {
      "cell_type": "code",
      "execution_count": null,
      "id": "7dce8e54",
      "metadata": {
        "execution": {
          "iopub.execute_input": "2022-09-11T18:14:37.187786Z",
          "iopub.status.busy": "2022-09-11T18:14:37.186905Z",
          "iopub.status.idle": "2022-09-11T18:14:37.302204Z",
          "shell.execute_reply": "2022-09-11T18:14:37.301002Z"
        },
        "papermill": {
          "duration": 0.129228,
          "end_time": "2022-09-11T18:14:37.304602",
          "exception": false,
          "start_time": "2022-09-11T18:14:37.175374",
          "status": "completed"
        },
        "tags": [],
        "colab": {
          "base_uri": "https://localhost:8080/"
        },
        "id": "7dce8e54",
        "outputId": "6cbb4ead-8a3b-4309-914d-0fcc1a03aee7"
      },
      "outputs": [
        {
          "output_type": "execute_result",
          "data": {
            "text/plain": [
              "(9121, 41795)"
            ]
          },
          "metadata": {},
          "execution_count": 10
        }
      ],
      "source": [
        "\n",
        "\n",
        "tfv = TfidfVectorizer(stop_words='english')\n",
        "\n",
        "tfv_train = tfv.fit_transform(X_train)\n",
        "tfv_valid= tfv.transform(X_valid)\n",
        "\n",
        "tfv_train.shape"
      ]
    },
    {
      "cell_type": "code",
      "execution_count": null,
      "id": "7e388292",
      "metadata": {
        "execution": {
          "iopub.execute_input": "2022-09-11T18:14:37.327879Z",
          "iopub.status.busy": "2022-09-11T18:14:37.327080Z",
          "iopub.status.idle": "2022-09-11T18:14:37.336094Z",
          "shell.execute_reply": "2022-09-11T18:14:37.335086Z"
        },
        "papermill": {
          "duration": 0.023711,
          "end_time": "2022-09-11T18:14:37.338912",
          "exception": false,
          "start_time": "2022-09-11T18:14:37.315201",
          "status": "completed"
        },
        "tags": [],
        "id": "7e388292"
      },
      "outputs": [],
      "source": [
        "def best_estimator(estimator, params, X_train = tfv_train, y_train_ = y_train, scorer = None):\n",
        "\n",
        "    grid = GridSearchCV(estimator, params, scoring= scorer)\n",
        "    grid.fit(X_train, y_train_)\n",
        "\n",
        "    bestEstimator = grid.best_estimator_\n",
        "    print(f'Best estimator: {bestEstimator}')\n",
        "\n",
        "    CVscore = cross_val_score(bestEstimator, X_train, y_train_, cv=5, scoring= scorer)\n",
        "    print('Cross Validation Score: ', round(CVscore.mean() * 100, 2).astype(str) + '%')\n",
        "\n",
        "    return bestEstimator\n",
        "\n",
        "def cf(model, X_valid = tfv_valid, y_valid_ = y_valid):\n",
        "\n",
        "    y_pred = model.predict(X_valid)\n",
        "    confusionMatrix = confusion_matrix(y_valid_, y_pred)\n",
        "\n",
        "    sns.heatmap(confusionMatrix, annot=True, fmt='g', cbar=False, cmap='PiYG')\n",
        "    plt.xlabel('Predicted Values')\n",
        "    plt.ylabel('Actual Values')\n",
        "    plt.show()"
      ]
    },
    {
      "cell_type": "markdown",
      "id": "bd90aa7f",
      "metadata": {
        "papermill": {
          "duration": 0.009682,
          "end_time": "2022-09-11T18:14:37.358601",
          "exception": false,
          "start_time": "2022-09-11T18:14:37.348919",
          "status": "completed"
        },
        "tags": [],
        "id": "bd90aa7f"
      },
      "source": [
        "### Logistic Regression"
      ]
    },
    {
      "cell_type": "code",
      "execution_count": null,
      "id": "f3906811",
      "metadata": {
        "execution": {
          "iopub.execute_input": "2022-09-11T18:14:37.380672Z",
          "iopub.status.busy": "2022-09-11T18:14:37.379944Z",
          "iopub.status.idle": "2022-09-11T18:14:41.272460Z",
          "shell.execute_reply": "2022-09-11T18:14:41.271102Z"
        },
        "papermill": {
          "duration": 3.906717,
          "end_time": "2022-09-11T18:14:41.275381",
          "exception": false,
          "start_time": "2022-09-11T18:14:37.368664",
          "status": "completed"
        },
        "tags": [],
        "colab": {
          "base_uri": "https://localhost:8080/"
        },
        "id": "f3906811",
        "outputId": "233fc562-f896-408f-b562-f3a593ba7e14"
      },
      "outputs": [
        {
          "output_type": "stream",
          "name": "stdout",
          "text": [
            "Best estimator: LogisticRegression(C=1000)\n",
            "Cross Validation Score:  94.23%\n"
          ]
        }
      ],
      "source": [
        "log_reg_params = {\"penalty\": ['l1', 'l2'],\n",
        "                  'C': [0.001, 0.01, 0.1, 1, 10, 100, 1000]}\n",
        "\n",
        "log_reg = best_estimator(LogisticRegression(), log_reg_params)"
      ]
    },
    {
      "cell_type": "code",
      "execution_count": null,
      "id": "fa07e0c1",
      "metadata": {
        "execution": {
          "iopub.execute_input": "2022-09-11T18:14:41.298988Z",
          "iopub.status.busy": "2022-09-11T18:14:41.298185Z",
          "iopub.status.idle": "2022-09-11T18:14:41.481229Z",
          "shell.execute_reply": "2022-09-11T18:14:41.480043Z"
        },
        "papermill": {
          "duration": 0.197542,
          "end_time": "2022-09-11T18:14:41.483787",
          "exception": false,
          "start_time": "2022-09-11T18:14:41.286245",
          "status": "completed"
        },
        "tags": [],
        "colab": {
          "base_uri": "https://localhost:8080/",
          "height": 472
        },
        "id": "fa07e0c1",
        "outputId": "3e924d32-f13a-4aea-87fd-33dcd91a11da"
      },
      "outputs": [
        {
          "output_type": "display_data",
          "data": {
            "text/plain": [
              "<Figure size 640x480 with 1 Axes>"
            ],
            "image/png": "[encoded data removed]"
          },
          "metadata": {}
        }
      ],
      "source": [
        "cf(log_reg)"
      ]
    },
    {
      "cell_type": "markdown",
      "id": "f8cd2cfb",
      "metadata": {
        "papermill": {
          "duration": 0.010333,
          "end_time": "2022-09-11T18:14:41.505627",
          "exception": false,
          "start_time": "2022-09-11T18:14:41.495294",
          "status": "completed"
        },
        "tags": [],
        "id": "f8cd2cfb"
      },
      "source": [
        "### KNN"
      ]
    },
    {
      "cell_type": "code",
      "execution_count": null,
      "id": "eaa64210",
      "metadata": {
        "execution": {
          "iopub.execute_input": "2022-09-11T18:14:41.528406Z",
          "iopub.status.busy": "2022-09-11T18:14:41.527971Z",
          "iopub.status.idle": "2022-09-11T18:15:12.515550Z",
          "shell.execute_reply": "2022-09-11T18:15:12.514282Z"
        },
        "papermill": {
          "duration": 31.002118,
          "end_time": "2022-09-11T18:15:12.518315",
          "exception": false,
          "start_time": "2022-09-11T18:14:41.516197",
          "status": "completed"
        },
        "tags": [],
        "id": "eaa64210",
        "colab": {
          "base_uri": "https://localhost:8080/"
        },
        "outputId": "9ea402f2-61a4-4441-83bc-58d999b72948"
      },
      "outputs": [
        {
          "output_type": "stream",
          "name": "stdout",
          "text": [
            "Best estimator: KNeighborsClassifier(n_neighbors=1)\n",
            "Cross Validation Score:  88.69%\n"
          ]
        }
      ],
      "source": [
        "knears_params = {\"n_neighbors\": list(range(1,30,5))}\n",
        "\n",
        "knears_neighbors = best_estimator(KNeighborsClassifier(), knears_params)"
      ]
    },
    {
      "cell_type": "code",
      "source": [],
      "metadata": {
        "id": "RBpbsHLN0FFM"
      },
      "id": "RBpbsHLN0FFM",
      "execution_count": null,
      "outputs": []
    },
    {
      "cell_type": "markdown",
      "source": [],
      "metadata": {
        "id": "fCBmn6tCmsml"
      },
      "id": "fCBmn6tCmsml"
    },
    {
      "cell_type": "code",
      "execution_count": null,
      "id": "00493651",
      "metadata": {
        "execution": {
          "iopub.execute_input": "2022-09-11T18:15:12.542909Z",
          "iopub.status.busy": "2022-09-11T18:15:12.542494Z",
          "iopub.status.idle": "2022-09-11T18:15:12.799289Z",
          "shell.execute_reply": "2022-09-11T18:15:12.797607Z"
        },
        "papermill": {
          "duration": 0.274235,
          "end_time": "2022-09-11T18:15:12.804059",
          "exception": false,
          "start_time": "2022-09-11T18:15:12.529824",
          "status": "completed"
        },
        "tags": [],
        "id": "00493651",
        "colab": {
          "base_uri": "https://localhost:8080/",
          "height": 472
        },
        "outputId": "3e7943dd-2031-4b43-de1a-810fcb1ec540"
      },
      "outputs": [
        {
          "output_type": "display_data",
          "data": {
            "text/plain": [
              "<Figure size 640x480 with 1 Axes>"
            ],
            "image/png": "[encoded data removed]"
          },
          "metadata": {}
        }
      ],
      "source": [
        "cf(knears_neighbors)"
      ]
    },
    {
      "cell_type": "markdown",
      "id": "c9fc0489",
      "metadata": {
        "papermill": {
          "duration": 0.010744,
          "end_time": "2022-09-11T18:15:12.841143",
          "exception": false,
          "start_time": "2022-09-11T18:15:12.830399",
          "status": "completed"
        },
        "tags": [],
        "id": "c9fc0489"
      },
      "source": []
    },
    {
      "cell_type": "markdown",
      "id": "f5f22fa1",
      "metadata": {
        "papermill": {
          "duration": 0.010649,
          "end_time": "2022-09-11T18:15:12.862893",
          "exception": false,
          "start_time": "2022-09-11T18:15:12.852244",
          "status": "completed"
        },
        "tags": [],
        "id": "f5f22fa1"
      },
      "source": [
        "### Random Forest"
      ]
    },
    {
      "cell_type": "code",
      "execution_count": null,
      "id": "b40dde04",
      "metadata": {
        "execution": {
          "iopub.execute_input": "2022-09-11T18:15:12.886467Z",
          "iopub.status.busy": "2022-09-11T18:15:12.885980Z",
          "iopub.status.idle": "2022-09-11T18:17:56.546785Z",
          "shell.execute_reply": "2022-09-11T18:17:56.545351Z"
        },
        "papermill": {
          "duration": 163.686313,
          "end_time": "2022-09-11T18:17:56.560191",
          "exception": false,
          "start_time": "2022-09-11T18:15:12.873878",
          "status": "completed"
        },
        "tags": [],
        "id": "b40dde04",
        "outputId": "e6e3cb16-5af1-4546-da11-f373d3f46de4",
        "colab": {
          "base_uri": "https://localhost:8080/"
        }
      },
      "outputs": [
        {
          "output_type": "stream",
          "name": "stdout",
          "text": [
            "Cross Validation Score:  93.93%\n"
          ]
        }
      ],
      "source": [
        "# random_params = {'n_estimators': [100, 200, 500],\n",
        "#                  'min_samples_split': [2, 5],\n",
        "#                  'bootstrap': [True, False]}\n",
        "\n",
        "# RF = best_estimator(RandomForestClassifier(), random_params)\n",
        "\n",
        "RF = RandomForestClassifier(n_estimators=500, min_samples_split = 5, bootstrap = False).fit(tfv_train, y_train)\n",
        "CVscore = cross_val_score(RF, tfv_train, y_train, cv=3)\n",
        "print('Cross Validation Score: ', round(CVscore.mean() * 100, 2).astype(str) + '%')"
      ]
    },
    {
      "cell_type": "code",
      "execution_count": null,
      "id": "e606609c",
      "metadata": {
        "execution": {
          "iopub.execute_input": "2022-09-11T18:17:56.585478Z",
          "iopub.status.busy": "2022-09-11T18:17:56.584699Z",
          "iopub.status.idle": "2022-09-11T18:17:57.163917Z",
          "shell.execute_reply": "2022-09-11T18:17:57.162605Z"
        },
        "papermill": {
          "duration": 0.594442,
          "end_time": "2022-09-11T18:17:57.166456",
          "exception": false,
          "start_time": "2022-09-11T18:17:56.572014",
          "status": "completed"
        },
        "tags": [],
        "id": "e606609c",
        "outputId": "4ec0a073-2755-4249-ed38-d4452ebc4bdf",
        "colab": {
          "base_uri": "https://localhost:8080/",
          "height": 472
        }
      },
      "outputs": [
        {
          "output_type": "display_data",
          "data": {
            "text/plain": [
              "<Figure size 640x480 with 1 Axes>"
            ],
            "image/png": "[encoded data removed]"
          },
          "metadata": {}
        }
      ],
      "source": [
        "cf(RF)"
      ]
    },
    {
      "cell_type": "markdown",
      "id": "fcdf5bb9",
      "metadata": {
        "papermill": {
          "duration": 0.010717,
          "end_time": "2022-09-11T18:17:57.188422",
          "exception": false,
          "start_time": "2022-09-11T18:17:57.177705",
          "status": "completed"
        },
        "tags": [],
        "id": "fcdf5bb9"
      },
      "source": [
        "### XGB"
      ]
    },
    {
      "cell_type": "code",
      "execution_count": null,
      "id": "ae8c3152",
      "metadata": {
        "_kg_hide-output": true,
        "execution": {
          "iopub.execute_input": "2022-09-11T18:17:57.212424Z",
          "iopub.status.busy": "2022-09-11T18:17:57.211944Z",
          "iopub.status.idle": "2022-09-11T18:18:46.644706Z",
          "shell.execute_reply": "2022-09-11T18:18:46.643777Z"
        },
        "papermill": {
          "duration": 49.46107,
          "end_time": "2022-09-11T18:18:46.660656",
          "exception": false,
          "start_time": "2022-09-11T18:17:57.199586",
          "status": "completed"
        },
        "tags": [],
        "id": "ae8c3152",
        "outputId": "93140128-33c4-4150-bdbd-f577b894a898",
        "colab": {
          "base_uri": "https://localhost:8080/"
        }
      },
      "outputs": [
        {
          "output_type": "stream",
          "name": "stdout",
          "text": [
            "Cross Validation Score:  93.79%\n"
          ]
        }
      ],
      "source": [
        "# xgbparams = {'n_estimators': [100, 500, 1000],\n",
        "#     'learning_rate': [0.01,0.05,0.1],\n",
        "#     'booster': ['gbtree', 'gblinear'],\n",
        "#     'reg_alpha': [0, 0.5, 1],\n",
        "#     'reg_lambda': [0.5, 1]}\n",
        "\n",
        "# xgb = best_estimator(XGBClassifier(n_jobs=-1), xgbparams)\n",
        "\n",
        "xgb = XGBClassifier(n_jobs=-1,n_estimators=1000,learning_rate=0.1,booster='gbtree',reg_alpha=0.5, reg_lambda=1).fit(tfv_train, y_train)\n",
        "CVscore = cross_val_score(xgb, tfv_train, y_train, cv=3)\n",
        "print('Cross Validation Score: ', round(CVscore.mean() * 100, 2).astype(str) + '%')"
      ]
    },
    {
      "cell_type": "code",
      "execution_count": null,
      "id": "df10916d",
      "metadata": {
        "execution": {
          "iopub.execute_input": "2022-09-11T18:18:46.685957Z",
          "iopub.status.busy": "2022-09-11T18:18:46.685042Z",
          "iopub.status.idle": "2022-09-11T18:18:47.036617Z",
          "shell.execute_reply": "2022-09-11T18:18:47.035349Z"
        },
        "papermill": {
          "duration": 0.367417,
          "end_time": "2022-09-11T18:18:47.039501",
          "exception": false,
          "start_time": "2022-09-11T18:18:46.672084",
          "status": "completed"
        },
        "tags": [],
        "id": "df10916d",
        "outputId": "f5ffc361-9a56-4fec-f8c6-76cd07251c5f",
        "colab": {
          "base_uri": "https://localhost:8080/",
          "height": 472
        }
      },
      "outputs": [
        {
          "output_type": "display_data",
          "data": {
            "text/plain": [
              "<Figure size 640x480 with 1 Axes>"
            ],
            "image/png": "[encoded data removed]"
          },
          "metadata": {}
        }
      ],
      "source": [
        "cf(xgb)"
      ]
    },
    {
      "cell_type": "markdown",
      "id": "88b18dc8",
      "metadata": {
        "papermill": {
          "duration": 0.011413,
          "end_time": "2022-09-11T18:18:47.062905",
          "exception": false,
          "start_time": "2022-09-11T18:18:47.051492",
          "status": "completed"
        },
        "tags": [],
        "id": "88b18dc8"
      },
      "source": [
        "## ALL DONE!\n",
        "for classification\n",
        "### LocalOutlierFactor Testing"
      ]
    },
    {
      "cell_type": "code",
      "execution_count": null,
      "id": "6b33a163",
      "metadata": {
        "execution": {
          "iopub.execute_input": "2022-09-11T18:18:47.088986Z",
          "iopub.status.busy": "2022-09-11T18:18:47.087761Z",
          "iopub.status.idle": "2022-09-11T18:18:48.217667Z",
          "shell.execute_reply": "2022-09-11T18:18:48.216221Z"
        },
        "papermill": {
          "duration": 1.146111,
          "end_time": "2022-09-11T18:18:48.220722",
          "exception": false,
          "start_time": "2022-09-11T18:18:47.074611",
          "status": "completed"
        },
        "tags": [],
        "id": "6b33a163",
        "outputId": "460c23ea-9be0-4830-c722-016d5c1fb817",
        "colab": {
          "base_uri": "https://localhost:8080/"
        }
      },
      "outputs": [
        {
          "output_type": "execute_result",
          "data": {
            "text/plain": [
              "5634"
            ]
          },
          "metadata": {},
          "execution_count": 16
        }
      ],
      "source": [
        "d['label'][d.label == 1] = -1\n",
        "d['label'][d.label == 0] = 1\n",
        "text = tfv.fit_transform(d['text'])\n",
        "\n",
        "LOF = LocalOutlierFactor(n_neighbors=23, contamination=0.1)\n",
        "LOFpred = LOF.fit_predict(text)\n",
        "\n",
        "n_true_preds = (LOFpred==d['label'].values).sum()\n",
        "n_true_preds"
      ]
    },
    {
      "cell_type": "code",
      "execution_count": null,
      "id": "169ae2c4",
      "metadata": {
        "execution": {
          "iopub.execute_input": "2022-09-11T18:18:48.247431Z",
          "iopub.status.busy": "2022-09-11T18:18:48.246659Z",
          "iopub.status.idle": "2022-09-11T18:18:48.254792Z",
          "shell.execute_reply": "2022-09-11T18:18:48.253530Z"
        },
        "papermill": {
          "duration": 0.024376,
          "end_time": "2022-09-11T18:18:48.257151",
          "exception": false,
          "start_time": "2022-09-11T18:18:48.232775",
          "status": "completed"
        },
        "tags": [],
        "id": "169ae2c4",
        "outputId": "975b624e-0051-4db0-88f9-99ac68b3b86d",
        "colab": {
          "base_uri": "https://localhost:8080/"
        }
      },
      "outputs": [
        {
          "output_type": "execute_result",
          "data": {
            "text/plain": [
              "0.4941238379231714"
            ]
          },
          "metadata": {},
          "execution_count": 17
        }
      ],
      "source": [
        "accuracy = n_true_preds/len(d['label'].values)\n",
        "accuracy"
      ]
    },
    {
      "cell_type": "code",
      "execution_count": null,
      "id": "b1aedd89",
      "metadata": {
        "execution": {
          "iopub.execute_input": "2022-09-11T18:18:48.283516Z",
          "iopub.status.busy": "2022-09-11T18:18:48.282667Z",
          "iopub.status.idle": "2022-09-11T18:18:48.297374Z",
          "shell.execute_reply": "2022-09-11T18:18:48.296304Z"
        },
        "papermill": {
          "duration": 0.030976,
          "end_time": "2022-09-11T18:18:48.300036",
          "exception": false,
          "start_time": "2022-09-11T18:18:48.269060",
          "status": "completed"
        },
        "tags": [],
        "id": "b1aedd89"
      },
      "outputs": [],
      "source": [
        "LOFpred_series = pd.Series(LOFpred)\n",
        "LOFpred_series[LOFpred_series == 1] = 0\n",
        "LOFpred_series[LOFpred_series == -1] = 1\n",
        "\n",
        "d['label'][d.label == 1] = 0\n",
        "d['label'][d.label == -1] = 1"
      ]
    },
    {
      "cell_type": "code",
      "execution_count": null,
      "id": "e70073f9",
      "metadata": {
        "execution": {
          "iopub.execute_input": "2022-09-11T18:18:48.326238Z",
          "iopub.status.busy": "2022-09-11T18:18:48.325447Z",
          "iopub.status.idle": "2022-09-11T18:18:48.500309Z",
          "shell.execute_reply": "2022-09-11T18:18:48.499371Z"
        },
        "papermill": {
          "duration": 0.190887,
          "end_time": "2022-09-11T18:18:48.502740",
          "exception": false,
          "start_time": "2022-09-11T18:18:48.311853",
          "status": "completed"
        },
        "tags": [],
        "id": "e70073f9",
        "outputId": "603f561f-8754-4d57-c505-c92eb4374b8b",
        "colab": {
          "base_uri": "https://localhost:8080/",
          "height": 472
        }
      },
      "outputs": [
        {
          "output_type": "display_data",
          "data": {
            "text/plain": [
              "<Figure size 640x480 with 1 Axes>"
            ],
            "image/png": "[encoded data removed]"
          },
          "metadata": {}
        }
      ],
      "source": [
        "confusionMatrix = ((confusion_matrix(d['label'], LOFpred_series))*0.2).round()\n",
        "\n",
        "sns.heatmap(confusionMatrix, annot=True, fmt='g', cbar=False, cmap='PiYG')\n",
        "plt.xlabel('Predicted Values')\n",
        "plt.ylabel('Actual Values')\n",
        "plt.show()"
      ]
    },
    {
      "cell_type": "markdown",
      "id": "88f16b80",
      "metadata": {
        "papermill": {
          "duration": 0.012015,
          "end_time": "2022-09-11T18:18:48.526975",
          "exception": false,
          "start_time": "2022-09-11T18:18:48.514960",
          "status": "completed"
        },
        "tags": [],
        "id": "88f16b80"
      },
      "source": [
        "##### The LocalOutlierFactor detector classified 5634 (49.41%) emails right by just the text of the email (without any learning from the target unlike the classifiers)."
      ]
    }
  ],
  "metadata": {
    "kernelspec": {
      "display_name": "Python 3",
      "language": "python",
      "name": "python3"
    },
    "language_info": {
      "codemirror_mode": {
        "name": "ipython",
        "version": 3
      },
      "file_extension": ".py",
      "mimetype": "text/x-python",
      "name": "python",
      "nbconvert_exporter": "python",
      "pygments_lexer": "ipython3",
      "version": "3.7.12"
    },
    "papermill": {
      "default_parameters": {},
      "duration": 266.724961,
      "end_time": "2022-09-11T18:18:49.564632",
      "environment_variables": {},
      "exception": null,
      "input_path": "__notebook__.ipynb",
      "output_path": "__notebook__.ipynb",
      "parameters": {},
      "start_time": "2022-09-11T18:14:22.839671",
      "version": "2.3.4"
    },
    "colab": {
      "provenance": []
    }
  },
  "nbformat": 4,
  "nbformat_minor": 5
}